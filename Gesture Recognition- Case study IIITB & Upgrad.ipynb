{
  "cells": [
    {
      "cell_type": "markdown",
      "metadata": {
        "id": "72EkBW9_iraC"
      },
      "source": [
        "# Gesture Recognition\n",
        "In this group project, you are going to build a 3D Conv model that will be able to predict the 5 gestures correctly. Please import the following libraries to get started."
      ]
    },
    {
      "cell_type": "code",
      "execution_count": 1,
      "metadata": {
        "id": "M8Jyeb9riraF"
      },
      "outputs": [],
      "source": [
        "import numpy as np\n",
        "import os\n",
        "#from scipy.misc import imread, imresize\n",
        "from skimage.transform import resize as imresize\n",
        "import datetime\n",
        "import os\n",
        "\n",
        "import imageio # using as an alternative of imread as it is deprecated\n",
        "from PIL import Image # using as an alternative of imread as it is deprecated\n",
        "import matplotlib.pyplot as plt\n",
        "%matplotlib inline\n",
        "\n",
        "import warnings\n",
        "warnings.filterwarnings('ignore')"
      ]
    },
    {
      "cell_type": "code",
      "execution_count": 2,
      "metadata": {
        "id": "4IXHXFgubl8V",
        "colab": {
          "base_uri": "https://localhost:8080/"
        },
        "outputId": "236ed7c9-d551-430d-cab8-9038615fddbd"
      },
      "outputs": [
        {
          "output_type": "stream",
          "name": "stdout",
          "text": [
            "Mounted at /content/drive\n"
          ]
        }
      ],
      "source": [
        "# loadthe data from gdrive\n",
        "\n",
        "from google.colab import drive\n",
        "drive.mount('/content/drive')"
      ]
    },
    {
      "cell_type": "code",
      "execution_count": 3,
      "metadata": {
        "id": "LYqDhdEllygR"
      },
      "outputs": [],
      "source": [
        "#unzip the dataset\n",
        "\n",
        "import zipfile\n",
        "zip_ref = zipfile.ZipFile('/content/drive/MyDrive/Project_data.zip', 'r')\n",
        "zip_ref.extractall('/content')\n",
        "zip_ref.close()"
      ]
    },
    {
      "cell_type": "markdown",
      "metadata": {
        "id": "BgO0lbPxiraG"
      },
      "source": [
        "We set the random seed so that the results don't vary drastically."
      ]
    },
    {
      "cell_type": "code",
      "execution_count": 4,
      "metadata": {
        "id": "dJCH8SaLiraG"
      },
      "outputs": [],
      "source": [
        "np.random.seed(30)\n",
        "import random as rn\n",
        "rn.seed(30)\n",
        "from keras import backend as K\n",
        "import tensorflow as tf\n",
        "tf.random.set_seed(30)"
      ]
    },
    {
      "cell_type": "markdown",
      "metadata": {
        "id": "kEHu99dqiraH"
      },
      "source": [
        "In this block, you read the folder names for training and validation. You also set the `batch_size` here. Note that you set the batch size in such a way that you are able to use the GPU in full capacity. You keep increasing the batch size until the machine throws an error."
      ]
    },
    {
      "cell_type": "code",
      "execution_count": 6,
      "metadata": {
        "id": "R93I3-0eiraH"
      },
      "outputs": [],
      "source": [
        "train_doc = np.random.permutation(open('/content/Project_data/train.csv').readlines())\n",
        "val_doc = np.random.permutation(open('/content/Project_data/val.csv').readlines())\n",
        "batch_size = 64 #experiment with the batch size"
      ]
    },
    {
      "cell_type": "markdown",
      "metadata": {
        "id": "NGCKuhxsiraH"
      },
      "source": [
        "## Generator\n",
        "This is one of the most important part of the code. The overall structure of the generator has been given. In the generator, you are going to preprocess the images as you have images of 2 different dimensions as well as create a batch of video frames. You have to experiment with `img_idx`, `y`,`z` and normalization such that you get high accuracy."
      ]
    },
    {
      "cell_type": "code",
      "execution_count": 7,
      "metadata": {
        "id": "YIWHhUwEiraI"
      },
      "outputs": [],
      "source": [
        "def generator(source_path, folder_list, batch_size):\n",
        "    print( 'Source path = ', source_path, '; batch size =', batch_size)\n",
        "    img_idx = [0,1,2,4,6,8,10,12,14,16,18,20,22,24,26,27,28,29]#create a list of image numbers you want to use for a particular video\n",
        "    while True:\n",
        "        t = np.random.permutation(folder_list)\n",
        "        num_batches = len(source_path)//batch_size # calculate the number of batches\n",
        "        for batch in range(num_batches): # we iterate over the number of batches\n",
        "            batch_data = np.zeros((batch_size,18,84,84,3)) # x is the number of images you use for each video, (y,z) is the final size of the input images and 3 is the number of channels RGB\n",
        "            batch_labels = np.zeros((batch_size,5)) # batch_labels is the one hot representation of the output\n",
        "            for folder in range(batch_size): # iterate over the batch_size\n",
        "                imgs = os.listdir(source_path+'/'+ t[folder + (batch*batch_size)].split(';')[0]) # read all the images in the folder\n",
        "                for idx,item in enumerate(img_idx): #  Iterate iver the frames/images of a folder to read them in\n",
        "                    image = imageio.imread(source_path+'/'+ t[folder + (batch*batch_size)].strip().split(';')[0]+'/'+imgs[item]).astype(np.float32)\n",
        "                    \n",
        "                    #crop the images and resize them. Note that the images are of 2 different shape \n",
        "                    #and the conv3D will throw error if the inputs in a batch have different shapes\n",
        "                    if image.shape[1] == 160:\n",
        "                        image = imresize(image[:,20:140,:],(84,84)).astype(np.float32) #cropping the (120X160) image to make (120X120)\n",
        "                    else:\n",
        "                        print(\"\")\n",
        "                        image = imresize(image,(84,84)).astype(np.float32)\n",
        "                    batch_data[folder,idx,:,:,0] = 104 #normalise and feed in the image\n",
        "                    batch_data[folder,idx,:,:,1] = 117 #normalise and feed in the image\n",
        "                    batch_data[folder,idx,:,:,2] = 123 #normalise and feed in the image\n",
        "                    \n",
        "                batch_labels[folder, int(t[folder + (batch*batch_size)].strip().split(';')[2])] = 1\n",
        "            yield batch_data, batch_labels #you yield the batch_data and the batch_labels, remember what does yield do\n",
        "\n",
        "        \n",
        "        # write the code for the remaining data points which are left after full batches\n",
        "        if(len(t)%batch_size!=0):\n",
        "            batch_data = np.zeros((len(t)%batch_size,18,84,84,3)) # x is the number of images you use for each video, (y,z) is the final size of the input images and 3 is the number of channels RGB\n",
        "            batch_labels = np.zeros((len(t)%batch_size,5)) # batch_labels is the one hot representation of the output\n",
        "            for folder in range(len(t)%batch_size): # iterate over the batch_size\n",
        "                imgs = os.listdir(source_path+'/'+ t[folder + (num_batches*(len(t)%batch_size))].split(';')[0]) # read all the images in the folder\n",
        "                for idx,item in enumerate(img_idx): #  Iterate iver the frames/images of a folder to read them in\n",
        "                    image = imageio.imread(source_path+'/'+ t[folder + (num_batches*(len(t)%batch_size))].strip().split(';')[0]+'/'+imgs[item]).astype(np.float32)\n",
        "                    \n",
        "                    #crop the images and resize them. Note that the images are of 2 different shape \n",
        "                    #and the conv3D will throw error if the inputs in a batch have different shapes\n",
        "\n",
        "                    if image.shape[1] == 160:\n",
        "                        image = imresize(image[:,20:140,:],(84,84)).astype(np.float32)\n",
        "                    else:\n",
        "                        image = imresize(image,(84,84)).astype(np.float32)\n",
        "                    # Normalizing RGB image with mean subtraction\n",
        "                    batch_data[folder,idx,:,:,0] = image[:,:,0] - 104\n",
        "                    batch_data[folder,idx,:,:,1] = image[:,:,1] - 117\n",
        "                    batch_data[folder,idx,:,:,2] = image[:,:,2] - 123\n",
        "                                        \n",
        "                batch_labels[folder, int(t[folder + (num_batches*(len(t)%batch_size))].strip().split(';')[2])] = 1\n",
        "            yield batch_data, batch_labels #you yield the batch_data and the batch_labels, remember what does yield do\n",
        "\n"
      ]
    },
    {
      "cell_type": "markdown",
      "metadata": {
        "id": "-Bafu7VWiraJ"
      },
      "source": [
        "Note here that a video is represented above in the generator as (number of images, height, width, number of channels). Take this into consideration while creating the model architecture."
      ]
    },
    {
      "cell_type": "code",
      "execution_count": 18,
      "metadata": {
        "colab": {
          "base_uri": "https://localhost:8080/"
        },
        "id": "N62GBuj2iraJ",
        "outputId": "c19799a6-080f-412b-9b3f-bb4339bcc86c"
      },
      "outputs": [
        {
          "output_type": "stream",
          "name": "stdout",
          "text": [
            "# training sequences = 663\n",
            "# validation sequences = 100\n",
            "# epochs = 40\n"
          ]
        }
      ],
      "source": [
        "curr_dt_time = datetime.datetime.now()\n",
        "train_path = '/content/Project_data/train'\n",
        "val_path = '/content/Project_data/val'\n",
        "num_train_sequences = len(train_doc)\n",
        "print('# training sequences =', num_train_sequences)\n",
        "num_val_sequences = len(val_doc)\n",
        "print('# validation sequences =', num_val_sequences)\n",
        "num_epochs = 40 # choose the number of epochs\n",
        "print ('# epochs =', num_epochs)"
      ]
    },
    {
      "cell_type": "code",
      "execution_count": 9,
      "metadata": {
        "id": "HAsWrXLwnspD"
      },
      "outputs": [],
      "source": [
        "from keras.models import Sequential, Model\n",
        "from keras.layers import Dense, GRU, Flatten, TimeDistributed, Flatten, BatchNormalization, Activation,Dropout,GlobalAveragePooling3D,GlobalAveragePooling2D,ConvLSTM2D\n",
        "from keras.layers.convolutional import Conv3D, MaxPooling3D, MaxPooling2D,Conv2D\n",
        "from keras.callbacks import ModelCheckpoint, ReduceLROnPlateau\n",
        "from keras import optimizers\n",
        "from keras.optimizers import Adam"
      ]
    },
    {
      "cell_type": "markdown",
      "metadata": {
        "id": "fVT8Vb8giraL"
      },
      "source": [
        "Let us create the `train_generator` and the `val_generator` which will be used in `.fit_generator`."
      ]
    },
    {
      "cell_type": "code",
      "execution_count": 10,
      "metadata": {
        "id": "0Mlq8pcmiraL"
      },
      "outputs": [],
      "source": [
        "train_generator = generator(train_path, train_doc, batch_size)\n",
        "val_generator = generator(val_path, val_doc, batch_size)"
      ]
    },
    {
      "cell_type": "code",
      "execution_count": 11,
      "metadata": {
        "id": "PME1l7P-iraL"
      },
      "outputs": [],
      "source": [
        "model_name = 'model_init' + '_' + str(curr_dt_time).replace(' ','').replace(':','_') + '/'\n",
        "    \n",
        "if not os.path.exists(model_name):\n",
        "    os.mkdir(model_name)\n",
        "        \n",
        "filepath = model_name + 'model-{epoch:05d}-{loss:.5f}-{categorical_accuracy:.5f}-{val_loss:.5f}-{val_categorical_accuracy:.5f}.h5'\n",
        "\n",
        "checkpoint = ModelCheckpoint(filepath, monitor='val_loss', verbose=1, save_best_only=False, save_weights_only=False, mode='auto')\n",
        "\n",
        "LR = ReduceLROnPlateau(monitor='val_loss', factor=0.5, patience=2, verbose=1, mode='min', min_delta=0.0001, cooldown=0, min_lr=0.00001)\n",
        "callbacks_list = [checkpoint, LR]"
      ]
    },
    {
      "cell_type": "markdown",
      "metadata": {
        "id": "Sro9QAXqiraL"
      },
      "source": [
        "The `steps_per_epoch` and `validation_steps` are used by `fit_generator` to decide the number of next() calls it need to make."
      ]
    },
    {
      "cell_type": "code",
      "execution_count": 12,
      "metadata": {
        "id": "I3WRmk60iraL"
      },
      "outputs": [],
      "source": [
        "if (num_train_sequences%batch_size) == 0:\n",
        "    steps_per_epoch = int(num_train_sequences/batch_size)\n",
        "else:\n",
        "    steps_per_epoch = (num_train_sequences//batch_size) + 1\n",
        "\n",
        "if (num_val_sequences%batch_size) == 0:\n",
        "    validation_steps = int(num_val_sequences/batch_size)\n",
        "else:\n",
        "    validation_steps = (num_val_sequences//batch_size) + 1"
      ]
    },
    {
      "cell_type": "markdown",
      "metadata": {
        "id": "2aBdhjaDiraK"
      },
      "source": [
        "## Model\n",
        "Here you make the model using different functionalities that Keras provides. Remember to use `Conv3D` and `MaxPooling3D` and not `Conv2D` and `Maxpooling2D` for a 3D convolution model. You would want to use `TimeDistributed` while building a Conv2D + RNN model. Also remember that the last layer is the softmax. Design the network in such a way that the model is able to give good accuracy on the least number of parameters so that it can fit in the memory of the webcam."
      ]
    },
    {
      "cell_type": "markdown",
      "metadata": {
        "id": "qc8ne3asnspE"
      },
      "source": [
        "### 1. Model Conv3D"
      ]
    },
    {
      "cell_type": "code",
      "execution_count": null,
      "metadata": {
        "id": "Bm-nIZGBiraK",
        "outputId": "6540aaad-7d37-4494-ef22-b6cd380465f4"
      },
      "outputs": [
        {
          "name": "stderr",
          "output_type": "stream",
          "text": [
            "2022-12-11 14:28:48.904413: W tensorflow/core/common_runtime/gpu/gpu_bfc_allocator.cc:39] Overriding allow_growth setting because the TF_FORCE_GPU_ALLOW_GROWTH environment variable is set. Original config value was 0.\n",
            "2022-12-11 14:28:48.904483: I tensorflow/core/common_runtime/gpu/gpu_device.cc:1525] Created device /job:localhost/replica:0/task:0/device:GPU:0 with 14802 MB memory:  -> device: 0, name: Quadro RTX 5000, pci bus id: 0000:1b:00.0, compute capability: 7.5\n"
          ]
        }
      ],
      "source": [
        "#write your model here\n",
        "Input_shape = (18, 84, 84, 3)\n",
        "\n",
        "model = Sequential()\n",
        "model.add(Conv3D(64, (3,3,3), padding='same', input_shape=(18,84,84,3)))\n",
        "model.add(BatchNormalization())\n",
        "model.add(Activation('elu'))\n",
        "model.add(MaxPooling3D(pool_size=(2,2,1), strides=(2,2,1)))\n",
        "\n",
        "model.add(Conv3D(128, (3,3,3), padding='same'))\n",
        "model.add(BatchNormalization())\n",
        "model.add(Activation('elu'))\n",
        "model.add(MaxPooling3D(pool_size=(2,2,2), strides=(2,2,2)))\n",
        "\n",
        "model.add(Conv3D(256, (3,3,3), padding='same'))\n",
        "model.add(BatchNormalization())\n",
        "model.add(Activation('elu'))\n",
        "model.add(MaxPooling3D(pool_size=(2,2,2), strides=(2,2,2)))\n",
        "\n",
        "model.add(Conv3D(256, (3,3,3), padding='same'))\n",
        "model.add(BatchNormalization())\n",
        "model.add(Activation('elu'))\n",
        "model.add(MaxPooling3D(pool_size=(2,2,2), strides=(2,2,2)))\n",
        "\n",
        "model.add(Flatten())\n",
        "model.add(Dropout(0.5))\n",
        "model.add(Dense(512, activation='elu'))\n",
        "model.add(Dropout(0.5))\n",
        "model.add(Dense(5, activation='softmax'))\n"
      ]
    },
    {
      "cell_type": "markdown",
      "metadata": {
        "id": "D23Zku-ZiraK"
      },
      "source": [
        "Now that you have written the model, the next step is to `compile` the model. When you print the `summary` of the model, you'll see the total number of parameters you have to train."
      ]
    },
    {
      "cell_type": "code",
      "execution_count": null,
      "metadata": {
        "colab": {
          "base_uri": "https://localhost:8080/"
        },
        "id": "kT4vVlAviraK",
        "outputId": "8cd662ee-feb8-47ab-844d-40f3244b98f4",
        "scrolled": true
      },
      "outputs": [
        {
          "name": "stdout",
          "output_type": "stream",
          "text": [
            "Model: \"sequential\"\n",
            "_________________________________________________________________\n",
            " Layer (type)                Output Shape              Param #   \n",
            "=================================================================\n",
            " conv3d (Conv3D)             (None, 18, 84, 84, 64)    5248      \n",
            "                                                                 \n",
            " batch_normalization (BatchN  (None, 18, 84, 84, 64)   256       \n",
            " ormalization)                                                   \n",
            "                                                                 \n",
            " activation (Activation)     (None, 18, 84, 84, 64)    0         \n",
            "                                                                 \n",
            " max_pooling3d (MaxPooling3D  (None, 9, 42, 84, 64)    0         \n",
            " )                                                               \n",
            "                                                                 \n",
            " conv3d_1 (Conv3D)           (None, 9, 42, 84, 128)    221312    \n",
            "                                                                 \n",
            " batch_normalization_1 (Batc  (None, 9, 42, 84, 128)   512       \n",
            " hNormalization)                                                 \n",
            "                                                                 \n",
            " activation_1 (Activation)   (None, 9, 42, 84, 128)    0         \n",
            "                                                                 \n",
            " max_pooling3d_1 (MaxPooling  (None, 4, 21, 42, 128)   0         \n",
            " 3D)                                                             \n",
            "                                                                 \n",
            " conv3d_2 (Conv3D)           (None, 4, 21, 42, 256)    884992    \n",
            "                                                                 \n",
            " batch_normalization_2 (Batc  (None, 4, 21, 42, 256)   1024      \n",
            " hNormalization)                                                 \n",
            "                                                                 \n",
            " activation_2 (Activation)   (None, 4, 21, 42, 256)    0         \n",
            "                                                                 \n",
            " max_pooling3d_2 (MaxPooling  (None, 2, 10, 21, 256)   0         \n",
            " 3D)                                                             \n",
            "                                                                 \n",
            " conv3d_3 (Conv3D)           (None, 2, 10, 21, 256)    1769728   \n",
            "                                                                 \n",
            " batch_normalization_3 (Batc  (None, 2, 10, 21, 256)   1024      \n",
            " hNormalization)                                                 \n",
            "                                                                 \n",
            " activation_3 (Activation)   (None, 2, 10, 21, 256)    0         \n",
            "                                                                 \n",
            " max_pooling3d_3 (MaxPooling  (None, 1, 5, 10, 256)    0         \n",
            " 3D)                                                             \n",
            "                                                                 \n",
            " flatten (Flatten)           (None, 12800)             0         \n",
            "                                                                 \n",
            " dropout (Dropout)           (None, 12800)             0         \n",
            "                                                                 \n",
            " dense (Dense)               (None, 512)               6554112   \n",
            "                                                                 \n",
            " dropout_1 (Dropout)         (None, 512)               0         \n",
            "                                                                 \n",
            " dense_1 (Dense)             (None, 5)                 2565      \n",
            "                                                                 \n",
            "=================================================================\n",
            "Total params: 9,440,773\n",
            "Trainable params: 9,439,365\n",
            "Non-trainable params: 1,408\n",
            "_________________________________________________________________\n",
            "None\n"
          ]
        }
      ],
      "source": [
        "optimiser = tf.keras.optimizers.SGD(lr=0.001, decay=1e-6, momentum=0.9, nesterov=True)\n",
        "model.compile(optimizer=optimiser, loss='categorical_crossentropy', metrics=['categorical_accuracy'])\n",
        "print (model.summary())"
      ]
    },
    {
      "cell_type": "markdown",
      "metadata": {
        "id": "YY3L6KMFiraL"
      },
      "source": [
        "Let us now fit the model. This will start training the model and with the help of the checkpoints, you'll be able to save the model at the end of each epoch."
      ]
    },
    {
      "cell_type": "code",
      "execution_count": 19,
      "metadata": {
        "colab": {
          "base_uri": "https://localhost:8080/"
        },
        "id": "umcI0QMdiraM",
        "outputId": "2708f32c-f1b3-4400-84ce-1f7d2f852fa3"
      },
      "outputs": [
        {
          "output_type": "stream",
          "name": "stdout",
          "text": [
            "Epoch 1/40\n",
            "11/11 [==============================] - ETA: 0s - loss: 0.7263 - categorical_accuracy: 0.6917\n",
            "Epoch 1: saving model to model_init_2022-12-1301_29_53.471139/model-00001-0.72633-0.69170-0.75147-0.75000.h5\n",
            "11/11 [==============================] - 62s 6s/step - loss: 0.7263 - categorical_accuracy: 0.6917 - val_loss: 0.7515 - val_categorical_accuracy: 0.7500 - lr: 1.0000e-05\n",
            "Epoch 2/40\n",
            "11/11 [==============================] - ETA: 0s - loss: 0.6295 - categorical_accuracy: 0.7668\n",
            "Epoch 2: saving model to model_init_2022-12-1301_29_53.471139/model-00002-0.62951-0.76680-0.55618-0.75000.h5\n",
            "11/11 [==============================] - 66s 7s/step - loss: 0.6295 - categorical_accuracy: 0.7668 - val_loss: 0.5562 - val_categorical_accuracy: 0.7500 - lr: 1.0000e-05\n",
            "Epoch 3/40\n",
            "11/11 [==============================] - ETA: 0s - loss: 0.7497 - categorical_accuracy: 0.7352\n",
            "Epoch 3: saving model to model_init_2022-12-1301_29_53.471139/model-00003-0.74968-0.73518-0.61255-0.72222.h5\n",
            "11/11 [==============================] - 62s 6s/step - loss: 0.7497 - categorical_accuracy: 0.7352 - val_loss: 0.6126 - val_categorical_accuracy: 0.7222 - lr: 1.0000e-05\n",
            "Epoch 4/40\n",
            "11/11 [==============================] - ETA: 0s - loss: 0.6259 - categorical_accuracy: 0.7470\n",
            "Epoch 4: saving model to model_init_2022-12-1301_29_53.471139/model-00004-0.62588-0.74704-0.55185-0.77778.h5\n",
            "11/11 [==============================] - 65s 6s/step - loss: 0.6259 - categorical_accuracy: 0.7470 - val_loss: 0.5519 - val_categorical_accuracy: 0.7778 - lr: 1.0000e-05\n",
            "Epoch 5/40\n",
            "11/11 [==============================] - ETA: 0s - loss: 0.8193 - categorical_accuracy: 0.6996\n",
            "Epoch 5: saving model to model_init_2022-12-1301_29_53.471139/model-00005-0.81931-0.69960-0.69868-0.69444.h5\n",
            "11/11 [==============================] - 62s 6s/step - loss: 0.8193 - categorical_accuracy: 0.6996 - val_loss: 0.6987 - val_categorical_accuracy: 0.6944 - lr: 1.0000e-05\n",
            "Epoch 6/40\n",
            "11/11 [==============================] - ETA: 0s - loss: 0.5871 - categorical_accuracy: 0.7628\n",
            "Epoch 6: saving model to model_init_2022-12-1301_29_53.471139/model-00006-0.58706-0.76285-0.69615-0.70833.h5\n",
            "11/11 [==============================] - 64s 6s/step - loss: 0.5871 - categorical_accuracy: 0.7628 - val_loss: 0.6962 - val_categorical_accuracy: 0.7083 - lr: 1.0000e-05\n",
            "Epoch 7/40\n",
            "11/11 [==============================] - ETA: 0s - loss: 0.7686 - categorical_accuracy: 0.7115\n",
            "Epoch 7: saving model to model_init_2022-12-1301_29_53.471139/model-00007-0.76862-0.71146-0.79394-0.73611.h5\n",
            "11/11 [==============================] - 62s 6s/step - loss: 0.7686 - categorical_accuracy: 0.7115 - val_loss: 0.7939 - val_categorical_accuracy: 0.7361 - lr: 1.0000e-05\n",
            "Epoch 8/40\n",
            "11/11 [==============================] - ETA: 0s - loss: 0.8029 - categorical_accuracy: 0.7154\n",
            "Epoch 8: saving model to model_init_2022-12-1301_29_53.471139/model-00008-0.80288-0.71542-0.73337-0.76389.h5\n",
            "11/11 [==============================] - 64s 6s/step - loss: 0.8029 - categorical_accuracy: 0.7154 - val_loss: 0.7334 - val_categorical_accuracy: 0.7639 - lr: 1.0000e-05\n",
            "Epoch 9/40\n",
            "11/11 [==============================] - ETA: 0s - loss: 0.6296 - categorical_accuracy: 0.7628\n",
            "Epoch 9: saving model to model_init_2022-12-1301_29_53.471139/model-00009-0.62962-0.76285-0.65902-0.75000.h5\n",
            "11/11 [==============================] - 70s 7s/step - loss: 0.6296 - categorical_accuracy: 0.7628 - val_loss: 0.6590 - val_categorical_accuracy: 0.7500 - lr: 1.0000e-05\n",
            "Epoch 10/40\n",
            "11/11 [==============================] - ETA: 0s - loss: 0.5557 - categorical_accuracy: 0.7866\n",
            "Epoch 10: saving model to model_init_2022-12-1301_29_53.471139/model-00010-0.55568-0.78656-0.63350-0.76389.h5\n",
            "11/11 [==============================] - 64s 6s/step - loss: 0.5557 - categorical_accuracy: 0.7866 - val_loss: 0.6335 - val_categorical_accuracy: 0.7639 - lr: 1.0000e-05\n",
            "Epoch 11/40\n",
            "11/11 [==============================] - ETA: 0s - loss: 0.6897 - categorical_accuracy: 0.7352\n",
            "Epoch 11: saving model to model_init_2022-12-1301_29_53.471139/model-00011-0.68965-0.73518-0.59246-0.81944.h5\n",
            "11/11 [==============================] - 70s 7s/step - loss: 0.6897 - categorical_accuracy: 0.7352 - val_loss: 0.5925 - val_categorical_accuracy: 0.8194 - lr: 1.0000e-05\n",
            "Epoch 12/40\n",
            "11/11 [==============================] - ETA: 0s - loss: 0.7359 - categorical_accuracy: 0.7312\n",
            "Epoch 12: saving model to model_init_2022-12-1301_29_53.471139/model-00012-0.73590-0.73123-0.52935-0.77778.h5\n",
            "11/11 [==============================] - 66s 7s/step - loss: 0.7359 - categorical_accuracy: 0.7312 - val_loss: 0.5294 - val_categorical_accuracy: 0.7778 - lr: 1.0000e-05\n",
            "Epoch 13/40\n",
            "11/11 [==============================] - ETA: 0s - loss: 0.7146 - categorical_accuracy: 0.7391\n",
            "Epoch 13: saving model to model_init_2022-12-1301_29_53.471139/model-00013-0.71463-0.73913-0.77081-0.75000.h5\n",
            "11/11 [==============================] - 61s 6s/step - loss: 0.7146 - categorical_accuracy: 0.7391 - val_loss: 0.7708 - val_categorical_accuracy: 0.7500 - lr: 1.0000e-05\n",
            "Epoch 14/40\n",
            "11/11 [==============================] - ETA: 0s - loss: 0.6008 - categorical_accuracy: 0.7391\n",
            "Epoch 14: saving model to model_init_2022-12-1301_29_53.471139/model-00014-0.60076-0.73913-0.69820-0.72222.h5\n",
            "11/11 [==============================] - 67s 7s/step - loss: 0.6008 - categorical_accuracy: 0.7391 - val_loss: 0.6982 - val_categorical_accuracy: 0.7222 - lr: 1.0000e-05\n",
            "Epoch 15/40\n",
            "11/11 [==============================] - ETA: 0s - loss: 0.6466 - categorical_accuracy: 0.7668\n",
            "Epoch 15: saving model to model_init_2022-12-1301_29_53.471139/model-00015-0.64661-0.76680-0.69480-0.68056.h5\n",
            "11/11 [==============================] - 66s 7s/step - loss: 0.6466 - categorical_accuracy: 0.7668 - val_loss: 0.6948 - val_categorical_accuracy: 0.6806 - lr: 1.0000e-05\n",
            "Epoch 16/40\n",
            "11/11 [==============================] - ETA: 0s - loss: 0.6653 - categorical_accuracy: 0.7510\n",
            "Epoch 16: saving model to model_init_2022-12-1301_29_53.471139/model-00016-0.66534-0.75099-0.62059-0.72222.h5\n",
            "11/11 [==============================] - 67s 7s/step - loss: 0.6653 - categorical_accuracy: 0.7510 - val_loss: 0.6206 - val_categorical_accuracy: 0.7222 - lr: 1.0000e-05\n",
            "Epoch 17/40\n",
            "11/11 [==============================] - ETA: 0s - loss: 0.7584 - categorical_accuracy: 0.7391\n",
            "Epoch 17: saving model to model_init_2022-12-1301_29_53.471139/model-00017-0.75836-0.73913-0.63750-0.79167.h5\n",
            "11/11 [==============================] - 62s 6s/step - loss: 0.7584 - categorical_accuracy: 0.7391 - val_loss: 0.6375 - val_categorical_accuracy: 0.7917 - lr: 1.0000e-05\n",
            "Epoch 18/40\n",
            "11/11 [==============================] - ETA: 0s - loss: 0.6360 - categorical_accuracy: 0.7708\n",
            "Epoch 18: saving model to model_init_2022-12-1301_29_53.471139/model-00018-0.63597-0.77075-0.71513-0.76389.h5\n",
            "11/11 [==============================] - 66s 6s/step - loss: 0.6360 - categorical_accuracy: 0.7708 - val_loss: 0.7151 - val_categorical_accuracy: 0.7639 - lr: 1.0000e-05\n",
            "Epoch 19/40\n",
            "11/11 [==============================] - ETA: 0s - loss: 0.6128 - categorical_accuracy: 0.7549\n",
            "Epoch 19: saving model to model_init_2022-12-1301_29_53.471139/model-00019-0.61282-0.75494-0.66496-0.76389.h5\n",
            "11/11 [==============================] - 69s 7s/step - loss: 0.6128 - categorical_accuracy: 0.7549 - val_loss: 0.6650 - val_categorical_accuracy: 0.7639 - lr: 1.0000e-05\n",
            "Epoch 20/40\n",
            "11/11 [==============================] - ETA: 0s - loss: 0.6200 - categorical_accuracy: 0.7668\n",
            "Epoch 20: saving model to model_init_2022-12-1301_29_53.471139/model-00020-0.62000-0.76680-0.66076-0.79167.h5\n",
            "11/11 [==============================] - 65s 6s/step - loss: 0.6200 - categorical_accuracy: 0.7668 - val_loss: 0.6608 - val_categorical_accuracy: 0.7917 - lr: 1.0000e-05\n",
            "Epoch 21/40\n",
            "11/11 [==============================] - ETA: 0s - loss: 0.6544 - categorical_accuracy: 0.7510\n",
            "Epoch 21: saving model to model_init_2022-12-1301_29_53.471139/model-00021-0.65436-0.75099-0.77580-0.70833.h5\n",
            "11/11 [==============================] - 65s 6s/step - loss: 0.6544 - categorical_accuracy: 0.7510 - val_loss: 0.7758 - val_categorical_accuracy: 0.7083 - lr: 1.0000e-05\n",
            "Epoch 22/40\n",
            "11/11 [==============================] - ETA: 0s - loss: 0.5918 - categorical_accuracy: 0.7787\n",
            "Epoch 22: saving model to model_init_2022-12-1301_29_53.471139/model-00022-0.59177-0.77866-0.58843-0.76389.h5\n",
            "11/11 [==============================] - 63s 6s/step - loss: 0.5918 - categorical_accuracy: 0.7787 - val_loss: 0.5884 - val_categorical_accuracy: 0.7639 - lr: 1.0000e-05\n",
            "Epoch 23/40\n",
            "11/11 [==============================] - ETA: 0s - loss: 0.7510 - categorical_accuracy: 0.6996\n",
            "Epoch 23: saving model to model_init_2022-12-1301_29_53.471139/model-00023-0.75103-0.69960-0.74317-0.69444.h5\n",
            "11/11 [==============================] - 63s 6s/step - loss: 0.7510 - categorical_accuracy: 0.6996 - val_loss: 0.7432 - val_categorical_accuracy: 0.6944 - lr: 1.0000e-05\n",
            "Epoch 24/40\n",
            "11/11 [==============================] - ETA: 0s - loss: 0.6814 - categorical_accuracy: 0.7391\n",
            "Epoch 24: saving model to model_init_2022-12-1301_29_53.471139/model-00024-0.68137-0.73913-0.50211-0.81944.h5\n",
            "11/11 [==============================] - 65s 6s/step - loss: 0.6814 - categorical_accuracy: 0.7391 - val_loss: 0.5021 - val_categorical_accuracy: 0.8194 - lr: 1.0000e-05\n",
            "Epoch 25/40\n",
            "11/11 [==============================] - ETA: 0s - loss: 0.5892 - categorical_accuracy: 0.7708\n",
            "Epoch 25: saving model to model_init_2022-12-1301_29_53.471139/model-00025-0.58919-0.77075-0.58060-0.79167.h5\n",
            "11/11 [==============================] - 63s 6s/step - loss: 0.5892 - categorical_accuracy: 0.7708 - val_loss: 0.5806 - val_categorical_accuracy: 0.7917 - lr: 1.0000e-05\n",
            "Epoch 26/40\n",
            "11/11 [==============================] - ETA: 0s - loss: 0.6942 - categorical_accuracy: 0.7273\n",
            "Epoch 26: saving model to model_init_2022-12-1301_29_53.471139/model-00026-0.69417-0.72727-0.74643-0.75000.h5\n",
            "11/11 [==============================] - 67s 7s/step - loss: 0.6942 - categorical_accuracy: 0.7273 - val_loss: 0.7464 - val_categorical_accuracy: 0.7500 - lr: 1.0000e-05\n",
            "Epoch 27/40\n",
            "11/11 [==============================] - ETA: 0s - loss: 0.5681 - categorical_accuracy: 0.7866\n",
            "Epoch 27: saving model to model_init_2022-12-1301_29_53.471139/model-00027-0.56808-0.78656-0.88177-0.66667.h5\n",
            "11/11 [==============================] - 60s 6s/step - loss: 0.5681 - categorical_accuracy: 0.7866 - val_loss: 0.8818 - val_categorical_accuracy: 0.6667 - lr: 1.0000e-05\n",
            "Epoch 28/40\n",
            "11/11 [==============================] - ETA: 0s - loss: 0.5857 - categorical_accuracy: 0.7787\n",
            "Epoch 28: saving model to model_init_2022-12-1301_29_53.471139/model-00028-0.58573-0.77866-0.66452-0.72222.h5\n",
            "11/11 [==============================] - 69s 7s/step - loss: 0.5857 - categorical_accuracy: 0.7787 - val_loss: 0.6645 - val_categorical_accuracy: 0.7222 - lr: 1.0000e-05\n",
            "Epoch 29/40\n",
            "11/11 [==============================] - ETA: 0s - loss: 0.4868 - categorical_accuracy: 0.8340\n",
            "Epoch 29: saving model to model_init_2022-12-1301_29_53.471139/model-00029-0.48677-0.83399-0.75032-0.69444.h5\n",
            "11/11 [==============================] - 69s 7s/step - loss: 0.4868 - categorical_accuracy: 0.8340 - val_loss: 0.7503 - val_categorical_accuracy: 0.6944 - lr: 1.0000e-05\n",
            "Epoch 30/40\n",
            "11/11 [==============================] - ETA: 0s - loss: 0.8001 - categorical_accuracy: 0.7312\n",
            "Epoch 30: saving model to model_init_2022-12-1301_29_53.471139/model-00030-0.80014-0.73123-0.58915-0.77778.h5\n",
            "11/11 [==============================] - 67s 7s/step - loss: 0.8001 - categorical_accuracy: 0.7312 - val_loss: 0.5891 - val_categorical_accuracy: 0.7778 - lr: 1.0000e-05\n",
            "Epoch 31/40\n",
            "11/11 [==============================] - ETA: 0s - loss: 0.6429 - categorical_accuracy: 0.7431\n",
            "Epoch 31: saving model to model_init_2022-12-1301_29_53.471139/model-00031-0.64285-0.74308-0.63669-0.73611.h5\n",
            "11/11 [==============================] - 72s 7s/step - loss: 0.6429 - categorical_accuracy: 0.7431 - val_loss: 0.6367 - val_categorical_accuracy: 0.7361 - lr: 1.0000e-05\n",
            "Epoch 32/40\n",
            "11/11 [==============================] - ETA: 0s - loss: 0.6877 - categorical_accuracy: 0.7352\n",
            "Epoch 32: saving model to model_init_2022-12-1301_29_53.471139/model-00032-0.68772-0.73518-0.90079-0.68056.h5\n",
            "11/11 [==============================] - 62s 6s/step - loss: 0.6877 - categorical_accuracy: 0.7352 - val_loss: 0.9008 - val_categorical_accuracy: 0.6806 - lr: 1.0000e-05\n",
            "Epoch 33/40\n",
            "11/11 [==============================] - ETA: 0s - loss: 0.5844 - categorical_accuracy: 0.7708\n",
            "Epoch 33: saving model to model_init_2022-12-1301_29_53.471139/model-00033-0.58437-0.77075-0.70260-0.72222.h5\n",
            "11/11 [==============================] - 68s 7s/step - loss: 0.5844 - categorical_accuracy: 0.7708 - val_loss: 0.7026 - val_categorical_accuracy: 0.7222 - lr: 1.0000e-05\n",
            "Epoch 34/40\n",
            "11/11 [==============================] - ETA: 0s - loss: 0.8056 - categorical_accuracy: 0.7075\n",
            "Epoch 34: saving model to model_init_2022-12-1301_29_53.471139/model-00034-0.80559-0.70751-0.67192-0.76389.h5\n",
            "11/11 [==============================] - 60s 6s/step - loss: 0.8056 - categorical_accuracy: 0.7075 - val_loss: 0.6719 - val_categorical_accuracy: 0.7639 - lr: 1.0000e-05\n",
            "Epoch 35/40\n",
            "11/11 [==============================] - ETA: 0s - loss: 0.6166 - categorical_accuracy: 0.7668\n",
            "Epoch 35: saving model to model_init_2022-12-1301_29_53.471139/model-00035-0.61658-0.76680-0.68925-0.70833.h5\n",
            "11/11 [==============================] - 63s 6s/step - loss: 0.6166 - categorical_accuracy: 0.7668 - val_loss: 0.6892 - val_categorical_accuracy: 0.7083 - lr: 1.0000e-05\n",
            "Epoch 36/40\n",
            "11/11 [==============================] - ETA: 0s - loss: 0.6153 - categorical_accuracy: 0.7352\n",
            "Epoch 36: saving model to model_init_2022-12-1301_29_53.471139/model-00036-0.61531-0.73518-0.56751-0.75000.h5\n",
            "11/11 [==============================] - 60s 6s/step - loss: 0.6153 - categorical_accuracy: 0.7352 - val_loss: 0.5675 - val_categorical_accuracy: 0.7500 - lr: 1.0000e-05\n",
            "Epoch 37/40\n",
            "11/11 [==============================] - ETA: 0s - loss: 0.7390 - categorical_accuracy: 0.7273\n",
            "Epoch 37: saving model to model_init_2022-12-1301_29_53.471139/model-00037-0.73897-0.72727-0.59323-0.76389.h5\n",
            "11/11 [==============================] - 67s 7s/step - loss: 0.7390 - categorical_accuracy: 0.7273 - val_loss: 0.5932 - val_categorical_accuracy: 0.7639 - lr: 1.0000e-05\n",
            "Epoch 38/40\n",
            "11/11 [==============================] - ETA: 0s - loss: 0.5437 - categorical_accuracy: 0.7984\n",
            "Epoch 38: saving model to model_init_2022-12-1301_29_53.471139/model-00038-0.54373-0.79842-0.54003-0.79167.h5\n",
            "11/11 [==============================] - 69s 7s/step - loss: 0.5437 - categorical_accuracy: 0.7984 - val_loss: 0.5400 - val_categorical_accuracy: 0.7917 - lr: 1.0000e-05\n",
            "Epoch 39/40\n",
            "11/11 [==============================] - ETA: 0s - loss: 0.6040 - categorical_accuracy: 0.8024\n",
            "Epoch 39: saving model to model_init_2022-12-1301_29_53.471139/model-00039-0.60399-0.80237-0.65289-0.70833.h5\n",
            "11/11 [==============================] - 60s 6s/step - loss: 0.6040 - categorical_accuracy: 0.8024 - val_loss: 0.6529 - val_categorical_accuracy: 0.7083 - lr: 1.0000e-05\n",
            "Epoch 40/40\n",
            "11/11 [==============================] - ETA: 0s - loss: 0.6056 - categorical_accuracy: 0.7747\n",
            "Epoch 40: saving model to model_init_2022-12-1301_29_53.471139/model-00040-0.60562-0.77470-0.67845-0.72222.h5\n",
            "11/11 [==============================] - 66s 6s/step - loss: 0.6056 - categorical_accuracy: 0.7747 - val_loss: 0.6784 - val_categorical_accuracy: 0.7222 - lr: 1.0000e-05\n"
          ]
        }
      ],
      "source": [
        "history = model.fit(train_generator, steps_per_epoch = steps_per_epoch, epochs=num_epochs, verbose=1, \n",
        "                    callbacks=callbacks_list, validation_data=val_generator, \n",
        "                    validation_steps= validation_steps, class_weight=None, workers=1, initial_epoch=0)"
      ]
    },
    {
      "cell_type": "code",
      "execution_count": null,
      "metadata": {
        "id": "ngEEYYrFnspG",
        "outputId": "b5178112-8d52-433f-a44d-19e6c38851ac"
      },
      "outputs": [
        {
          "data": {
            "text/plain": [
              "<matplotlib.legend.Legend at 0x7f8ed53328b0>"
            ]
          },
          "execution_count": 15,
          "metadata": {},
          "output_type": "execute_result"
        },
        {
          "data": {
            "image/png": "[encoded data removed]",
            "text/plain": [
              "<Figure size 1152x288 with 2 Axes>"
            ]
          },
          "metadata": {
            "needs_background": "light"
          },
          "output_type": "display_data"
        }
      ],
      "source": [
        "fig, axes = plt.subplots(nrows=1, ncols=2, figsize=(16,4))\n",
        "axes[0].plot(history.history['categorical_accuracy'])   \n",
        "axes[0].plot(history.history['val_categorical_accuracy'])\n",
        "axes[0].legend(['categorical_accuracy','val_categorical_accuracy'])\n",
        "\n",
        "axes[1].plot(history.history['loss'])   \n",
        "axes[1].plot(history.history['val_loss'])\n",
        "axes[1].legend(['loss','val_loss'])"
      ]
    },
    {
      "cell_type": "markdown",
      "metadata": {
        "id": "LoM5MX6jnspG"
      },
      "source": [
        "### 2. Model Conv3D"
      ]
    },
    {
      "cell_type": "code",
      "execution_count": null,
      "metadata": {
        "id": "r-IaHUIY9pdN"
      },
      "outputs": [],
      "source": [
        "input_shape = 18,84,84,3\n",
        "model = Sequential()\n",
        "model.add(Conv3D(32, kernel_size=3, activation='relu', input_shape=input_shape))\n",
        "model.add(MaxPooling3D(pool_size=2))\n",
        "\n",
        "model.add(Conv3D(64, kernel_size=3, activation='relu'))\n",
        "model.add(MaxPooling3D(pool_size=2))\n",
        "\n",
        "model.add(Flatten())\n",
        "model.add(Dense(256, activation='relu'))\n",
        "model.add(Dense(5, activation='softmax'))"
      ]
    },
    {
      "cell_type": "code",
      "execution_count": null,
      "metadata": {
        "colab": {
          "base_uri": "https://localhost:8080/"
        },
        "id": "y6fxYSzuAYGy",
        "outputId": "c6cf5538-7db7-4d48-eacd-40087e839ced"
      },
      "outputs": [
        {
          "name": "stdout",
          "output_type": "stream",
          "text": [
            "Model: \"sequential_1\"\n",
            "_________________________________________________________________\n",
            " Layer (type)                Output Shape              Param #   \n",
            "=================================================================\n",
            " conv3d_4 (Conv3D)           (None, 16, 82, 82, 32)    2624      \n",
            "                                                                 \n",
            " max_pooling3d_4 (MaxPooling  (None, 8, 41, 41, 32)    0         \n",
            " 3D)                                                             \n",
            "                                                                 \n",
            " conv3d_5 (Conv3D)           (None, 6, 39, 39, 64)     55360     \n",
            "                                                                 \n",
            " max_pooling3d_5 (MaxPooling  (None, 3, 19, 19, 64)    0         \n",
            " 3D)                                                             \n",
            "                                                                 \n",
            " flatten_1 (Flatten)         (None, 69312)             0         \n",
            "                                                                 \n",
            " dense_2 (Dense)             (None, 256)               17744128  \n",
            "                                                                 \n",
            " dense_3 (Dense)             (None, 5)                 1285      \n",
            "                                                                 \n",
            "=================================================================\n",
            "Total params: 17,803,397\n",
            "Trainable params: 17,803,397\n",
            "Non-trainable params: 0\n",
            "_________________________________________________________________\n",
            "None\n"
          ]
        }
      ],
      "source": [
        "optimiser = tf.keras.optimizers.Adam(lr=0.01) #write your optimizer\n",
        "model.compile(optimizer=optimiser, loss='categorical_crossentropy', metrics=['categorical_accuracy'])\n",
        "print(model.summary())"
      ]
    },
    {
      "cell_type": "code",
      "execution_count": null,
      "metadata": {
        "colab": {
          "base_uri": "https://localhost:8080/"
        },
        "id": "7bRNOZvVAYO7",
        "outputId": "0c0a9fa0-e74e-4890-d55f-4e4c280aa58e"
      },
      "outputs": [
        {
          "name": "stdout",
          "output_type": "stream",
          "text": [
            "Epoch 1/30\n",
            "11/11 [==============================] - ETA: 0s - loss: 11500.8916 - categorical_accuracy: 0.1779\n",
            "Epoch 00001: saving model to model_init_2022-12-1114_28_45.745083/model-00001-11500.89160-0.17787-1.61476-0.22222.h5\n",
            "11/11 [==============================] - 45s 4s/step - loss: 11500.8916 - categorical_accuracy: 0.1779 - val_loss: 1.6148 - val_categorical_accuracy: 0.2222 - lr: 0.0100\n",
            "Epoch 2/30\n",
            "11/11 [==============================] - ETA: 0s - loss: 1.6155 - categorical_accuracy: 0.1700\n",
            "Epoch 00002: saving model to model_init_2022-12-1114_28_45.745083/model-00002-1.61553-0.16996-1.61005-0.18056.h5\n",
            "11/11 [==============================] - 47s 5s/step - loss: 1.6155 - categorical_accuracy: 0.1700 - val_loss: 1.6101 - val_categorical_accuracy: 0.1806 - lr: 0.0100\n",
            "Epoch 3/30\n",
            "11/11 [==============================] - ETA: 0s - loss: 1.6103 - categorical_accuracy: 0.2016\n",
            "Epoch 00003: saving model to model_init_2022-12-1114_28_45.745083/model-00003-1.61029-0.20158-1.61266-0.18056.h5\n",
            "11/11 [==============================] - 46s 5s/step - loss: 1.6103 - categorical_accuracy: 0.2016 - val_loss: 1.6127 - val_categorical_accuracy: 0.1806 - lr: 0.0100\n",
            "Epoch 4/30\n",
            "11/11 [==============================] - ETA: 0s - loss: 2.0254 - categorical_accuracy: 0.2016\n",
            "Epoch 00004: saving model to model_init_2022-12-1114_28_45.745083/model-00004-2.02538-0.20158-1.61579-0.20833.h5\n",
            "\n",
            "Epoch 00004: ReduceLROnPlateau reducing learning rate to 0.004999999888241291.\n",
            "11/11 [==============================] - 44s 4s/step - loss: 2.0254 - categorical_accuracy: 0.2016 - val_loss: 1.6158 - val_categorical_accuracy: 0.2083 - lr: 0.0100\n",
            "Epoch 5/30\n",
            "11/11 [==============================] - ETA: 0s - loss: 1.6064 - categorical_accuracy: 0.2411\n",
            "Epoch 00005: saving model to model_init_2022-12-1114_28_45.745083/model-00005-1.60639-0.24111-1.59972-0.27778.h5\n",
            "11/11 [==============================] - 46s 5s/step - loss: 1.6064 - categorical_accuracy: 0.2411 - val_loss: 1.5997 - val_categorical_accuracy: 0.2778 - lr: 0.0050\n",
            "Epoch 6/30\n",
            "11/11 [==============================] - ETA: 0s - loss: 1.6130 - categorical_accuracy: 0.1858\n",
            "Epoch 00006: saving model to model_init_2022-12-1114_28_45.745083/model-00006-1.61301-0.18577-1.60231-0.29167.h5\n",
            "11/11 [==============================] - 41s 4s/step - loss: 1.6130 - categorical_accuracy: 0.1858 - val_loss: 1.6023 - val_categorical_accuracy: 0.2917 - lr: 0.0050\n",
            "Epoch 7/30\n",
            "11/11 [==============================] - ETA: 0s - loss: 1.6143 - categorical_accuracy: 0.1858\n",
            "Epoch 00007: saving model to model_init_2022-12-1114_28_45.745083/model-00007-1.61426-0.18577-1.60406-0.27778.h5\n",
            "\n",
            "Epoch 00007: ReduceLROnPlateau reducing learning rate to 0.0024999999441206455.\n",
            "11/11 [==============================] - 45s 4s/step - loss: 1.6143 - categorical_accuracy: 0.1858 - val_loss: 1.6041 - val_categorical_accuracy: 0.2778 - lr: 0.0050\n",
            "Epoch 8/30\n",
            "11/11 [==============================] - ETA: 0s - loss: 1.6122 - categorical_accuracy: 0.1779\n",
            "Epoch 00008: saving model to model_init_2022-12-1114_28_45.745083/model-00008-1.61216-0.17787-1.60257-0.23611.h5\n",
            "11/11 [==============================] - 42s 4s/step - loss: 1.6122 - categorical_accuracy: 0.1779 - val_loss: 1.6026 - val_categorical_accuracy: 0.2361 - lr: 0.0025\n",
            "Epoch 9/30\n",
            "11/11 [==============================] - ETA: 0s - loss: 1.6085 - categorical_accuracy: 0.2213\n",
            "Epoch 00009: saving model to model_init_2022-12-1114_28_45.745083/model-00009-1.60848-0.22134-1.61057-0.25000.h5\n",
            "\n",
            "Epoch 00009: ReduceLROnPlateau reducing learning rate to 0.0012499999720603228.\n",
            "11/11 [==============================] - 43s 4s/step - loss: 1.6085 - categorical_accuracy: 0.2213 - val_loss: 1.6106 - val_categorical_accuracy: 0.2500 - lr: 0.0025\n",
            "Epoch 10/30\n",
            "11/11 [==============================] - ETA: 0s - loss: 1.6104 - categorical_accuracy: 0.2253\n",
            "Epoch 00010: saving model to model_init_2022-12-1114_28_45.745083/model-00010-1.61041-0.22530-1.60754-0.23611.h5\n",
            "11/11 [==============================] - 45s 5s/step - loss: 1.6104 - categorical_accuracy: 0.2253 - val_loss: 1.6075 - val_categorical_accuracy: 0.2361 - lr: 0.0012\n",
            "Epoch 11/30\n",
            "11/11 [==============================] - ETA: 0s - loss: 1.6032 - categorical_accuracy: 0.2372\n",
            "Epoch 00011: saving model to model_init_2022-12-1114_28_45.745083/model-00011-1.60316-0.23715-1.60850-0.20833.h5\n",
            "\n",
            "Epoch 00011: ReduceLROnPlateau reducing learning rate to 0.0006249999860301614.\n",
            "11/11 [==============================] - 43s 4s/step - loss: 1.6032 - categorical_accuracy: 0.2372 - val_loss: 1.6085 - val_categorical_accuracy: 0.2083 - lr: 0.0012\n",
            "Epoch 12/30\n",
            "11/11 [==============================] - ETA: 0s - loss: 1.6091 - categorical_accuracy: 0.2332\n",
            "Epoch 00012: saving model to model_init_2022-12-1114_28_45.745083/model-00012-1.60915-0.23320-1.60576-0.27778.h5\n",
            "11/11 [==============================] - 42s 4s/step - loss: 1.6091 - categorical_accuracy: 0.2332 - val_loss: 1.6058 - val_categorical_accuracy: 0.2778 - lr: 6.2500e-04\n",
            "Epoch 13/30\n",
            "11/11 [==============================] - ETA: 0s - loss: 1.6086 - categorical_accuracy: 0.2451\n",
            "Epoch 00013: saving model to model_init_2022-12-1114_28_45.745083/model-00013-1.60859-0.24506-1.60843-0.19444.h5\n",
            "\n",
            "Epoch 00013: ReduceLROnPlateau reducing learning rate to 0.0003124999930150807.\n",
            "11/11 [==============================] - 44s 4s/step - loss: 1.6086 - categorical_accuracy: 0.2451 - val_loss: 1.6084 - val_categorical_accuracy: 0.1944 - lr: 6.2500e-04\n",
            "Epoch 14/30\n",
            "11/11 [==============================] - ETA: 0s - loss: 1.6056 - categorical_accuracy: 0.2016\n",
            "Epoch 00014: saving model to model_init_2022-12-1114_28_45.745083/model-00014-1.60560-0.20158-1.60301-0.26389.h5\n",
            "11/11 [==============================] - 45s 5s/step - loss: 1.6056 - categorical_accuracy: 0.2016 - val_loss: 1.6030 - val_categorical_accuracy: 0.2639 - lr: 3.1250e-04\n",
            "Epoch 15/30\n",
            "11/11 [==============================] - ETA: 0s - loss: 1.6057 - categorical_accuracy: 0.2213\n",
            "Epoch 00015: saving model to model_init_2022-12-1114_28_45.745083/model-00015-1.60569-0.22134-1.60528-0.23611.h5\n",
            "\n",
            "Epoch 00015: ReduceLROnPlateau reducing learning rate to 0.00015624999650754035.\n",
            "11/11 [==============================] - 40s 4s/step - loss: 1.6057 - categorical_accuracy: 0.2213 - val_loss: 1.6053 - val_categorical_accuracy: 0.2361 - lr: 3.1250e-04\n",
            "Epoch 16/30\n",
            "11/11 [==============================] - ETA: 0s - loss: 1.6091 - categorical_accuracy: 0.2134\n",
            "Epoch 00016: saving model to model_init_2022-12-1114_28_45.745083/model-00016-1.60914-0.21344-1.60818-0.15278.h5\n",
            "11/11 [==============================] - 43s 4s/step - loss: 1.6091 - categorical_accuracy: 0.2134 - val_loss: 1.6082 - val_categorical_accuracy: 0.1528 - lr: 1.5625e-04\n",
            "Epoch 17/30\n",
            "11/11 [==============================] - ETA: 0s - loss: 1.6014 - categorical_accuracy: 0.2332\n",
            "Epoch 00017: saving model to model_init_2022-12-1114_28_45.745083/model-00017-1.60143-0.23320-1.60423-0.27778.h5\n",
            "\n",
            "Epoch 00017: ReduceLROnPlateau reducing learning rate to 7.812499825377017e-05.\n",
            "11/11 [==============================] - 42s 4s/step - loss: 1.6014 - categorical_accuracy: 0.2332 - val_loss: 1.6042 - val_categorical_accuracy: 0.2778 - lr: 1.5625e-04\n",
            "Epoch 18/30\n",
            "11/11 [==============================] - ETA: 0s - loss: 1.6107 - categorical_accuracy: 0.2016\n",
            "Epoch 00018: saving model to model_init_2022-12-1114_28_45.745083/model-00018-1.61075-0.20158-1.60472-0.25000.h5\n",
            "11/11 [==============================] - 45s 4s/step - loss: 1.6107 - categorical_accuracy: 0.2016 - val_loss: 1.6047 - val_categorical_accuracy: 0.2500 - lr: 7.8125e-05\n",
            "Epoch 19/30\n",
            "11/11 [==============================] - ETA: 0s - loss: 1.6130 - categorical_accuracy: 0.2095\n",
            "Epoch 00019: saving model to model_init_2022-12-1114_28_45.745083/model-00019-1.61297-0.20949-1.61042-0.22222.h5\n",
            "\n",
            "Epoch 00019: ReduceLROnPlateau reducing learning rate to 3.9062499126885086e-05.\n",
            "11/11 [==============================] - 44s 4s/step - loss: 1.6130 - categorical_accuracy: 0.2095 - val_loss: 1.6104 - val_categorical_accuracy: 0.2222 - lr: 7.8125e-05\n",
            "Epoch 20/30\n",
            "11/11 [==============================] - ETA: 0s - loss: 1.6103 - categorical_accuracy: 0.1897\n",
            "Epoch 00020: saving model to model_init_2022-12-1114_28_45.745083/model-00020-1.61035-0.18972-1.60949-0.23611.h5\n",
            "11/11 [==============================] - 41s 4s/step - loss: 1.6103 - categorical_accuracy: 0.1897 - val_loss: 1.6095 - val_categorical_accuracy: 0.2361 - lr: 3.9062e-05\n",
            "Epoch 21/30\n",
            "11/11 [==============================] - ETA: 0s - loss: 1.6104 - categorical_accuracy: 0.2095\n",
            "Epoch 00021: saving model to model_init_2022-12-1114_28_45.745083/model-00021-1.61035-0.20949-1.60640-0.19444.h5\n",
            "\n",
            "Epoch 00021: ReduceLROnPlateau reducing learning rate to 1.9531249563442543e-05.\n",
            "11/11 [==============================] - 44s 4s/step - loss: 1.6104 - categorical_accuracy: 0.2095 - val_loss: 1.6064 - val_categorical_accuracy: 0.1944 - lr: 3.9062e-05\n",
            "Epoch 22/30\n",
            "11/11 [==============================] - ETA: 0s - loss: 1.6045 - categorical_accuracy: 0.2609\n",
            "Epoch 00022: saving model to model_init_2022-12-1114_28_45.745083/model-00022-1.60453-0.26087-1.61257-0.23611.h5\n",
            "11/11 [==============================] - 45s 4s/step - loss: 1.6045 - categorical_accuracy: 0.2609 - val_loss: 1.6126 - val_categorical_accuracy: 0.2361 - lr: 1.9531e-05\n",
            "Epoch 23/30\n",
            "11/11 [==============================] - ETA: 0s - loss: 1.6063 - categorical_accuracy: 0.2253\n",
            "Epoch 00023: saving model to model_init_2022-12-1114_28_45.745083/model-00023-1.60629-0.22530-1.60917-0.16667.h5\n",
            "\n",
            "Epoch 00023: ReduceLROnPlateau reducing learning rate to 1e-05.\n",
            "11/11 [==============================] - 44s 4s/step - loss: 1.6063 - categorical_accuracy: 0.2253 - val_loss: 1.6092 - val_categorical_accuracy: 0.1667 - lr: 1.9531e-05\n",
            "Epoch 24/30\n",
            "11/11 [==============================] - ETA: 0s - loss: 1.6098 - categorical_accuracy: 0.1581\n",
            "Epoch 00024: saving model to model_init_2022-12-1114_28_45.745083/model-00024-1.60981-0.15810-1.61030-0.22222.h5\n",
            "11/11 [==============================] - 46s 5s/step - loss: 1.6098 - categorical_accuracy: 0.1581 - val_loss: 1.6103 - val_categorical_accuracy: 0.2222 - lr: 1.0000e-05\n",
            "Epoch 25/30\n",
            "11/11 [==============================] - ETA: 0s - loss: 1.6055 - categorical_accuracy: 0.1976\n",
            "Epoch 00025: saving model to model_init_2022-12-1114_28_45.745083/model-00025-1.60553-0.19763-1.59646-0.29167.h5\n",
            "11/11 [==============================] - 47s 5s/step - loss: 1.6055 - categorical_accuracy: 0.1976 - val_loss: 1.5965 - val_categorical_accuracy: 0.2917 - lr: 1.0000e-05\n",
            "Epoch 26/30\n",
            "11/11 [==============================] - ETA: 0s - loss: 1.6110 - categorical_accuracy: 0.2174\n",
            "Epoch 00026: saving model to model_init_2022-12-1114_28_45.745083/model-00026-1.61099-0.21739-1.60922-0.20833.h5\n",
            "11/11 [==============================] - 43s 4s/step - loss: 1.6110 - categorical_accuracy: 0.2174 - val_loss: 1.6092 - val_categorical_accuracy: 0.2083 - lr: 1.0000e-05\n",
            "Epoch 27/30\n",
            "11/11 [==============================] - ETA: 0s - loss: 1.6080 - categorical_accuracy: 0.1937\n",
            "Epoch 00027: saving model to model_init_2022-12-1114_28_45.745083/model-00027-1.60796-0.19368-1.60767-0.27778.h5\n",
            "11/11 [==============================] - 44s 4s/step - loss: 1.6080 - categorical_accuracy: 0.1937 - val_loss: 1.6077 - val_categorical_accuracy: 0.2778 - lr: 1.0000e-05\n",
            "Epoch 28/30\n",
            "11/11 [==============================] - ETA: 0s - loss: 1.6107 - categorical_accuracy: 0.2213\n",
            "Epoch 00028: saving model to model_init_2022-12-1114_28_45.745083/model-00028-1.61067-0.22134-1.60918-0.23611.h5\n",
            "11/11 [==============================] - 44s 4s/step - loss: 1.6107 - categorical_accuracy: 0.2213 - val_loss: 1.6092 - val_categorical_accuracy: 0.2361 - lr: 1.0000e-05\n",
            "Epoch 29/30\n",
            "11/11 [==============================] - ETA: 0s - loss: 1.6081 - categorical_accuracy: 0.2016\n",
            "Epoch 00029: saving model to model_init_2022-12-1114_28_45.745083/model-00029-1.60806-0.20158-1.60533-0.23611.h5\n",
            "11/11 [==============================] - 44s 4s/step - loss: 1.6081 - categorical_accuracy: 0.2016 - val_loss: 1.6053 - val_categorical_accuracy: 0.2361 - lr: 1.0000e-05\n",
            "Epoch 30/30\n",
            "11/11 [==============================] - ETA: 0s - loss: 1.6101 - categorical_accuracy: 0.1779\n",
            "Epoch 00030: saving model to model_init_2022-12-1114_28_45.745083/model-00030-1.61009-0.17787-1.61054-0.20833.h5\n",
            "11/11 [==============================] - 42s 4s/step - loss: 1.6101 - categorical_accuracy: 0.1779 - val_loss: 1.6105 - val_categorical_accuracy: 0.2083 - lr: 1.0000e-05\n"
          ]
        }
      ],
      "source": [
        "history = model.fit(train_generator, steps_per_epoch = steps_per_epoch, epochs=num_epochs, verbose=1, \n",
        "                    callbacks=callbacks_list, validation_data=val_generator, \n",
        "                    validation_steps= validation_steps, class_weight=None, workers=1, initial_epoch=0)"
      ]
    },
    {
      "cell_type": "code",
      "execution_count": null,
      "metadata": {
        "id": "ujCkiDJVnspG",
        "outputId": "54010ec4-6a76-46c4-d5ed-ecaee833dd78"
      },
      "outputs": [
        {
          "data": {
            "text/plain": [
              "<matplotlib.legend.Legend at 0x7f8f18449820>"
            ]
          },
          "execution_count": 20,
          "metadata": {},
          "output_type": "execute_result"
        },
        {
          "data": {
            "image/png": "[encoded data removed]",
            "text/plain": [
              "<Figure size 1152x288 with 2 Axes>"
            ]
          },
          "metadata": {
            "needs_background": "light"
          },
          "output_type": "display_data"
        }
      ],
      "source": [
        "fig, axes = plt.subplots(nrows=1, ncols=2, figsize=(16,4))\n",
        "axes[0].plot(history.history['categorical_accuracy'])   \n",
        "axes[0].plot(history.history['val_categorical_accuracy'])\n",
        "axes[0].legend(['categorical_accuracy','val_categorical_accuracy'])\n",
        "\n",
        "axes[1].plot(history.history['loss'])   \n",
        "axes[1].plot(history.history['val_loss'])\n",
        "axes[1].legend(['loss','val_loss'])"
      ]
    },
    {
      "cell_type": "markdown",
      "metadata": {
        "id": "-nyYdczUnspH"
      },
      "source": [
        "### 3. Model Conv3D"
      ]
    },
    {
      "cell_type": "code",
      "execution_count": null,
      "metadata": {
        "colab": {
          "base_uri": "https://localhost:8080/",
          "height": 496
        },
        "id": "dKWIXlGuBwlM",
        "outputId": "5eb7f6ea-ab54-46d0-c9a3-03564f5a9bbb"
      },
      "outputs": [
        {
          "ename": "ValueError",
          "evalue": "Exception encountered when calling layer \"conv3d_9\" (type Conv3D).\n\nNegative dimension size caused by subtracting 3 from 2 for '{{node conv3d_9/Conv3D}} = Conv3D[T=DT_FLOAT, data_format=\"NDHWC\", dilations=[1, 1, 1, 1, 1], padding=\"VALID\", strides=[1, 1, 1, 1, 1]](Placeholder, conv3d_9/Conv3D/ReadVariableOp)' with input shapes: [?,2,19,19,128], [3,3,3,128,256].\n\nCall arguments received:\n  • inputs=tf.Tensor(shape=(None, 2, 19, 19, 128), dtype=float32)",
          "output_type": "error",
          "traceback": [
            "\u001b[0;31m---------------------------------------------------------------------------\u001b[0m",
            "\u001b[0;31mValueError\u001b[0m                                Traceback (most recent call last)",
            "\u001b[0;32m/tmp/ipykernel_469/1815285064.py\u001b[0m in \u001b[0;36m<module>\u001b[0;34m\u001b[0m\n\u001b[1;32m      8\u001b[0m \u001b[0mmodel\u001b[0m\u001b[0;34m.\u001b[0m\u001b[0madd\u001b[0m\u001b[0;34m(\u001b[0m\u001b[0mMaxPooling3D\u001b[0m\u001b[0;34m(\u001b[0m\u001b[0mpool_size\u001b[0m\u001b[0;34m=\u001b[0m\u001b[0;34m(\u001b[0m\u001b[0;36m2\u001b[0m\u001b[0;34m,\u001b[0m \u001b[0;36m2\u001b[0m\u001b[0;34m,\u001b[0m \u001b[0;36m2\u001b[0m\u001b[0;34m)\u001b[0m\u001b[0;34m)\u001b[0m\u001b[0;34m)\u001b[0m\u001b[0;34m\u001b[0m\u001b[0;34m\u001b[0m\u001b[0m\n\u001b[1;32m      9\u001b[0m \u001b[0;34m\u001b[0m\u001b[0m\n\u001b[0;32m---> 10\u001b[0;31m \u001b[0mmodel\u001b[0m\u001b[0;34m.\u001b[0m\u001b[0madd\u001b[0m\u001b[0;34m(\u001b[0m\u001b[0mConv3D\u001b[0m\u001b[0;34m(\u001b[0m\u001b[0;36m256\u001b[0m\u001b[0;34m,\u001b[0m \u001b[0mkernel_size\u001b[0m\u001b[0;34m=\u001b[0m\u001b[0;34m(\u001b[0m\u001b[0;36m3\u001b[0m\u001b[0;34m,\u001b[0m \u001b[0;36m3\u001b[0m\u001b[0;34m,\u001b[0m\u001b[0;36m3\u001b[0m\u001b[0;34m)\u001b[0m \u001b[0;34m,\u001b[0m \u001b[0mactivation\u001b[0m\u001b[0;34m=\u001b[0m\u001b[0;34m'relu'\u001b[0m\u001b[0;34m)\u001b[0m\u001b[0;34m)\u001b[0m\u001b[0;34m\u001b[0m\u001b[0;34m\u001b[0m\u001b[0m\n\u001b[0m\u001b[1;32m     11\u001b[0m \u001b[0mmodel\u001b[0m\u001b[0;34m.\u001b[0m\u001b[0madd\u001b[0m\u001b[0;34m(\u001b[0m\u001b[0mMaxPooling3D\u001b[0m\u001b[0;34m(\u001b[0m\u001b[0mpool_size\u001b[0m\u001b[0;34m=\u001b[0m\u001b[0;34m(\u001b[0m\u001b[0;36m3\u001b[0m\u001b[0;34m,\u001b[0m \u001b[0;36m2\u001b[0m\u001b[0;34m,\u001b[0m \u001b[0;36m2\u001b[0m\u001b[0;34m)\u001b[0m\u001b[0;34m)\u001b[0m\u001b[0;34m)\u001b[0m\u001b[0;34m\u001b[0m\u001b[0;34m\u001b[0m\u001b[0m\n\u001b[1;32m     12\u001b[0m \u001b[0;34m\u001b[0m\u001b[0m\n",
            "\u001b[0;32m/usr/local/lib/python3.8/dist-packages/tensorflow/python/training/tracking/base.py\u001b[0m in \u001b[0;36m_method_wrapper\u001b[0;34m(self, *args, **kwargs)\u001b[0m\n\u001b[1;32m    528\u001b[0m     \u001b[0mself\u001b[0m\u001b[0;34m.\u001b[0m\u001b[0m_self_setattr_tracking\u001b[0m \u001b[0;34m=\u001b[0m \u001b[0;32mFalse\u001b[0m  \u001b[0;31m# pylint: disable=protected-access\u001b[0m\u001b[0;34m\u001b[0m\u001b[0;34m\u001b[0m\u001b[0m\n\u001b[1;32m    529\u001b[0m     \u001b[0;32mtry\u001b[0m\u001b[0;34m:\u001b[0m\u001b[0;34m\u001b[0m\u001b[0;34m\u001b[0m\u001b[0m\n\u001b[0;32m--> 530\u001b[0;31m       \u001b[0mresult\u001b[0m \u001b[0;34m=\u001b[0m \u001b[0mmethod\u001b[0m\u001b[0;34m(\u001b[0m\u001b[0mself\u001b[0m\u001b[0;34m,\u001b[0m \u001b[0;34m*\u001b[0m\u001b[0margs\u001b[0m\u001b[0;34m,\u001b[0m \u001b[0;34m**\u001b[0m\u001b[0mkwargs\u001b[0m\u001b[0;34m)\u001b[0m\u001b[0;34m\u001b[0m\u001b[0;34m\u001b[0m\u001b[0m\n\u001b[0m\u001b[1;32m    531\u001b[0m     \u001b[0;32mfinally\u001b[0m\u001b[0;34m:\u001b[0m\u001b[0;34m\u001b[0m\u001b[0;34m\u001b[0m\u001b[0m\n\u001b[1;32m    532\u001b[0m       \u001b[0mself\u001b[0m\u001b[0;34m.\u001b[0m\u001b[0m_self_setattr_tracking\u001b[0m \u001b[0;34m=\u001b[0m \u001b[0mprevious_value\u001b[0m  \u001b[0;31m# pylint: disable=protected-access\u001b[0m\u001b[0;34m\u001b[0m\u001b[0;34m\u001b[0m\u001b[0m\n",
            "\u001b[0;32m/usr/local/lib/python3.8/dist-packages/keras/utils/traceback_utils.py\u001b[0m in \u001b[0;36merror_handler\u001b[0;34m(*args, **kwargs)\u001b[0m\n\u001b[1;32m     65\u001b[0m     \u001b[0;32mexcept\u001b[0m \u001b[0mException\u001b[0m \u001b[0;32mas\u001b[0m \u001b[0me\u001b[0m\u001b[0;34m:\u001b[0m  \u001b[0;31m# pylint: disable=broad-except\u001b[0m\u001b[0;34m\u001b[0m\u001b[0;34m\u001b[0m\u001b[0m\n\u001b[1;32m     66\u001b[0m       \u001b[0mfiltered_tb\u001b[0m \u001b[0;34m=\u001b[0m \u001b[0m_process_traceback_frames\u001b[0m\u001b[0;34m(\u001b[0m\u001b[0me\u001b[0m\u001b[0;34m.\u001b[0m\u001b[0m__traceback__\u001b[0m\u001b[0;34m)\u001b[0m\u001b[0;34m\u001b[0m\u001b[0;34m\u001b[0m\u001b[0m\n\u001b[0;32m---> 67\u001b[0;31m       \u001b[0;32mraise\u001b[0m \u001b[0me\u001b[0m\u001b[0;34m.\u001b[0m\u001b[0mwith_traceback\u001b[0m\u001b[0;34m(\u001b[0m\u001b[0mfiltered_tb\u001b[0m\u001b[0;34m)\u001b[0m \u001b[0;32mfrom\u001b[0m \u001b[0;32mNone\u001b[0m\u001b[0;34m\u001b[0m\u001b[0;34m\u001b[0m\u001b[0m\n\u001b[0m\u001b[1;32m     68\u001b[0m     \u001b[0;32mfinally\u001b[0m\u001b[0;34m:\u001b[0m\u001b[0;34m\u001b[0m\u001b[0;34m\u001b[0m\u001b[0m\n\u001b[1;32m     69\u001b[0m       \u001b[0;32mdel\u001b[0m \u001b[0mfiltered_tb\u001b[0m\u001b[0;34m\u001b[0m\u001b[0;34m\u001b[0m\u001b[0m\n",
            "\u001b[0;32m/usr/local/lib/python3.8/dist-packages/tensorflow/python/framework/ops.py\u001b[0m in \u001b[0;36m_create_c_op\u001b[0;34m(graph, node_def, inputs, control_inputs, op_def)\u001b[0m\n\u001b[1;32m   1937\u001b[0m   \u001b[0;32mexcept\u001b[0m \u001b[0merrors\u001b[0m\u001b[0;34m.\u001b[0m\u001b[0mInvalidArgumentError\u001b[0m \u001b[0;32mas\u001b[0m \u001b[0me\u001b[0m\u001b[0;34m:\u001b[0m\u001b[0;34m\u001b[0m\u001b[0;34m\u001b[0m\u001b[0m\n\u001b[1;32m   1938\u001b[0m     \u001b[0;31m# Convert to ValueError for backwards compatibility.\u001b[0m\u001b[0;34m\u001b[0m\u001b[0;34m\u001b[0m\u001b[0;34m\u001b[0m\u001b[0m\n\u001b[0;32m-> 1939\u001b[0;31m     \u001b[0;32mraise\u001b[0m \u001b[0mValueError\u001b[0m\u001b[0;34m(\u001b[0m\u001b[0me\u001b[0m\u001b[0;34m.\u001b[0m\u001b[0mmessage\u001b[0m\u001b[0;34m)\u001b[0m\u001b[0;34m\u001b[0m\u001b[0;34m\u001b[0m\u001b[0m\n\u001b[0m\u001b[1;32m   1940\u001b[0m \u001b[0;34m\u001b[0m\u001b[0m\n\u001b[1;32m   1941\u001b[0m   \u001b[0;32mreturn\u001b[0m \u001b[0mc_op\u001b[0m\u001b[0;34m\u001b[0m\u001b[0;34m\u001b[0m\u001b[0m\n",
            "\u001b[0;31mValueError\u001b[0m: Exception encountered when calling layer \"conv3d_9\" (type Conv3D).\n\nNegative dimension size caused by subtracting 3 from 2 for '{{node conv3d_9/Conv3D}} = Conv3D[T=DT_FLOAT, data_format=\"NDHWC\", dilations=[1, 1, 1, 1, 1], padding=\"VALID\", strides=[1, 1, 1, 1, 1]](Placeholder, conv3d_9/Conv3D/ReadVariableOp)' with input shapes: [?,2,19,19,128], [3,3,3,128,256].\n\nCall arguments received:\n  • inputs=tf.Tensor(shape=(None, 2, 19, 19, 128), dtype=float32)"
          ]
        }
      ],
      "source": [
        "model = Sequential()\n",
        "\n",
        "model.add(Conv3D(32, kernel_size=3, activation='relu', input_shape=input_shape))\n",
        "model.add(Conv3D(64, kernel_size=3, activation='relu'))\n",
        "model.add(MaxPooling3D(pool_size=(2, 2, 2)))\n",
        "\n",
        "model.add(Conv3D(128, kernel_size=3, activation='relu'))\n",
        "model.add(MaxPooling3D(pool_size=(2, 2, 2)))\n",
        "\n",
        "model.add(Conv3D(256, kernel_size=(3, 3,3) , activation='relu'))\n",
        "model.add(MaxPooling3D(pool_size=(3, 2, 2)))\n",
        "\n",
        "model.add(Conv3D(512, kernel_size=(3, 3, 3), activation='relu'))\n",
        "model.add(Conv3D(512, kernel_size=(3, 3, 3), activation='relu'))\n",
        "model.add(MaxPooling3D(pool_size=(2, 2, 2)))\n",
        "\n",
        "model.add(Flatten())\n",
        "model.add(Dense(512, activation='relu'))\n",
        "model.add(Dense(5, activation='softmax'))\n"
      ]
    },
    {
      "cell_type": "markdown",
      "metadata": {
        "id": "vyPjpRo5nspH"
      },
      "source": [
        "### 4. Model Conv3D"
      ]
    },
    {
      "cell_type": "code",
      "execution_count": null,
      "metadata": {
        "id": "kgnpv3XaBF9I"
      },
      "outputs": [],
      "source": [
        "model = Sequential()\n",
        "\n",
        "model.add(Conv3D(32, kernel_size=3, activation='relu', input_shape=input_shape))\n",
        "model.add(Conv3D(64, kernel_size=3, activation='relu'))\n",
        "model.add(MaxPooling3D(pool_size=(2, 2, 2)))\n",
        "\n",
        "model.add(Conv3D(128, kernel_size=3, activation='relu'))\n",
        "model.add(MaxPooling3D(pool_size=(1, 2, 2)))\n",
        "\n",
        "model.add(Conv3D(256, kernel_size=(1, 3, 3), activation='relu'))\n",
        "model.add(MaxPooling3D(pool_size=(1, 2, 2)))\n",
        "\n",
        "model.add(Conv3D(512, kernel_size=(1, 3, 3), activation='relu'))\n",
        "model.add(Conv3D(512, kernel_size=(1, 3, 3), activation='relu'))\n",
        "model.add(MaxPooling3D(pool_size=(1, 2, 2)))\n",
        "\n",
        "model.add(Flatten())\n",
        "model.add(Dense(512, activation='relu'))\n",
        "model.add(Dense(5, activation='softmax'))"
      ]
    },
    {
      "cell_type": "code",
      "execution_count": null,
      "metadata": {
        "colab": {
          "base_uri": "https://localhost:8080/"
        },
        "id": "6Pl8EuNTBUP7",
        "outputId": "a73b9d08-f49f-4287-cead-9d6f538ddc64"
      },
      "outputs": [
        {
          "name": "stdout",
          "output_type": "stream",
          "text": [
            "Model: \"sequential_3\"\n",
            "_________________________________________________________________\n",
            " Layer (type)                Output Shape              Param #   \n",
            "=================================================================\n",
            " conv3d_10 (Conv3D)          (None, 16, 82, 82, 32)    2624      \n",
            "                                                                 \n",
            " conv3d_11 (Conv3D)          (None, 14, 80, 80, 64)    55360     \n",
            "                                                                 \n",
            " max_pooling3d_8 (MaxPooling  (None, 7, 40, 40, 64)    0         \n",
            " 3D)                                                             \n",
            "                                                                 \n",
            " conv3d_12 (Conv3D)          (None, 5, 38, 38, 128)    221312    \n",
            "                                                                 \n",
            " max_pooling3d_9 (MaxPooling  (None, 5, 19, 19, 128)   0         \n",
            " 3D)                                                             \n",
            "                                                                 \n",
            " conv3d_13 (Conv3D)          (None, 5, 17, 17, 256)    295168    \n",
            "                                                                 \n",
            " max_pooling3d_10 (MaxPoolin  (None, 5, 8, 8, 256)     0         \n",
            " g3D)                                                            \n",
            "                                                                 \n",
            " conv3d_14 (Conv3D)          (None, 5, 6, 6, 512)      1180160   \n",
            "                                                                 \n",
            " conv3d_15 (Conv3D)          (None, 5, 4, 4, 512)      2359808   \n",
            "                                                                 \n",
            " max_pooling3d_11 (MaxPoolin  (None, 5, 2, 2, 512)     0         \n",
            " g3D)                                                            \n",
            "                                                                 \n",
            " flatten_2 (Flatten)         (None, 10240)             0         \n",
            "                                                                 \n",
            " dense_4 (Dense)             (None, 512)               5243392   \n",
            "                                                                 \n",
            " dense_5 (Dense)             (None, 5)                 2565      \n",
            "                                                                 \n",
            "=================================================================\n",
            "Total params: 9,360,389\n",
            "Trainable params: 9,360,389\n",
            "Non-trainable params: 0\n",
            "_________________________________________________________________\n",
            "None\n"
          ]
        }
      ],
      "source": [
        "optimiser = tf.keras.optimizers.Adam(lr=0.01) #write your optimizer\n",
        "model.compile(optimizer=optimiser, loss='categorical_crossentropy', metrics=['categorical_accuracy'])\n",
        "print(model.summary())"
      ]
    },
    {
      "cell_type": "code",
      "execution_count": null,
      "metadata": {
        "colab": {
          "base_uri": "https://localhost:8080/"
        },
        "id": "CALgo5mfBe3m",
        "outputId": "f9a4b8c2-e20f-46d3-d4b6-86591cfa3d12"
      },
      "outputs": [
        {
          "name": "stdout",
          "output_type": "stream",
          "text": [
            "Epoch 1/30\n",
            "11/11 [==============================] - ETA: 0s - loss: 1291324.1250 - categorical_accuracy: 0.1976\n",
            "Epoch 00001: saving model to model_init_2022-12-1114_28_45.745083/model-00001-1291324.12500-0.19763-2.66316-0.15278.h5\n",
            "11/11 [==============================] - 46s 4s/step - loss: 1291324.1250 - categorical_accuracy: 0.1976 - val_loss: 2.6632 - val_categorical_accuracy: 0.1528 - lr: 0.0100\n",
            "Epoch 2/30\n",
            "11/11 [==============================] - ETA: 0s - loss: 1.8114 - categorical_accuracy: 0.2095\n",
            "Epoch 00002: saving model to model_init_2022-12-1114_28_45.745083/model-00002-1.81136-0.20949-1.74690-0.18056.h5\n",
            "11/11 [==============================] - 42s 4s/step - loss: 1.8114 - categorical_accuracy: 0.2095 - val_loss: 1.7469 - val_categorical_accuracy: 0.1806 - lr: 0.0100\n",
            "Epoch 3/30\n",
            "11/11 [==============================] - ETA: 0s - loss: 1.6468 - categorical_accuracy: 0.2530\n",
            "Epoch 00003: saving model to model_init_2022-12-1114_28_45.745083/model-00003-1.64681-0.25296-1.61305-0.20833.h5\n",
            "11/11 [==============================] - 42s 4s/step - loss: 1.6468 - categorical_accuracy: 0.2530 - val_loss: 1.6131 - val_categorical_accuracy: 0.2083 - lr: 0.0100\n",
            "Epoch 4/30\n",
            "11/11 [==============================] - ETA: 0s - loss: 1.6479 - categorical_accuracy: 0.1542\n",
            "Epoch 00004: saving model to model_init_2022-12-1114_28_45.745083/model-00004-1.64791-0.15415-1.61723-0.27778.h5\n",
            "11/11 [==============================] - 44s 4s/step - loss: 1.6479 - categorical_accuracy: 0.1542 - val_loss: 1.6172 - val_categorical_accuracy: 0.2778 - lr: 0.0100\n",
            "Epoch 5/30\n",
            "11/11 [==============================] - ETA: 0s - loss: 1.6109 - categorical_accuracy: 0.2213\n",
            "Epoch 00005: saving model to model_init_2022-12-1114_28_45.745083/model-00005-1.61095-0.22134-1.59544-0.23611.h5\n",
            "11/11 [==============================] - 44s 4s/step - loss: 1.6109 - categorical_accuracy: 0.2213 - val_loss: 1.5954 - val_categorical_accuracy: 0.2361 - lr: 0.0100\n",
            "Epoch 6/30\n",
            "11/11 [==============================] - ETA: 0s - loss: 1.6144 - categorical_accuracy: 0.1976\n",
            "Epoch 00006: saving model to model_init_2022-12-1114_28_45.745083/model-00006-1.61439-0.19763-1.61363-0.19444.h5\n",
            "11/11 [==============================] - 44s 4s/step - loss: 1.6144 - categorical_accuracy: 0.1976 - val_loss: 1.6136 - val_categorical_accuracy: 0.1944 - lr: 0.0100\n",
            "Epoch 7/30\n",
            "11/11 [==============================] - ETA: 0s - loss: 1.6130 - categorical_accuracy: 0.2095\n",
            "Epoch 00007: saving model to model_init_2022-12-1114_28_45.745083/model-00007-1.61298-0.20949-1.60393-0.19444.h5\n",
            "\n",
            "Epoch 00007: ReduceLROnPlateau reducing learning rate to 0.004999999888241291.\n",
            "11/11 [==============================] - 44s 4s/step - loss: 1.6130 - categorical_accuracy: 0.2095 - val_loss: 1.6039 - val_categorical_accuracy: 0.1944 - lr: 0.0100\n",
            "Epoch 8/30\n",
            "11/11 [==============================] - ETA: 0s - loss: 1.6105 - categorical_accuracy: 0.2095\n",
            "Epoch 00008: saving model to model_init_2022-12-1114_28_45.745083/model-00008-1.61049-0.20949-1.61151-0.19444.h5\n",
            "11/11 [==============================] - 45s 4s/step - loss: 1.6105 - categorical_accuracy: 0.2095 - val_loss: 1.6115 - val_categorical_accuracy: 0.1944 - lr: 0.0050\n",
            "Epoch 9/30\n",
            "11/11 [==============================] - ETA: 0s - loss: 1.6093 - categorical_accuracy: 0.2174\n",
            "Epoch 00009: saving model to model_init_2022-12-1114_28_45.745083/model-00009-1.60928-0.21739-1.61081-0.22222.h5\n",
            "\n",
            "Epoch 00009: ReduceLROnPlateau reducing learning rate to 0.0024999999441206455.\n",
            "11/11 [==============================] - 43s 4s/step - loss: 1.6093 - categorical_accuracy: 0.2174 - val_loss: 1.6108 - val_categorical_accuracy: 0.2222 - lr: 0.0050\n",
            "Epoch 10/30\n",
            "11/11 [==============================] - ETA: 0s - loss: 1.6088 - categorical_accuracy: 0.2174\n",
            "Epoch 00010: saving model to model_init_2022-12-1114_28_45.745083/model-00010-1.60875-0.21739-1.60956-0.20833.h5\n",
            "11/11 [==============================] - 44s 4s/step - loss: 1.6088 - categorical_accuracy: 0.2174 - val_loss: 1.6096 - val_categorical_accuracy: 0.2083 - lr: 0.0025\n",
            "Epoch 11/30\n",
            "11/11 [==============================] - ETA: 0s - loss: 1.6106 - categorical_accuracy: 0.1897\n",
            "Epoch 00011: saving model to model_init_2022-12-1114_28_45.745083/model-00011-1.61065-0.18972-1.60910-0.20833.h5\n",
            "\n",
            "Epoch 00011: ReduceLROnPlateau reducing learning rate to 0.0012499999720603228.\n",
            "11/11 [==============================] - 45s 4s/step - loss: 1.6106 - categorical_accuracy: 0.1897 - val_loss: 1.6091 - val_categorical_accuracy: 0.2083 - lr: 0.0025\n",
            "Epoch 12/30\n",
            "11/11 [==============================] - ETA: 0s - loss: 1.6104 - categorical_accuracy: 0.2016\n",
            "Epoch 00012: saving model to model_init_2022-12-1114_28_45.745083/model-00012-1.61039-0.20158-1.60814-0.18056.h5\n",
            "11/11 [==============================] - 43s 4s/step - loss: 1.6104 - categorical_accuracy: 0.2016 - val_loss: 1.6081 - val_categorical_accuracy: 0.1806 - lr: 0.0012\n",
            "Epoch 13/30\n",
            "11/11 [==============================] - ETA: 0s - loss: 1.6108 - categorical_accuracy: 0.2332\n",
            "Epoch 00013: saving model to model_init_2022-12-1114_28_45.745083/model-00013-1.61078-0.23320-1.61100-0.19444.h5\n",
            "\n",
            "Epoch 00013: ReduceLROnPlateau reducing learning rate to 0.0006249999860301614.\n",
            "11/11 [==============================] - 44s 4s/step - loss: 1.6108 - categorical_accuracy: 0.2332 - val_loss: 1.6110 - val_categorical_accuracy: 0.1944 - lr: 0.0012\n",
            "Epoch 14/30\n",
            "11/11 [==============================] - ETA: 0s - loss: 1.6083 - categorical_accuracy: 0.2292\n",
            "Epoch 00014: saving model to model_init_2022-12-1114_28_45.745083/model-00014-1.60830-0.22925-1.60864-0.19444.h5\n",
            "11/11 [==============================] - 45s 5s/step - loss: 1.6083 - categorical_accuracy: 0.2292 - val_loss: 1.6086 - val_categorical_accuracy: 0.1944 - lr: 6.2500e-04\n",
            "Epoch 15/30\n",
            "11/11 [==============================] - ETA: 0s - loss: 1.6098 - categorical_accuracy: 0.1739\n",
            "Epoch 00015: saving model to model_init_2022-12-1114_28_45.745083/model-00015-1.60983-0.17391-1.61518-0.15278.h5\n",
            "\n",
            "Epoch 00015: ReduceLROnPlateau reducing learning rate to 0.0003124999930150807.\n",
            "11/11 [==============================] - 47s 5s/step - loss: 1.6098 - categorical_accuracy: 0.1739 - val_loss: 1.6152 - val_categorical_accuracy: 0.1528 - lr: 6.2500e-04\n",
            "Epoch 16/30\n",
            "11/11 [==============================] - ETA: 0s - loss: 1.6098 - categorical_accuracy: 0.2055\n",
            "Epoch 00016: saving model to model_init_2022-12-1114_28_45.745083/model-00016-1.60984-0.20553-1.60963-0.19444.h5\n",
            "11/11 [==============================] - 44s 4s/step - loss: 1.6098 - categorical_accuracy: 0.2055 - val_loss: 1.6096 - val_categorical_accuracy: 0.1944 - lr: 3.1250e-04\n",
            "Epoch 17/30\n",
            "11/11 [==============================] - ETA: 0s - loss: 1.6088 - categorical_accuracy: 0.2016\n",
            "Epoch 00017: saving model to model_init_2022-12-1114_28_45.745083/model-00017-1.60881-0.20158-1.61178-0.16667.h5\n",
            "\n",
            "Epoch 00017: ReduceLROnPlateau reducing learning rate to 0.00015624999650754035.\n",
            "11/11 [==============================] - 42s 4s/step - loss: 1.6088 - categorical_accuracy: 0.2016 - val_loss: 1.6118 - val_categorical_accuracy: 0.1667 - lr: 3.1250e-04\n",
            "Epoch 18/30\n",
            "11/11 [==============================] - ETA: 0s - loss: 1.6107 - categorical_accuracy: 0.1858\n",
            "Epoch 00018: saving model to model_init_2022-12-1114_28_45.745083/model-00018-1.61065-0.18577-1.61168-0.15278.h5\n",
            "11/11 [==============================] - 43s 4s/step - loss: 1.6107 - categorical_accuracy: 0.1858 - val_loss: 1.6117 - val_categorical_accuracy: 0.1528 - lr: 1.5625e-04\n",
            "Epoch 19/30\n",
            "11/11 [==============================] - ETA: 0s - loss: 1.6089 - categorical_accuracy: 0.2292\n",
            "Epoch 00019: saving model to model_init_2022-12-1114_28_45.745083/model-00019-1.60892-0.22925-1.61364-0.13889.h5\n",
            "\n",
            "Epoch 00019: ReduceLROnPlateau reducing learning rate to 7.812499825377017e-05.\n",
            "11/11 [==============================] - 42s 4s/step - loss: 1.6089 - categorical_accuracy: 0.2292 - val_loss: 1.6136 - val_categorical_accuracy: 0.1389 - lr: 1.5625e-04\n",
            "Epoch 20/30\n",
            "11/11 [==============================] - ETA: 0s - loss: 1.6096 - categorical_accuracy: 0.1976\n",
            "Epoch 00020: saving model to model_init_2022-12-1114_28_45.745083/model-00020-1.60958-0.19763-1.61179-0.18056.h5\n",
            "11/11 [==============================] - 46s 5s/step - loss: 1.6096 - categorical_accuracy: 0.1976 - val_loss: 1.6118 - val_categorical_accuracy: 0.1806 - lr: 7.8125e-05\n",
            "Epoch 21/30\n",
            "11/11 [==============================] - ETA: 0s - loss: 1.6102 - categorical_accuracy: 0.1700\n",
            "Epoch 00021: saving model to model_init_2022-12-1114_28_45.745083/model-00021-1.61023-0.16996-1.61320-0.15278.h5\n",
            "\n",
            "Epoch 00021: ReduceLROnPlateau reducing learning rate to 3.9062499126885086e-05.\n",
            "11/11 [==============================] - 45s 5s/step - loss: 1.6102 - categorical_accuracy: 0.1700 - val_loss: 1.6132 - val_categorical_accuracy: 0.1528 - lr: 7.8125e-05\n",
            "Epoch 22/30\n",
            "11/11 [==============================] - ETA: 0s - loss: 1.6098 - categorical_accuracy: 0.2095\n",
            "Epoch 00022: saving model to model_init_2022-12-1114_28_45.745083/model-00022-1.60976-0.20949-1.61244-0.16667.h5\n",
            "11/11 [==============================] - 44s 4s/step - loss: 1.6098 - categorical_accuracy: 0.2095 - val_loss: 1.6124 - val_categorical_accuracy: 0.1667 - lr: 3.9062e-05\n",
            "Epoch 23/30\n",
            "11/11 [==============================] - ETA: 0s - loss: 1.6118 - categorical_accuracy: 0.2095\n",
            "Epoch 00023: saving model to model_init_2022-12-1114_28_45.745083/model-00023-1.61182-0.20949-1.61390-0.18056.h5\n",
            "\n",
            "Epoch 00023: ReduceLROnPlateau reducing learning rate to 1.9531249563442543e-05.\n",
            "11/11 [==============================] - 46s 5s/step - loss: 1.6118 - categorical_accuracy: 0.2095 - val_loss: 1.6139 - val_categorical_accuracy: 0.1806 - lr: 3.9062e-05\n",
            "Epoch 24/30\n",
            "11/11 [==============================] - ETA: 0s - loss: 1.6109 - categorical_accuracy: 0.1897\n",
            "Epoch 00024: saving model to model_init_2022-12-1114_28_45.745083/model-00024-1.61093-0.18972-1.61064-0.20833.h5\n",
            "11/11 [==============================] - 44s 4s/step - loss: 1.6109 - categorical_accuracy: 0.1897 - val_loss: 1.6106 - val_categorical_accuracy: 0.2083 - lr: 1.9531e-05\n",
            "Epoch 25/30\n",
            "11/11 [==============================] - ETA: 0s - loss: 1.6087 - categorical_accuracy: 0.2174\n",
            "Epoch 00025: saving model to model_init_2022-12-1114_28_45.745083/model-00025-1.60871-0.21739-1.61481-0.13889.h5\n",
            "\n",
            "Epoch 00025: ReduceLROnPlateau reducing learning rate to 1e-05.\n",
            "11/11 [==============================] - 42s 4s/step - loss: 1.6087 - categorical_accuracy: 0.2174 - val_loss: 1.6148 - val_categorical_accuracy: 0.1389 - lr: 1.9531e-05\n",
            "Epoch 26/30\n",
            "11/11 [==============================] - ETA: 0s - loss: 1.6106 - categorical_accuracy: 0.2292\n",
            "Epoch 00026: saving model to model_init_2022-12-1114_28_45.745083/model-00026-1.61062-0.22925-1.61044-0.22222.h5\n",
            "11/11 [==============================] - 45s 4s/step - loss: 1.6106 - categorical_accuracy: 0.2292 - val_loss: 1.6104 - val_categorical_accuracy: 0.2222 - lr: 1.0000e-05\n",
            "Epoch 27/30\n",
            "11/11 [==============================] - ETA: 0s - loss: 1.6123 - categorical_accuracy: 0.1700\n",
            "Epoch 00027: saving model to model_init_2022-12-1114_28_45.745083/model-00027-1.61234-0.16996-1.61477-0.16667.h5\n",
            "11/11 [==============================] - 44s 4s/step - loss: 1.6123 - categorical_accuracy: 0.1700 - val_loss: 1.6148 - val_categorical_accuracy: 0.1667 - lr: 1.0000e-05\n",
            "Epoch 28/30\n",
            "11/11 [==============================] - ETA: 0s - loss: 1.6117 - categorical_accuracy: 0.1779\n",
            "Epoch 00028: saving model to model_init_2022-12-1114_28_45.745083/model-00028-1.61169-0.17787-1.61053-0.18056.h5\n",
            "11/11 [==============================] - 43s 4s/step - loss: 1.6117 - categorical_accuracy: 0.1779 - val_loss: 1.6105 - val_categorical_accuracy: 0.1806 - lr: 1.0000e-05\n",
            "Epoch 29/30\n",
            "11/11 [==============================] - ETA: 0s - loss: 1.6133 - categorical_accuracy: 0.1344\n",
            "Epoch 00029: saving model to model_init_2022-12-1114_28_45.745083/model-00029-1.61327-0.13439-1.61125-0.15278.h5\n",
            "11/11 [==============================] - 45s 4s/step - loss: 1.6133 - categorical_accuracy: 0.1344 - val_loss: 1.6113 - val_categorical_accuracy: 0.1528 - lr: 1.0000e-05\n",
            "Epoch 30/30\n",
            "11/11 [==============================] - ETA: 0s - loss: 1.6117 - categorical_accuracy: 0.1818\n",
            "Epoch 00030: saving model to model_init_2022-12-1114_28_45.745083/model-00030-1.61167-0.18182-1.61053-0.19444.h5\n",
            "11/11 [==============================] - 42s 4s/step - loss: 1.6117 - categorical_accuracy: 0.1818 - val_loss: 1.6105 - val_categorical_accuracy: 0.1944 - lr: 1.0000e-05\n"
          ]
        }
      ],
      "source": [
        "history = model.fit(train_generator, steps_per_epoch = steps_per_epoch, epochs=num_epochs, verbose=1, \n",
        "                    callbacks=callbacks_list, validation_data=val_generator, \n",
        "                    validation_steps= validation_steps, class_weight=None, workers=1, initial_epoch=0)"
      ]
    },
    {
      "cell_type": "code",
      "execution_count": null,
      "metadata": {
        "id": "CmMCT2NxnspH",
        "outputId": "0aff029e-4333-43f3-a396-2accd3126d41"
      },
      "outputs": [
        {
          "data": {
            "text/plain": [
              "<matplotlib.legend.Legend at 0x7f8f0d63f1c0>"
            ]
          },
          "execution_count": 25,
          "metadata": {},
          "output_type": "execute_result"
        },
        {
          "data": {
            "image/png": "[encoded data removed]",
            "text/plain": [
              "<Figure size 1152x288 with 2 Axes>"
            ]
          },
          "metadata": {
            "needs_background": "light"
          },
          "output_type": "display_data"
        }
      ],
      "source": [
        "fig, axes = plt.subplots(nrows=1, ncols=2, figsize=(16,4))\n",
        "axes[0].plot(history.history['categorical_accuracy'])   \n",
        "axes[0].plot(history.history['val_categorical_accuracy'])\n",
        "axes[0].legend(['categorical_accuracy','val_categorical_accuracy'])\n",
        "\n",
        "axes[1].plot(history.history['loss'])   \n",
        "axes[1].plot(history.history['val_loss'])\n",
        "axes[1].legend(['loss','val_loss'])"
      ]
    },
    {
      "cell_type": "markdown",
      "metadata": {
        "id": "qPf2nAwunspI"
      },
      "source": [
        "### 5. Model Conv3D"
      ]
    },
    {
      "cell_type": "code",
      "execution_count": null,
      "metadata": {
        "id": "-RwoSFdBnspI"
      },
      "outputs": [],
      "source": [
        "model = Sequential()\n",
        "\n",
        "model.add(Conv3D(32, kernel_size=3, activation='relu', input_shape=input_shape))\n",
        "model.add(Conv3D(64, kernel_size=3, activation='relu'))\n",
        "model.add(MaxPooling3D(pool_size=(2, 2, 2)))\n",
        "model.add(BatchNormalization())\n",
        "\n",
        "model.add(Conv3D(128, kernel_size=3, activation='relu'))\n",
        "model.add(MaxPooling3D(pool_size=(1, 2, 2)))\n",
        "model.add(BatchNormalization())\n",
        "\n",
        "model.add(Conv3D(256, kernel_size=(1, 3, 3), activation='relu'))\n",
        "model.add(MaxPooling3D(pool_size=(1, 2, 2)))\n",
        "model.add(BatchNormalization())\n",
        "\n",
        "model.add(Conv3D(512, kernel_size=(1, 3, 3), activation='relu'))\n",
        "model.add(Conv3D(512, kernel_size=(1, 3, 3), activation='relu'))\n",
        "model.add(MaxPooling3D(pool_size=(1, 2, 2)))\n",
        "model.add(BatchNormalization())\n",
        "\n",
        "model.add(Flatten())\n",
        "model.add(Dense(512, activation='relu'))\n",
        "model.add(BatchNormalization())\n",
        "model.add(Dense(5, activation='softmax'))"
      ]
    },
    {
      "cell_type": "code",
      "execution_count": null,
      "metadata": {
        "id": "7Psi36RZnspI",
        "outputId": "fa560733-106a-47c2-9cb4-c1e4bf81512c"
      },
      "outputs": [
        {
          "name": "stdout",
          "output_type": "stream",
          "text": [
            "Model: \"sequential_4\"\n",
            "_________________________________________________________________\n",
            " Layer (type)                Output Shape              Param #   \n",
            "=================================================================\n",
            " conv3d_16 (Conv3D)          (None, 16, 82, 82, 32)    2624      \n",
            "                                                                 \n",
            " conv3d_17 (Conv3D)          (None, 14, 80, 80, 64)    55360     \n",
            "                                                                 \n",
            " max_pooling3d_12 (MaxPoolin  (None, 7, 40, 40, 64)    0         \n",
            " g3D)                                                            \n",
            "                                                                 \n",
            " batch_normalization_4 (Batc  (None, 7, 40, 40, 64)    256       \n",
            " hNormalization)                                                 \n",
            "                                                                 \n",
            " conv3d_18 (Conv3D)          (None, 5, 38, 38, 128)    221312    \n",
            "                                                                 \n",
            " max_pooling3d_13 (MaxPoolin  (None, 5, 19, 19, 128)   0         \n",
            " g3D)                                                            \n",
            "                                                                 \n",
            " batch_normalization_5 (Batc  (None, 5, 19, 19, 128)   512       \n",
            " hNormalization)                                                 \n",
            "                                                                 \n",
            " conv3d_19 (Conv3D)          (None, 5, 17, 17, 256)    295168    \n",
            "                                                                 \n",
            " max_pooling3d_14 (MaxPoolin  (None, 5, 8, 8, 256)     0         \n",
            " g3D)                                                            \n",
            "                                                                 \n",
            " batch_normalization_6 (Batc  (None, 5, 8, 8, 256)     1024      \n",
            " hNormalization)                                                 \n",
            "                                                                 \n",
            " conv3d_20 (Conv3D)          (None, 5, 6, 6, 512)      1180160   \n",
            "                                                                 \n",
            " conv3d_21 (Conv3D)          (None, 5, 4, 4, 512)      2359808   \n",
            "                                                                 \n",
            " max_pooling3d_15 (MaxPoolin  (None, 5, 2, 2, 512)     0         \n",
            " g3D)                                                            \n",
            "                                                                 \n",
            " batch_normalization_7 (Batc  (None, 5, 2, 2, 512)     2048      \n",
            " hNormalization)                                                 \n",
            "                                                                 \n",
            " flatten_3 (Flatten)         (None, 10240)             0         \n",
            "                                                                 \n",
            " dense_6 (Dense)             (None, 512)               5243392   \n",
            "                                                                 \n",
            " batch_normalization_8 (Batc  (None, 512)              2048      \n",
            " hNormalization)                                                 \n",
            "                                                                 \n",
            " dense_7 (Dense)             (None, 5)                 2565      \n",
            "                                                                 \n",
            "=================================================================\n",
            "Total params: 9,366,277\n",
            "Trainable params: 9,363,333\n",
            "Non-trainable params: 2,944\n",
            "_________________________________________________________________\n",
            "None\n"
          ]
        }
      ],
      "source": [
        "optimiser = tf.keras.optimizers.Adam(lr=0.01) #write your optimizer\n",
        "model.compile(optimizer=optimiser, loss='categorical_crossentropy', metrics=['categorical_accuracy'])\n",
        "print(model.summary())"
      ]
    },
    {
      "cell_type": "code",
      "execution_count": null,
      "metadata": {
        "id": "A8rSjVkQnspI",
        "outputId": "6874dd57-6ebd-4655-aa4e-f7ea591e4412"
      },
      "outputs": [
        {
          "name": "stdout",
          "output_type": "stream",
          "text": [
            "Epoch 1/30\n",
            "11/11 [==============================] - ETA: 0s - loss: 5.1335 - categorical_accuracy: 0.2688\n",
            "Epoch 00001: saving model to model_init_2022-12-1114_28_45.745083/model-00001-5.13353-0.26877-112181.37500-0.19444.h5\n",
            "11/11 [==============================] - 51s 5s/step - loss: 5.1335 - categorical_accuracy: 0.2688 - val_loss: 112181.3750 - val_categorical_accuracy: 0.1944 - lr: 0.0100\n",
            "Epoch 2/30\n",
            "11/11 [==============================] - ETA: 0s - loss: 2.6950 - categorical_accuracy: 0.3478\n",
            "Epoch 00002: saving model to model_init_2022-12-1114_28_45.745083/model-00002-2.69502-0.34783-7473.48779-0.38889.h5\n",
            "11/11 [==============================] - 48s 5s/step - loss: 2.6950 - categorical_accuracy: 0.3478 - val_loss: 7473.4878 - val_categorical_accuracy: 0.3889 - lr: 0.0100\n",
            "Epoch 3/30\n",
            "11/11 [==============================] - ETA: 0s - loss: 1.8180 - categorical_accuracy: 0.3874\n",
            "Epoch 00005: saving model to model_init_2022-12-1114_28_45.745083/model-00005-1.31295-0.50198-192.82150-0.19444.h5\n",
            "11/11 [==============================] - 43s 4s/step - loss: 1.3129 - categorical_accuracy: 0.5020 - val_loss: 192.8215 - val_categorical_accuracy: 0.1944 - lr: 0.0100\n",
            "Epoch 6/30\n",
            "11/11 [==============================] - ETA: 0s - loss: 1.2185 - categorical_accuracy: 0.5257\n",
            "Epoch 00006: saving model to model_init_2022-12-1114_28_45.745083/model-00006-1.21853-0.52569-153.61212-0.15278.h5\n",
            "11/11 [==============================] - 46s 5s/step - loss: 1.2185 - categorical_accuracy: 0.5257 - val_loss: 153.6121 - val_categorical_accuracy: 0.1528 - lr: 0.0100\n",
            "Epoch 7/30\n",
            "11/11 [==============================] - ETA: 0s - loss: 1.2276 - categorical_accuracy: 0.5534\n",
            "Epoch 00007: saving model to model_init_2022-12-1114_28_45.745083/model-00007-1.22763-0.55336-76.76734-0.25000.h5\n",
            "11/11 [==============================] - 44s 4s/step - loss: 1.2276 - categorical_accuracy: 0.5534 - val_loss: 76.7673 - val_categorical_accuracy: 0.2500 - lr: 0.0100\n",
            "Epoch 8/30\n",
            "11/11 [==============================] - ETA: 0s - loss: 0.9457 - categorical_accuracy: 0.6403\n",
            "Epoch 00008: saving model to model_init_2022-12-1114_28_45.745083/model-00008-0.94573-0.64032-87.05344-0.18056.h5\n",
            "11/11 [==============================] - 43s 4s/step - loss: 0.9457 - categorical_accuracy: 0.6403 - val_loss: 87.0534 - val_categorical_accuracy: 0.1806 - lr: 0.0100\n",
            "Epoch 9/30\n",
            "11/11 [==============================] - ETA: 0s - loss: 1.1167 - categorical_accuracy: 0.5771\n",
            "Epoch 00009: saving model to model_init_2022-12-1114_28_45.745083/model-00009-1.11669-0.57708-17.97423-0.27778.h5\n",
            "11/11 [==============================] - 43s 4s/step - loss: 1.1167 - categorical_accuracy: 0.5771 - val_loss: 17.9742 - val_categorical_accuracy: 0.2778 - lr: 0.0100\n",
            "Epoch 10/30\n",
            "11/11 [==============================] - ETA: 0s - loss: 0.9503 - categorical_accuracy: 0.6166\n",
            "Epoch 00010: saving model to model_init_2022-12-1114_28_45.745083/model-00010-0.95027-0.61660-23.90144-0.22222.h5\n",
            "11/11 [==============================] - 42s 4s/step - loss: 0.9503 - categorical_accuracy: 0.6166 - val_loss: 23.9014 - val_categorical_accuracy: 0.2222 - lr: 0.0100\n",
            "Epoch 11/30\n",
            "11/11 [==============================] - ETA: 0s - loss: 1.0835 - categorical_accuracy: 0.6087\n",
            "Epoch 00011: saving model to model_init_2022-12-1114_28_45.745083/model-00011-1.08347-0.60870-13.21398-0.29167.h5\n",
            "11/11 [==============================] - 45s 4s/step - loss: 1.0835 - categorical_accuracy: 0.6087 - val_loss: 13.2140 - val_categorical_accuracy: 0.2917 - lr: 0.0100\n",
            "Epoch 12/30\n",
            "11/11 [==============================] - ETA: 0s - loss: 0.9867 - categorical_accuracy: 0.6482\n",
            "Epoch 00012: saving model to model_init_2022-12-1114_28_45.745083/model-00012-0.98672-0.64822-29.14063-0.15278.h5\n",
            "11/11 [==============================] - 46s 5s/step - loss: 0.9867 - categorical_accuracy: 0.6482 - val_loss: 29.1406 - val_categorical_accuracy: 0.1528 - lr: 0.0100\n",
            "Epoch 13/30\n",
            "11/11 [==============================] - ETA: 0s - loss: 0.8517 - categorical_accuracy: 0.6719\n",
            "Epoch 00013: saving model to model_init_2022-12-1114_28_45.745083/model-00013-0.85168-0.67194-11.24472-0.27778.h5\n",
            "11/11 [==============================] - 42s 4s/step - loss: 0.8517 - categorical_accuracy: 0.6719 - val_loss: 11.2447 - val_categorical_accuracy: 0.2778 - lr: 0.0100\n",
            "Epoch 14/30\n",
            "11/11 [==============================] - ETA: 0s - loss: 0.5528 - categorical_accuracy: 0.7945\n",
            "Epoch 00018: saving model to model_init_2022-12-1114_28_45.745083/model-00018-0.55283-0.79447-3.17133-0.33333.h5\n",
            "11/11 [==============================] - 44s 4s/step - loss: 0.5528 - categorical_accuracy: 0.7945 - val_loss: 3.1713 - val_categorical_accuracy: 0.3333 - lr: 0.0050\n",
            "Epoch 19/30\n",
            "11/11 [==============================] - ETA: 0s - loss: 0.5485 - categorical_accuracy: 0.8103\n",
            "Epoch 00019: saving model to model_init_2022-12-1114_28_45.745083/model-00019-0.54855-0.81028-3.55709-0.37500.h5\n",
            "11/11 [==============================] - 43s 4s/step - loss: 0.5485 - categorical_accuracy: 0.8103 - val_loss: 3.5571 - val_categorical_accuracy: 0.3750 - lr: 0.0050\n",
            "Epoch 20/30\n",
            "11/11 [==============================] - ETA: 0s - loss: 0.4336 - categorical_accuracy: 0.8577\n",
            "Epoch 00020: saving model to model_init_2022-12-1114_28_45.745083/model-00020-0.43364-0.85771-1.56166-0.59722.h5\n",
            "11/11 [==============================] - 43s 4s/step - loss: 0.4336 - categorical_accuracy: 0.8577 - val_loss: 1.5617 - val_categorical_accuracy: 0.5972 - lr: 0.0050\n",
            "Epoch 21/30\n",
            "11/11 [==============================] - ETA: 0s - loss: 0.3885 - categorical_accuracy: 0.8577\n",
            "Epoch 00021: saving model to model_init_2022-12-1114_28_45.745083/model-00021-0.38850-0.85771-1.52492-0.56944.h5\n",
            "11/11 [==============================] - 49s 5s/step - loss: 0.3885 - categorical_accuracy: 0.8577 - val_loss: 1.5249 - val_categorical_accuracy: 0.5694 - lr: 0.0050\n",
            "Epoch 22/30\n",
            "11/11 [==============================] - ETA: 0s - loss: 0.3298 - categorical_accuracy: 0.8617\n",
            "Epoch 00022: saving model to model_init_2022-12-1114_28_45.745083/model-00022-0.32976-0.86166-1.18672-0.62500.h5\n",
            "11/11 [==============================] - 44s 4s/step - loss: 0.3298 - categorical_accuracy: 0.8617 - val_loss: 1.1867 - val_categorical_accuracy: 0.6250 - lr: 0.0050\n",
            "Epoch 23/30\n",
            "11/11 [==============================] - ETA: 0s - loss: 0.3616 - categorical_accuracy: 0.8854\n",
            "Epoch 00023: saving model to model_init_2022-12-1114_28_45.745083/model-00023-0.36164-0.88538-1.04782-0.62500.h5\n",
            "11/11 [==============================] - 42s 4s/step - loss: 0.3616 - categorical_accuracy: 0.8854 - val_loss: 1.0478 - val_categorical_accuracy: 0.6250 - lr: 0.0050\n",
            "Epoch 24/30\n",
            "11/11 [==============================] - ETA: 0s - loss: 0.2815 - categorical_accuracy: 0.9051\n",
            "Epoch 00024: saving model to model_init_2022-12-1114_28_45.745083/model-00024-0.28149-0.90514-0.71606-0.73611.h5\n",
            "11/11 [==============================] - 43s 4s/step - loss: 0.2815 - categorical_accuracy: 0.9051 - val_loss: 0.7161 - val_categorical_accuracy: 0.7361 - lr: 0.0050\n",
            "Epoch 25/30\n",
            "11/11 [==============================] - ETA: 0s - loss: 0.3748 - categorical_accuracy: 0.8735\n",
            "Epoch 00025: saving model to model_init_2022-12-1114_28_45.745083/model-00025-0.37478-0.87352-0.91150-0.69444.h5\n",
            "11/11 [==============================] - 43s 4s/step - loss: 0.3748 - categorical_accuracy: 0.8735 - val_loss: 0.9115 - val_categorical_accuracy: 0.6944 - lr: 0.0050\n",
            "Epoch 26/30\n",
            "11/11 [==============================] - ETA: 0s - loss: 0.2952 - categorical_accuracy: 0.8893\n",
            "Epoch 00026: saving model to model_init_2022-12-1114_28_45.745083/model-00026-0.29523-0.88933-1.07553-0.66667.h5\n",
            "\n",
            "Epoch 00026: ReduceLROnPlateau reducing learning rate to 0.0024999999441206455.\n",
            "11/11 [==============================] - 45s 4s/step - loss: 0.2952 - categorical_accuracy: 0.8893 - val_loss: 1.0755 - val_categorical_accuracy: 0.6667 - lr: 0.0050\n",
            "Epoch 27/30\n",
            "11/11 [==============================] - ETA: 0s - loss: 0.2399 - categorical_accuracy: 0.9249\n",
            "Epoch 00027: saving model to model_init_2022-12-1114_28_45.745083/model-00027-0.23990-0.92490-0.85395-0.72222.h5\n",
            "11/11 [==============================] - 46s 5s/step - loss: 0.2399 - categorical_accuracy: 0.9249 - val_loss: 0.8539 - val_categorical_accuracy: 0.7222 - lr: 0.0025\n",
            "Epoch 28/30\n",
            "11/11 [==============================] - ETA: 0s - loss: 0.2521 - categorical_accuracy: 0.8933\n",
            "Epoch 00028: saving model to model_init_2022-12-1114_28_45.745083/model-00028-0.25212-0.89328-0.47857-0.83333.h5\n",
            "11/11 [==============================] - 42s 4s/step - loss: 0.2521 - categorical_accuracy: 0.8933 - val_loss: 0.4786 - val_categorical_accuracy: 0.8333 - lr: 0.0025\n",
            "Epoch 29/30\n",
            "11/11 [==============================] - ETA: 0s - loss: 0.1855 - categorical_accuracy: 0.9407\n",
            "Epoch 00029: saving model to model_init_2022-12-1114_28_45.745083/model-00029-0.18554-0.94071-0.97285-0.72222.h5\n",
            "11/11 [==============================] - 44s 4s/step - loss: 0.1855 - categorical_accuracy: 0.9407 - val_loss: 0.9728 - val_categorical_accuracy: 0.7222 - lr: 0.0025\n",
            "Epoch 30/30\n",
            "11/11 [==============================] - ETA: 0s - loss: 0.1642 - categorical_accuracy: 0.9526\n",
            "Epoch 00030: saving model to model_init_2022-12-1114_28_45.745083/model-00030-0.16418-0.95257-0.75713-0.79167.h5\n",
            "\n",
            "Epoch 00030: ReduceLROnPlateau reducing learning rate to 0.0012499999720603228.\n",
            "11/11 [==============================] - 47s 5s/step - loss: 0.1642 - categorical_accuracy: 0.9526 - val_loss: 0.7571 - val_categorical_accuracy: 0.7917 - lr: 0.0025\n"
          ]
        }
      ],
      "source": [
        "history = model.fit(train_generator, steps_per_epoch = steps_per_epoch, epochs=num_epochs, verbose=1, \n",
        "                    callbacks=callbacks_list, validation_data=val_generator, \n",
        "                    validation_steps= validation_steps, class_weight=None, workers=1, initial_epoch=0)"
      ]
    },
    {
      "cell_type": "code",
      "execution_count": null,
      "metadata": {
        "id": "2AjeW2JNnspI",
        "outputId": "f4473c84-e345-45af-8e0f-6ab8df4b6b82"
      },
      "outputs": [
        {
          "data": {
            "text/plain": [
              "<matplotlib.legend.Legend at 0x7f8f24ae0c40>"
            ]
          },
          "execution_count": 29,
          "metadata": {},
          "output_type": "execute_result"
        },
        {
          "data": {
            "image/png": "[encoded data removed]",
            "text/plain": [
              "<Figure size 1152x288 with 2 Axes>"
            ]
          },
          "metadata": {
            "needs_background": "light"
          },
          "output_type": "display_data"
        }
      ],
      "source": [
        "fig, axes = plt.subplots(nrows=1, ncols=2, figsize=(16,4))\n",
        "axes[0].plot(history.history['categorical_accuracy'])   \n",
        "axes[0].plot(history.history['val_categorical_accuracy'])\n",
        "axes[0].legend(['categorical_accuracy','val_categorical_accuracy'])\n",
        "\n",
        "axes[1].plot(history.history['loss'])   \n",
        "axes[1].plot(history.history['val_loss'])\n",
        "axes[1].legend(['loss','val_loss'])"
      ]
    },
    {
      "cell_type": "markdown",
      "metadata": {
        "id": "PSqrRJAwnspI"
      },
      "source": [
        "### 6. Model Conv3D"
      ]
    },
    {
      "cell_type": "code",
      "execution_count": null,
      "metadata": {
        "id": "9yKC4HArnspI"
      },
      "outputs": [],
      "source": [
        "input_shape=18,84,84,3\n",
        "model = Sequential()\n",
        "\n",
        "model.add(Conv3D(32, kernel_size=3, activation='relu', input_shape=input_shape))\n",
        "model.add(Conv3D(64, kernel_size=3, activation='relu'))\n",
        "model.add(MaxPooling3D(pool_size=(2, 2, 2)))\n",
        "model.add(BatchNormalization())\n",
        "#model.add(Dropout(0.2))\n",
        "model.add(Dropout(0.5))\n",
        "\n",
        "model.add(Conv3D(128, kernel_size=3, activation='relu'))\n",
        "model.add(MaxPooling3D(pool_size=(1, 2, 2)))\n",
        "model.add(BatchNormalization())\n",
        "#model.add(Dropout(0.2))\n",
        "model.add(Dropout(0.5))\n",
        "\n",
        "model.add(Conv3D(256, kernel_size=(1, 3, 3), activation='relu'))\n",
        "model.add(MaxPooling3D(pool_size=(1, 2, 2)))\n",
        "model.add(BatchNormalization())\n",
        "#model.add(Dropout(0.2))\n",
        "model.add(Dropout(0.5))\n",
        "\n",
        "model.add(Conv3D(512, kernel_size=(1, 3, 3), activation='relu'))\n",
        "model.add(Conv3D(512, kernel_size=(1, 3, 3), activation='relu'))\n",
        "model.add(MaxPooling3D(pool_size=(1, 2, 2)))\n",
        "model.add(BatchNormalization())\n",
        "#model.add(Dropout(0.2))\n",
        "model.add(Dropout(0.5))\n",
        "\n",
        "model.add(Flatten())\n",
        "model.add(Dense(512, activation='relu'))\n",
        "model.add(BatchNormalization())\n",
        "model.add(Dense(5, activation='softmax'))"
      ]
    },
    {
      "cell_type": "code",
      "execution_count": null,
      "metadata": {
        "id": "2zMCqJ4cnspI",
        "outputId": "f0db413a-e9f7-4217-c082-d26b0c2ff0ed"
      },
      "outputs": [
        {
          "name": "stdout",
          "output_type": "stream",
          "text": [
            "Model: \"sequential_1\"\n",
            "_________________________________________________________________\n",
            " Layer (type)                Output Shape              Param #   \n",
            "=================================================================\n",
            " conv3d (Conv3D)             (None, 16, 82, 82, 32)    2624      \n",
            "                                                                 \n",
            " conv3d_1 (Conv3D)           (None, 14, 80, 80, 64)    55360     \n",
            "                                                                 \n",
            " max_pooling3d (MaxPooling3D  (None, 7, 40, 40, 64)    0         \n",
            " )                                                               \n",
            "                                                                 \n",
            " batch_normalization (BatchN  (None, 7, 40, 40, 64)    256       \n",
            " ormalization)                                                   \n",
            "                                                                 \n",
            " dropout (Dropout)           (None, 7, 40, 40, 64)     0         \n",
            "                                                                 \n",
            " conv3d_2 (Conv3D)           (None, 5, 38, 38, 128)    221312    \n",
            "                                                                 \n",
            " max_pooling3d_1 (MaxPooling  (None, 5, 19, 19, 128)   0         \n",
            " 3D)                                                             \n",
            "                                                                 \n",
            " batch_normalization_1 (Batc  (None, 5, 19, 19, 128)   512       \n",
            " hNormalization)                                                 \n",
            "                                                                 \n",
            " dropout_1 (Dropout)         (None, 5, 19, 19, 128)    0         \n",
            "                                                                 \n",
            " conv3d_3 (Conv3D)           (None, 5, 17, 17, 256)    295168    \n",
            "                                                                 \n",
            " max_pooling3d_2 (MaxPooling  (None, 5, 8, 8, 256)     0         \n",
            " 3D)                                                             \n",
            "                                                                 \n",
            " batch_normalization_2 (Batc  (None, 5, 8, 8, 256)     1024      \n",
            " hNormalization)                                                 \n",
            "                                                                 \n",
            " dropout_2 (Dropout)         (None, 5, 8, 8, 256)      0         \n",
            "                                                                 \n",
            " conv3d_4 (Conv3D)           (None, 5, 6, 6, 512)      1180160   \n",
            "                                                                 \n",
            " conv3d_5 (Conv3D)           (None, 5, 4, 4, 512)      2359808   \n",
            "                                                                 \n",
            " max_pooling3d_3 (MaxPooling  (None, 5, 2, 2, 512)     0         \n",
            " 3D)                                                             \n",
            "                                                                 \n",
            " batch_normalization_3 (Batc  (None, 5, 2, 2, 512)     2048      \n",
            " hNormalization)                                                 \n",
            "                                                                 \n",
            " dropout_3 (Dropout)         (None, 5, 2, 2, 512)      0         \n",
            "                                                                 \n",
            " flatten (Flatten)           (None, 10240)             0         \n",
            "                                                                 \n",
            " dense (Dense)               (None, 512)               5243392   \n",
            "                                                                 \n",
            " batch_normalization_4 (Batc  (None, 512)              2048      \n",
            " hNormalization)                                                 \n",
            "                                                                 \n",
            " dense_1 (Dense)             (None, 5)                 2565      \n",
            "                                                                 \n",
            "=================================================================\n",
            "Total params: 9,366,277\n",
            "Trainable params: 9,363,333\n",
            "Non-trainable params: 2,944\n",
            "_________________________________________________________________\n",
            "None\n"
          ]
        }
      ],
      "source": [
        "optimiser = tf.keras.optimizers.Adam(lr=0.01) #write your optimizer\n",
        "model.compile(optimizer=optimiser, loss='categorical_crossentropy', metrics=['categorical_accuracy'])\n",
        "print(model.summary())"
      ]
    },
    {
      "cell_type": "code",
      "execution_count": null,
      "metadata": {
        "id": "YHEZVSeCnspI",
        "outputId": "2e08d1c2-0335-4355-f9a8-d8dfaa9f205b"
      },
      "outputs": [
        {
          "name": "stdout",
          "output_type": "stream",
          "text": [
            "Source path =  /datasets/Project_data/train ; batch size = 64\n",
            "Epoch 1/30\n"
          ]
        },
        {
          "name": "stderr",
          "output_type": "stream",
          "text": [
            "2022-12-12 02:35:47.443992: I tensorflow/stream_executor/cuda/cuda_dnn.cc:377] Loaded cuDNN version 8302\n"
          ]
        },
        {
          "name": "stdout",
          "output_type": "stream",
          "text": [
            "11/11 [==============================] - ETA: 0s - loss: 3.5726 - categorical_accuracy: 0.2174Source path =  /datasets/Project_data/val ; batch size = 64\n",
            "\n",
            "Epoch 00001: saving model to model_init_2022-12-1202_31_33.593754/model-00001-3.57255-0.21739-26081.55078-0.20833.h5\n",
            "11/11 [==============================] - 46s 4s/step - loss: 3.5726 - categorical_accuracy: 0.2174 - val_loss: 26081.5508 - val_categorical_accuracy: 0.2083 - lr: 0.0100\n",
            "Epoch 2/30\n",
            "11/11 [==============================] - ETA: 0s - loss: 1.7089 - categorical_accuracy: 0.3953\n",
            "Epoch 00002: saving model to model_init_2022-12-1202_31_33.593754/model-00002-1.70889-0.39526-3661.17065-0.22222.h5\n",
            "11/11 [==============================] - 42s 4s/step - loss: 1.7089 - categorical_accuracy: 0.3953 - val_loss: 3661.1707 - val_categorical_accuracy: 0.2222 - lr: 0.0100\n",
            "Epoch 3/30\n",
            "11/11 [==============================] - ETA: 0s - loss: 1.6828 - categorical_accuracy: 0.4269\n",
            "Epoch 00003: saving model to model_init_2022-12-1202_31_33.593754/model-00003-1.68278-0.42688-736.85089-0.20833.h5\n",
            "11/11 [==============================] - 42s 4s/step - loss: 1.6828 - categorical_accuracy: 0.4269 - val_loss: 736.8509 - val_categorical_accuracy: 0.2083 - lr: 0.0100\n",
            "Epoch 4/30\n",
            "11/11 [==============================] - ETA: 0s - loss: 1.7889 - categorical_accuracy: 0.3518\n",
            "Epoch 00004: saving model to model_init_2022-12-1202_31_33.593754/model-00004-1.78888-0.35178-249.01796-0.25000.h5\n",
            "11/11 [==============================] - 48s 5s/step - loss: 1.7889 - categorical_accuracy: 0.3518 - val_loss: 249.0180 - val_categorical_accuracy: 0.2500 - lr: 0.0100\n",
            "Epoch 5/30\n",
            "11/11 [==============================] - ETA: 0s - loss: 1.4694 - categorical_accuracy: 0.4545\n",
            "Epoch 00005: saving model to model_init_2022-12-1202_31_33.593754/model-00005-1.46939-0.45455-202.48471-0.23611.h5\n",
            "11/11 [==============================] - 47s 5s/step - loss: 1.4694 - categorical_accuracy: 0.4545 - val_loss: 202.4847 - val_categorical_accuracy: 0.2361 - lr: 0.0100\n",
            "Epoch 6/30\n",
            "11/11 [==============================] - ETA: 0s - loss: 1.3427 - categorical_accuracy: 0.5020\n",
            "Epoch 00006: saving model to model_init_2022-12-1202_31_33.593754/model-00006-1.34267-0.50198-42.57913-0.25000.h5\n",
            "11/11 [==============================] - 42s 4s/step - loss: 1.3427 - categorical_accuracy: 0.5020 - val_loss: 42.5791 - val_categorical_accuracy: 0.2500 - lr: 0.0100\n",
            "Epoch 7/30\n",
            "11/11 [==============================] - ETA: 0s - loss: 1.3378 - categorical_accuracy: 0.5257\n",
            "Epoch 00007: saving model to model_init_2022-12-1202_31_33.593754/model-00007-1.33776-0.52569-28.60308-0.20833.h5\n",
            "11/11 [==============================] - 46s 5s/step - loss: 1.3378 - categorical_accuracy: 0.5257 - val_loss: 28.6031 - val_categorical_accuracy: 0.2083 - lr: 0.0100\n",
            "Epoch 8/30\n",
            "11/11 [==============================] - ETA: 0s - loss: 1.2368 - categorical_accuracy: 0.5534\n",
            "Epoch 00008: saving model to model_init_2022-12-1202_31_33.593754/model-00008-1.23677-0.55336-19.72525-0.26389.h5\n",
            "11/11 [==============================] - 48s 5s/step - loss: 1.2368 - categorical_accuracy: 0.5534 - val_loss: 19.7252 - val_categorical_accuracy: 0.2639 - lr: 0.0100\n",
            "Epoch 9/30\n",
            "11/11 [==============================] - ETA: 0s - loss: 1.0053 - categorical_accuracy: 0.6047\n",
            "Epoch 00009: saving model to model_init_2022-12-1202_31_33.593754/model-00009-1.00531-0.60474-19.55515-0.16667.h5\n",
            "11/11 [==============================] - 50s 5s/step - loss: 1.0053 - categorical_accuracy: 0.6047 - val_loss: 19.5552 - val_categorical_accuracy: 0.1667 - lr: 0.0100\n",
            "Epoch 10/30\n",
            "11/11 [==============================] - ETA: 0s - loss: 1.1433 - categorical_accuracy: 0.5850\n",
            "Epoch 00010: saving model to model_init_2022-12-1202_31_33.593754/model-00010-1.14330-0.58498-14.90723-0.29167.h5\n",
            "11/11 [==============================] - 48s 5s/step - loss: 1.1433 - categorical_accuracy: 0.5850 - val_loss: 14.9072 - val_categorical_accuracy: 0.2917 - lr: 0.0100\n",
            "Epoch 11/30\n",
            "11/11 [==============================] - ETA: 0s - loss: 1.1087 - categorical_accuracy: 0.5731\n",
            "Epoch 00011: saving model to model_init_2022-12-1202_31_33.593754/model-00011-1.10871-0.57312-8.59458-0.27778.h5\n",
            "11/11 [==============================] - 47s 5s/step - loss: 1.1087 - categorical_accuracy: 0.5731 - val_loss: 8.5946 - val_categorical_accuracy: 0.2778 - lr: 0.0100\n",
            "Epoch 12/30\n",
            "11/11 [==============================] - ETA: 0s - loss: 1.1734 - categorical_accuracy: 0.5850\n",
            "Epoch 00012: saving model to model_init_2022-12-1202_31_33.593754/model-00012-1.17342-0.58498-6.80449-0.20833.h5\n",
            "11/11 [==============================] - 51s 5s/step - loss: 1.1734 - categorical_accuracy: 0.5850 - val_loss: 6.8045 - val_categorical_accuracy: 0.2083 - lr: 0.0100\n",
            "Epoch 13/30\n",
            "11/11 [==============================] - ETA: 0s - loss: 1.0353 - categorical_accuracy: 0.6403\n",
            "Epoch 00013: saving model to model_init_2022-12-1202_31_33.593754/model-00013-1.03534-0.64032-9.97841-0.23611.h5\n",
            "11/11 [==============================] - 49s 5s/step - loss: 1.0353 - categorical_accuracy: 0.6403 - val_loss: 9.9784 - val_categorical_accuracy: 0.2361 - lr: 0.0100\n",
            "Epoch 14/30\n",
            "11/11 [==============================] - ETA: 0s - loss: 0.9298 - categorical_accuracy: 0.6798\n",
            "Epoch 00014: saving model to model_init_2022-12-1202_31_33.593754/model-00014-0.92980-0.67984-3.99369-0.30556.h5\n",
            "11/11 [==============================] - 48s 5s/step - loss: 0.9298 - categorical_accuracy: 0.6798 - val_loss: 3.9937 - val_categorical_accuracy: 0.3056 - lr: 0.0100\n",
            "Epoch 15/30\n",
            "11/11 [==============================] - ETA: 0s - loss: 1.0023 - categorical_accuracy: 0.6443\n",
            "Epoch 00015: saving model to model_init_2022-12-1202_31_33.593754/model-00015-1.00227-0.64427-3.88839-0.40278.h5\n",
            "11/11 [==============================] - 52s 5s/step - loss: 1.0023 - categorical_accuracy: 0.6443 - val_loss: 3.8884 - val_categorical_accuracy: 0.4028 - lr: 0.0100\n",
            "Epoch 16/30\n",
            "11/11 [==============================] - ETA: 0s - loss: 0.8373 - categorical_accuracy: 0.7036\n",
            "Epoch 00016: saving model to model_init_2022-12-1202_31_33.593754/model-00016-0.83732-0.70356-8.87695-0.20833.h5\n",
            "11/11 [==============================] - 45s 4s/step - loss: 0.8373 - categorical_accuracy: 0.7036 - val_loss: 8.8770 - val_categorical_accuracy: 0.2083 - lr: 0.0100\n",
            "Epoch 17/30\n",
            "11/11 [==============================] - ETA: 0s - loss: 0.8626 - categorical_accuracy: 0.6719\n",
            "Epoch 00017: saving model to model_init_2022-12-1202_31_33.593754/model-00017-0.86256-0.67194-4.46009-0.38889.h5\n",
            "\n",
            "Epoch 00017: ReduceLROnPlateau reducing learning rate to 0.004999999888241291.\n",
            "11/11 [==============================] - 49s 5s/step - loss: 0.8626 - categorical_accuracy: 0.6719 - val_loss: 4.4601 - val_categorical_accuracy: 0.3889 - lr: 0.0100\n",
            "Epoch 18/30\n",
            "11/11 [==============================] - ETA: 0s - loss: 0.7509 - categorical_accuracy: 0.7154\n",
            "Epoch 00018: saving model to model_init_2022-12-1202_31_33.593754/model-00018-0.75094-0.71542-1.59027-0.54167.h5\n",
            "11/11 [==============================] - 50s 5s/step - loss: 0.7509 - categorical_accuracy: 0.7154 - val_loss: 1.5903 - val_categorical_accuracy: 0.5417 - lr: 0.0050\n",
            "Epoch 19/30\n",
            "11/11 [==============================] - ETA: 0s - loss: 0.6586 - categorical_accuracy: 0.7352\n",
            "Epoch 00019: saving model to model_init_2022-12-1202_31_33.593754/model-00019-0.65856-0.73518-1.67130-0.56944.h5\n",
            "11/11 [==============================] - 54s 5s/step - loss: 0.6586 - categorical_accuracy: 0.7352 - val_loss: 1.6713 - val_categorical_accuracy: 0.5694 - lr: 0.0050\n",
            "Epoch 20/30\n",
            "11/11 [==============================] - ETA: 0s - loss: 0.6002 - categorical_accuracy: 0.7905\n",
            "Epoch 00020: saving model to model_init_2022-12-1202_31_33.593754/model-00020-0.60016-0.79051-1.81113-0.55556.h5\n",
            "\n",
            "Epoch 00020: ReduceLROnPlateau reducing learning rate to 0.0024999999441206455.\n",
            "11/11 [==============================] - 50s 5s/step - loss: 0.6002 - categorical_accuracy: 0.7905 - val_loss: 1.8111 - val_categorical_accuracy: 0.5556 - lr: 0.0050\n",
            "Epoch 21/30\n",
            "11/11 [==============================] - ETA: 0s - loss: 0.5611 - categorical_accuracy: 0.8103\n",
            "Epoch 00021: saving model to model_init_2022-12-1202_31_33.593754/model-00021-0.56109-0.81028-2.46792-0.41667.h5\n",
            "11/11 [==============================] - 49s 5s/step - loss: 0.5611 - categorical_accuracy: 0.8103 - val_loss: 2.4679 - val_categorical_accuracy: 0.4167 - lr: 0.0025\n",
            "Epoch 22/30\n",
            "11/11 [==============================] - ETA: 0s - loss: 0.4870 - categorical_accuracy: 0.8142\n",
            "Epoch 00022: saving model to model_init_2022-12-1202_31_33.593754/model-00022-0.48699-0.81423-0.84642-0.68056.h5\n",
            "11/11 [==============================] - 46s 5s/step - loss: 0.4870 - categorical_accuracy: 0.8142 - val_loss: 0.8464 - val_categorical_accuracy: 0.6806 - lr: 0.0025\n",
            "Epoch 23/30\n",
            "11/11 [==============================] - ETA: 0s - loss: 0.3331 - categorical_accuracy: 0.8775\n",
            "Epoch 00023: saving model to model_init_2022-12-1202_31_33.593754/model-00023-0.33308-0.87747-0.99521-0.72222.h5\n",
            "11/11 [==============================] - 50s 5s/step - loss: 0.3331 - categorical_accuracy: 0.8775 - val_loss: 0.9952 - val_categorical_accuracy: 0.7222 - lr: 0.0025\n",
            "Epoch 24/30\n",
            "11/11 [==============================] - ETA: 0s - loss: 0.3979 - categorical_accuracy: 0.8735\n",
            "Epoch 00024: saving model to model_init_2022-12-1202_31_33.593754/model-00024-0.39789-0.87352-1.28375-0.55556.h5\n",
            "\n",
            "Epoch 00024: ReduceLROnPlateau reducing learning rate to 0.0012499999720603228.\n",
            "11/11 [==============================] - 51s 5s/step - loss: 0.3979 - categorical_accuracy: 0.8735 - val_loss: 1.2837 - val_categorical_accuracy: 0.5556 - lr: 0.0025\n",
            "Epoch 25/30\n",
            "11/11 [==============================] - ETA: 0s - loss: 0.4176 - categorical_accuracy: 0.8538\n",
            "Epoch 00025: saving model to model_init_2022-12-1202_31_33.593754/model-00025-0.41759-0.85375-0.95203-0.66667.h5\n",
            "11/11 [==============================] - 50s 5s/step - loss: 0.4176 - categorical_accuracy: 0.8538 - val_loss: 0.9520 - val_categorical_accuracy: 0.6667 - lr: 0.0012\n",
            "Epoch 26/30\n",
            "11/11 [==============================] - ETA: 0s - loss: 0.3736 - categorical_accuracy: 0.8458\n",
            "Epoch 00026: saving model to model_init_2022-12-1202_31_33.593754/model-00026-0.37361-0.84585-0.92947-0.70833.h5\n",
            "\n",
            "Epoch 00026: ReduceLROnPlateau reducing learning rate to 0.0006249999860301614.\n",
            "11/11 [==============================] - 50s 5s/step - loss: 0.3736 - categorical_accuracy: 0.8458 - val_loss: 0.9295 - val_categorical_accuracy: 0.7083 - lr: 0.0012\n",
            "Epoch 27/30\n",
            "11/11 [==============================] - ETA: 0s - loss: 0.3357 - categorical_accuracy: 0.8775\n",
            "Epoch 00027: saving model to model_init_2022-12-1202_31_33.593754/model-00027-0.33568-0.87747-0.91904-0.72222.h5\n",
            "11/11 [==============================] - 51s 5s/step - loss: 0.3357 - categorical_accuracy: 0.8775 - val_loss: 0.9190 - val_categorical_accuracy: 0.7222 - lr: 6.2500e-04\n",
            "Epoch 28/30\n",
            "11/11 [==============================] - ETA: 0s - loss: 0.3528 - categorical_accuracy: 0.8775\n",
            "Epoch 00028: saving model to model_init_2022-12-1202_31_33.593754/model-00028-0.35276-0.87747-0.92649-0.73611.h5\n",
            "\n",
            "Epoch 00028: ReduceLROnPlateau reducing learning rate to 0.0003124999930150807.\n",
            "11/11 [==============================] - 50s 5s/step - loss: 0.3528 - categorical_accuracy: 0.8775 - val_loss: 0.9265 - val_categorical_accuracy: 0.7361 - lr: 6.2500e-04\n",
            "Epoch 29/30\n",
            "11/11 [==============================] - ETA: 0s - loss: 0.3304 - categorical_accuracy: 0.8814\n",
            "Epoch 00029: saving model to model_init_2022-12-1202_31_33.593754/model-00029-0.33040-0.88142-0.66132-0.83333.h5\n",
            "11/11 [==============================] - 48s 5s/step - loss: 0.3304 - categorical_accuracy: 0.8814 - val_loss: 0.6613 - val_categorical_accuracy: 0.8333 - lr: 3.1250e-04\n",
            "Epoch 30/30\n",
            "11/11 [==============================] - ETA: 0s - loss: 0.3386 - categorical_accuracy: 0.8696\n",
            "Epoch 00030: saving model to model_init_2022-12-1202_31_33.593754/model-00030-0.33860-0.86957-0.95979-0.76389.h5\n",
            "11/11 [==============================] - 47s 5s/step - loss: 0.3386 - categorical_accuracy: 0.8696 - val_loss: 0.9598 - val_categorical_accuracy: 0.7639 - lr: 3.1250e-04\n"
          ]
        }
      ],
      "source": [
        "history = model.fit(train_generator, steps_per_epoch = steps_per_epoch, epochs=num_epochs, verbose=1, \n",
        "                    callbacks=callbacks_list, validation_data=val_generator, \n",
        "                    validation_steps= validation_steps, class_weight=None, workers=1, initial_epoch=0)"
      ]
    },
    {
      "cell_type": "code",
      "execution_count": null,
      "metadata": {
        "id": "Bw2fbxgGnspJ",
        "outputId": "4bb815a3-1af0-47e3-dc12-815e897b7f79"
      },
      "outputs": [
        {
          "data": {
            "text/plain": [
              "<matplotlib.legend.Legend at 0x7f5743f35a30>"
            ]
          },
          "execution_count": 18,
          "metadata": {},
          "output_type": "execute_result"
        },
        {
          "data": {
            "image/png": "[encoded data removed]",
            "text/plain": [
              "<Figure size 1152x288 with 2 Axes>"
            ]
          },
          "metadata": {
            "needs_background": "light"
          },
          "output_type": "display_data"
        }
      ],
      "source": [
        "fig, axes = plt.subplots(nrows=1, ncols=2, figsize=(16,4))\n",
        "axes[0].plot(history.history['categorical_accuracy'])   \n",
        "axes[0].plot(history.history['val_categorical_accuracy'])\n",
        "axes[0].legend(['categorical_accuracy','val_categorical_accuracy'])\n",
        "\n",
        "axes[1].plot(history.history['loss'])   \n",
        "axes[1].plot(history.history['val_loss'])\n",
        "axes[1].legend(['loss','val_loss'])"
      ]
    },
    {
      "cell_type": "markdown",
      "metadata": {
        "id": "zyfQrSNnnspJ"
      },
      "source": [
        "### 7. Model Conv3D"
      ]
    },
    {
      "cell_type": "code",
      "execution_count": 26,
      "metadata": {
        "id": "bk_3kBuynspJ"
      },
      "outputs": [],
      "source": [
        "input_shape = 18,84,84,3\n",
        "model = Sequential()\n",
        "\n",
        "model.add(Conv3D(32, kernel_size=3, activation='relu', input_shape=input_shape))\n",
        "model.add(Conv3D(64, kernel_size=3, activation='relu'))\n",
        "model.add(MaxPooling3D(pool_size=(2, 2, 2)))\n",
        "model.add(BatchNormalization())\n",
        "model.add(Dropout(0.2))\n",
        "\n",
        "model.add(Conv3D(128, kernel_size=3, activation='relu'))\n",
        "model.add(MaxPooling3D(pool_size=(1, 2, 2)))\n",
        "model.add(BatchNormalization())\n",
        "model.add(Dropout(0.2))\n",
        "\n",
        "model.add(Conv3D(256, kernel_size=(1, 3, 3), activation='relu'))\n",
        "model.add(MaxPooling3D(pool_size=(1, 2, 2)))\n",
        "model.add(BatchNormalization())\n",
        "model.add(Dropout(0.2))\n",
        "\n",
        "model.add(Flatten())\n",
        "model.add(Dense(512, activation='relu'))\n",
        "model.add(BatchNormalization())\n",
        "model.add(Dense(5, activation='softmax'))"
      ]
    },
    {
      "cell_type": "code",
      "execution_count": 27,
      "metadata": {
        "id": "CWXhNDwlnspJ",
        "outputId": "8402cd09-d491-4d55-dfa0-2474443ce5c2",
        "colab": {
          "base_uri": "https://localhost:8080/"
        }
      },
      "outputs": [
        {
          "output_type": "stream",
          "name": "stdout",
          "text": [
            "Model: \"sequential_3\"\n",
            "_________________________________________________________________\n",
            " Layer (type)                Output Shape              Param #   \n",
            "=================================================================\n",
            " conv3d_8 (Conv3D)           (None, 16, 82, 82, 32)    2624      \n",
            "                                                                 \n",
            " conv3d_9 (Conv3D)           (None, 14, 80, 80, 64)    55360     \n",
            "                                                                 \n",
            " max_pooling3d_7 (MaxPooling  (None, 7, 40, 40, 64)    0         \n",
            " 3D)                                                             \n",
            "                                                                 \n",
            " batch_normalization_8 (Batc  (None, 7, 40, 40, 64)    256       \n",
            " hNormalization)                                                 \n",
            "                                                                 \n",
            " dropout_5 (Dropout)         (None, 7, 40, 40, 64)     0         \n",
            "                                                                 \n",
            " conv3d_10 (Conv3D)          (None, 5, 38, 38, 128)    221312    \n",
            "                                                                 \n",
            " max_pooling3d_8 (MaxPooling  (None, 5, 19, 19, 128)   0         \n",
            " 3D)                                                             \n",
            "                                                                 \n",
            " batch_normalization_9 (Batc  (None, 5, 19, 19, 128)   512       \n",
            " hNormalization)                                                 \n",
            "                                                                 \n",
            " dropout_6 (Dropout)         (None, 5, 19, 19, 128)    0         \n",
            "                                                                 \n",
            " conv3d_11 (Conv3D)          (None, 5, 17, 17, 256)    295168    \n",
            "                                                                 \n",
            " max_pooling3d_9 (MaxPooling  (None, 5, 8, 8, 256)     0         \n",
            " 3D)                                                             \n",
            "                                                                 \n",
            " batch_normalization_10 (Bat  (None, 5, 8, 8, 256)     1024      \n",
            " chNormalization)                                                \n",
            "                                                                 \n",
            " dropout_7 (Dropout)         (None, 5, 8, 8, 256)      0         \n",
            "                                                                 \n",
            " flatten_2 (Flatten)         (None, 81920)             0         \n",
            "                                                                 \n",
            " dense_4 (Dense)             (None, 512)               41943552  \n",
            "                                                                 \n",
            " batch_normalization_11 (Bat  (None, 512)              2048      \n",
            " chNormalization)                                                \n",
            "                                                                 \n",
            " dense_5 (Dense)             (None, 5)                 2565      \n",
            "                                                                 \n",
            "=================================================================\n",
            "Total params: 42,524,421\n",
            "Trainable params: 42,522,501\n",
            "Non-trainable params: 1,920\n",
            "_________________________________________________________________\n",
            "None\n"
          ]
        }
      ],
      "source": [
        "optimiser = tf.keras.optimizers.Adam(lr=0.01) #write your optimizer\n",
        "model.compile(optimizer=optimiser, loss='categorical_crossentropy', metrics=['categorical_accuracy'])\n",
        "print(model.summary())"
      ]
    },
    {
      "cell_type": "code",
      "execution_count": 28,
      "metadata": {
        "id": "J9fH17ahnspJ",
        "outputId": "6313d0dd-723c-4c8d-b6d3-b2b9aa301dc3",
        "colab": {
          "base_uri": "https://localhost:8080/"
        }
      },
      "outputs": [
        {
          "output_type": "stream",
          "name": "stdout",
          "text": [
            "Epoch 1/40\n",
            "11/11 [==============================] - ETA: 0s - loss: 3.7756 - categorical_accuracy: 0.3874\n",
            "Epoch 1: saving model to model_init_2022-12-1301_29_53.471139/model-00001-3.77556-0.38735-7224.72461-0.20833.h5\n",
            "11/11 [==============================] - 64s 6s/step - loss: 3.7756 - categorical_accuracy: 0.3874 - val_loss: 7224.7246 - val_categorical_accuracy: 0.2083 - lr: 0.0100\n",
            "Epoch 2/40\n",
            "11/11 [==============================] - ETA: 0s - loss: 2.1505 - categorical_accuracy: 0.4585\n",
            "Epoch 2: saving model to model_init_2022-12-1301_29_53.471139/model-00002-2.15046-0.45850-1871.08203-0.22222.h5\n",
            "11/11 [==============================] - 67s 7s/step - loss: 2.1505 - categorical_accuracy: 0.4585 - val_loss: 1871.0820 - val_categorical_accuracy: 0.2222 - lr: 0.0100\n",
            "Epoch 3/40\n",
            "11/11 [==============================] - ETA: 0s - loss: 1.3922 - categorical_accuracy: 0.4664\n",
            "Epoch 3: saving model to model_init_2022-12-1301_29_53.471139/model-00003-1.39215-0.46640-488.12250-0.30556.h5\n",
            "11/11 [==============================] - 61s 6s/step - loss: 1.3922 - categorical_accuracy: 0.4664 - val_loss: 488.1225 - val_categorical_accuracy: 0.3056 - lr: 0.0100\n",
            "Epoch 4/40\n",
            "11/11 [==============================] - ETA: 0s - loss: 1.0379 - categorical_accuracy: 0.6522\n",
            "Epoch 4: saving model to model_init_2022-12-1301_29_53.471139/model-00004-1.03789-0.65217-191.57942-0.20833.h5\n",
            "11/11 [==============================] - 68s 7s/step - loss: 1.0379 - categorical_accuracy: 0.6522 - val_loss: 191.5794 - val_categorical_accuracy: 0.2083 - lr: 0.0100\n",
            "Epoch 5/40\n",
            "11/11 [==============================] - ETA: 0s - loss: 0.9002 - categorical_accuracy: 0.6364\n",
            "Epoch 5: saving model to model_init_2022-12-1301_29_53.471139/model-00005-0.90016-0.63636-87.01967-0.22222.h5\n",
            "11/11 [==============================] - 61s 6s/step - loss: 0.9002 - categorical_accuracy: 0.6364 - val_loss: 87.0197 - val_categorical_accuracy: 0.2222 - lr: 0.0100\n",
            "Epoch 6/40\n",
            "11/11 [==============================] - ETA: 0s - loss: 1.0463 - categorical_accuracy: 0.6443\n",
            "Epoch 6: saving model to model_init_2022-12-1301_29_53.471139/model-00006-1.04626-0.64427-100.69993-0.19444.h5\n",
            "11/11 [==============================] - 64s 6s/step - loss: 1.0463 - categorical_accuracy: 0.6443 - val_loss: 100.6999 - val_categorical_accuracy: 0.1944 - lr: 0.0100\n",
            "Epoch 7/40\n",
            "11/11 [==============================] - ETA: 0s - loss: 0.8104 - categorical_accuracy: 0.6759\n",
            "Epoch 7: saving model to model_init_2022-12-1301_29_53.471139/model-00007-0.81043-0.67589-38.81561-0.19444.h5\n",
            "11/11 [==============================] - 64s 6s/step - loss: 0.8104 - categorical_accuracy: 0.6759 - val_loss: 38.8156 - val_categorical_accuracy: 0.1944 - lr: 0.0100\n",
            "Epoch 8/40\n",
            "11/11 [==============================] - ETA: 0s - loss: 0.8137 - categorical_accuracy: 0.6877\n",
            "Epoch 8: saving model to model_init_2022-12-1301_29_53.471139/model-00008-0.81370-0.68775-27.19626-0.25000.h5\n",
            "11/11 [==============================] - 66s 7s/step - loss: 0.8137 - categorical_accuracy: 0.6877 - val_loss: 27.1963 - val_categorical_accuracy: 0.2500 - lr: 0.0100\n",
            "Epoch 9/40\n",
            "11/11 [==============================] - ETA: 0s - loss: 0.5748 - categorical_accuracy: 0.7866\n",
            "Epoch 9: saving model to model_init_2022-12-1301_29_53.471139/model-00009-0.57484-0.78656-28.94869-0.26389.h5\n",
            "11/11 [==============================] - 67s 7s/step - loss: 0.5748 - categorical_accuracy: 0.7866 - val_loss: 28.9487 - val_categorical_accuracy: 0.2639 - lr: 0.0100\n",
            "Epoch 10/40\n",
            "11/11 [==============================] - ETA: 0s - loss: 0.6367 - categorical_accuracy: 0.7549\n",
            "Epoch 10: saving model to model_init_2022-12-1301_29_53.471139/model-00010-0.63669-0.75494-20.91280-0.22222.h5\n",
            "11/11 [==============================] - 63s 6s/step - loss: 0.6367 - categorical_accuracy: 0.7549 - val_loss: 20.9128 - val_categorical_accuracy: 0.2222 - lr: 0.0100\n",
            "Epoch 11/40\n",
            "11/11 [==============================] - ETA: 0s - loss: 0.5931 - categorical_accuracy: 0.7945\n",
            "Epoch 11: saving model to model_init_2022-12-1301_29_53.471139/model-00011-0.59306-0.79447-23.34567-0.29167.h5\n",
            "11/11 [==============================] - 70s 7s/step - loss: 0.5931 - categorical_accuracy: 0.7945 - val_loss: 23.3457 - val_categorical_accuracy: 0.2917 - lr: 0.0100\n",
            "Epoch 12/40\n",
            "11/11 [==============================] - ETA: 0s - loss: 0.4790 - categorical_accuracy: 0.8498\n",
            "Epoch 12: saving model to model_init_2022-12-1301_29_53.471139/model-00012-0.47903-0.84980-6.10317-0.36111.h5\n",
            "11/11 [==============================] - 60s 6s/step - loss: 0.4790 - categorical_accuracy: 0.8498 - val_loss: 6.1032 - val_categorical_accuracy: 0.3611 - lr: 0.0100\n",
            "Epoch 13/40\n",
            "11/11 [==============================] - ETA: 0s - loss: 0.6061 - categorical_accuracy: 0.7945\n",
            "Epoch 13: saving model to model_init_2022-12-1301_29_53.471139/model-00013-0.60610-0.79447-3.22126-0.48611.h5\n",
            "11/11 [==============================] - 64s 6s/step - loss: 0.6061 - categorical_accuracy: 0.7945 - val_loss: 3.2213 - val_categorical_accuracy: 0.4861 - lr: 0.0100\n",
            "Epoch 14/40\n",
            "11/11 [==============================] - ETA: 0s - loss: 0.6175 - categorical_accuracy: 0.7984\n",
            "Epoch 14: saving model to model_init_2022-12-1301_29_53.471139/model-00014-0.61749-0.79842-27.39583-0.23611.h5\n",
            "11/11 [==============================] - 60s 6s/step - loss: 0.6175 - categorical_accuracy: 0.7984 - val_loss: 27.3958 - val_categorical_accuracy: 0.2361 - lr: 0.0100\n",
            "Epoch 15/40\n",
            "11/11 [==============================] - ETA: 0s - loss: 0.4705 - categorical_accuracy: 0.8221\n",
            "Epoch 15: saving model to model_init_2022-12-1301_29_53.471139/model-00015-0.47047-0.82213-12.16889-0.33333.h5\n",
            "\n",
            "Epoch 15: ReduceLROnPlateau reducing learning rate to 0.004999999888241291.\n",
            "11/11 [==============================] - 68s 7s/step - loss: 0.4705 - categorical_accuracy: 0.8221 - val_loss: 12.1689 - val_categorical_accuracy: 0.3333 - lr: 0.0100\n",
            "Epoch 16/40\n",
            "11/11 [==============================] - ETA: 0s - loss: 0.4830 - categorical_accuracy: 0.8261\n",
            "Epoch 16: saving model to model_init_2022-12-1301_29_53.471139/model-00016-0.48296-0.82609-15.28808-0.25000.h5\n",
            "11/11 [==============================] - 62s 6s/step - loss: 0.4830 - categorical_accuracy: 0.8261 - val_loss: 15.2881 - val_categorical_accuracy: 0.2500 - lr: 0.0050\n",
            "Epoch 17/40\n",
            "11/11 [==============================] - ETA: 0s - loss: 0.3698 - categorical_accuracy: 0.8656\n",
            "Epoch 17: saving model to model_init_2022-12-1301_29_53.471139/model-00017-0.36983-0.86561-4.79186-0.37500.h5\n",
            "\n",
            "Epoch 17: ReduceLROnPlateau reducing learning rate to 0.0024999999441206455.\n",
            "11/11 [==============================] - 67s 7s/step - loss: 0.3698 - categorical_accuracy: 0.8656 - val_loss: 4.7919 - val_categorical_accuracy: 0.3750 - lr: 0.0050\n",
            "Epoch 18/40\n",
            "11/11 [==============================] - ETA: 0s - loss: 0.2953 - categorical_accuracy: 0.9012\n",
            "Epoch 18: saving model to model_init_2022-12-1301_29_53.471139/model-00018-0.29528-0.90119-3.69673-0.45833.h5\n",
            "11/11 [==============================] - 62s 6s/step - loss: 0.2953 - categorical_accuracy: 0.9012 - val_loss: 3.6967 - val_categorical_accuracy: 0.4583 - lr: 0.0025\n",
            "Epoch 19/40\n",
            "11/11 [==============================] - ETA: 0s - loss: 0.2799 - categorical_accuracy: 0.8972\n",
            "Epoch 19: saving model to model_init_2022-12-1301_29_53.471139/model-00019-0.27992-0.89723-2.52831-0.50000.h5\n",
            "11/11 [==============================] - 64s 6s/step - loss: 0.2799 - categorical_accuracy: 0.8972 - val_loss: 2.5283 - val_categorical_accuracy: 0.5000 - lr: 0.0025\n",
            "Epoch 20/40\n",
            "11/11 [==============================] - ETA: 0s - loss: 0.1552 - categorical_accuracy: 0.9526\n",
            "Epoch 20: saving model to model_init_2022-12-1301_29_53.471139/model-00020-0.15515-0.95257-2.80354-0.45833.h5\n",
            "11/11 [==============================] - 68s 7s/step - loss: 0.1552 - categorical_accuracy: 0.9526 - val_loss: 2.8035 - val_categorical_accuracy: 0.4583 - lr: 0.0025\n",
            "Epoch 21/40\n",
            "11/11 [==============================] - ETA: 0s - loss: 0.1665 - categorical_accuracy: 0.9447\n",
            "Epoch 21: saving model to model_init_2022-12-1301_29_53.471139/model-00021-0.16651-0.94466-2.17260-0.48611.h5\n",
            "11/11 [==============================] - 66s 7s/step - loss: 0.1665 - categorical_accuracy: 0.9447 - val_loss: 2.1726 - val_categorical_accuracy: 0.4861 - lr: 0.0025\n",
            "Epoch 22/40\n",
            "11/11 [==============================] - ETA: 0s - loss: 0.1621 - categorical_accuracy: 0.9605\n",
            "Epoch 22: saving model to model_init_2022-12-1301_29_53.471139/model-00022-0.16215-0.96047-1.39823-0.59722.h5\n",
            "11/11 [==============================] - 62s 6s/step - loss: 0.1621 - categorical_accuracy: 0.9605 - val_loss: 1.3982 - val_categorical_accuracy: 0.5972 - lr: 0.0025\n",
            "Epoch 23/40\n",
            "11/11 [==============================] - ETA: 0s - loss: 0.1403 - categorical_accuracy: 0.9565\n",
            "Epoch 23: saving model to model_init_2022-12-1301_29_53.471139/model-00023-0.14030-0.95652-1.24559-0.61111.h5\n",
            "11/11 [==============================] - 61s 6s/step - loss: 0.1403 - categorical_accuracy: 0.9565 - val_loss: 1.2456 - val_categorical_accuracy: 0.6111 - lr: 0.0025\n",
            "Epoch 24/40\n",
            "11/11 [==============================] - ETA: 0s - loss: 0.1174 - categorical_accuracy: 0.9684\n",
            "Epoch 24: saving model to model_init_2022-12-1301_29_53.471139/model-00024-0.11740-0.96838-1.61989-0.61111.h5\n",
            "11/11 [==============================] - 64s 6s/step - loss: 0.1174 - categorical_accuracy: 0.9684 - val_loss: 1.6199 - val_categorical_accuracy: 0.6111 - lr: 0.0025\n",
            "Epoch 25/40\n",
            "11/11 [==============================] - ETA: 0s - loss: 0.1135 - categorical_accuracy: 0.9723\n",
            "Epoch 25: saving model to model_init_2022-12-1301_29_53.471139/model-00025-0.11346-0.97233-0.86629-0.73611.h5\n",
            "11/11 [==============================] - 65s 6s/step - loss: 0.1135 - categorical_accuracy: 0.9723 - val_loss: 0.8663 - val_categorical_accuracy: 0.7361 - lr: 0.0025\n",
            "Epoch 26/40\n",
            "11/11 [==============================] - ETA: 0s - loss: 0.0985 - categorical_accuracy: 0.9684\n",
            "Epoch 26: saving model to model_init_2022-12-1301_29_53.471139/model-00026-0.09850-0.96838-1.54675-0.62500.h5\n",
            "11/11 [==============================] - 67s 7s/step - loss: 0.0985 - categorical_accuracy: 0.9684 - val_loss: 1.5467 - val_categorical_accuracy: 0.6250 - lr: 0.0025\n",
            "Epoch 27/40\n",
            "11/11 [==============================] - ETA: 0s - loss: 0.0769 - categorical_accuracy: 0.9763\n",
            "Epoch 27: saving model to model_init_2022-12-1301_29_53.471139/model-00027-0.07687-0.97628-1.21583-0.63889.h5\n",
            "\n",
            "Epoch 27: ReduceLROnPlateau reducing learning rate to 0.0012499999720603228.\n",
            "11/11 [==============================] - 68s 7s/step - loss: 0.0769 - categorical_accuracy: 0.9763 - val_loss: 1.2158 - val_categorical_accuracy: 0.6389 - lr: 0.0025\n",
            "Epoch 28/40\n",
            "11/11 [==============================] - ETA: 0s - loss: 0.0707 - categorical_accuracy: 0.9881\n",
            "Epoch 28: saving model to model_init_2022-12-1301_29_53.471139/model-00028-0.07065-0.98814-1.52409-0.63889.h5\n",
            "11/11 [==============================] - 61s 6s/step - loss: 0.0707 - categorical_accuracy: 0.9881 - val_loss: 1.5241 - val_categorical_accuracy: 0.6389 - lr: 0.0012\n",
            "Epoch 29/40\n",
            "11/11 [==============================] - ETA: 0s - loss: 0.1022 - categorical_accuracy: 0.9763\n",
            "Epoch 29: saving model to model_init_2022-12-1301_29_53.471139/model-00029-0.10224-0.97628-0.87665-0.70833.h5\n",
            "\n",
            "Epoch 29: ReduceLROnPlateau reducing learning rate to 0.0006249999860301614.\n",
            "11/11 [==============================] - 69s 7s/step - loss: 0.1022 - categorical_accuracy: 0.9763 - val_loss: 0.8766 - val_categorical_accuracy: 0.7083 - lr: 0.0012\n",
            "Epoch 30/40\n",
            "11/11 [==============================] - ETA: 0s - loss: 0.0786 - categorical_accuracy: 0.9881\n",
            "Epoch 30: saving model to model_init_2022-12-1301_29_53.471139/model-00030-0.07862-0.98814-1.45092-0.58333.h5\n",
            "11/11 [==============================] - 64s 6s/step - loss: 0.0786 - categorical_accuracy: 0.9881 - val_loss: 1.4509 - val_categorical_accuracy: 0.5833 - lr: 6.2500e-04\n",
            "Epoch 31/40\n",
            "11/11 [==============================] - ETA: 0s - loss: 0.0938 - categorical_accuracy: 0.9723\n",
            "Epoch 31: saving model to model_init_2022-12-1301_29_53.471139/model-00031-0.09385-0.97233-1.31662-0.59722.h5\n",
            "\n",
            "Epoch 31: ReduceLROnPlateau reducing learning rate to 0.0003124999930150807.\n",
            "11/11 [==============================] - 60s 6s/step - loss: 0.0938 - categorical_accuracy: 0.9723 - val_loss: 1.3166 - val_categorical_accuracy: 0.5972 - lr: 6.2500e-04\n",
            "Epoch 32/40\n",
            "11/11 [==============================] - ETA: 0s - loss: 0.0722 - categorical_accuracy: 0.9960\n",
            "Epoch 32: saving model to model_init_2022-12-1301_29_53.471139/model-00032-0.07221-0.99605-1.44369-0.58333.h5\n",
            "11/11 [==============================] - 65s 6s/step - loss: 0.0722 - categorical_accuracy: 0.9960 - val_loss: 1.4437 - val_categorical_accuracy: 0.5833 - lr: 3.1250e-04\n",
            "Epoch 33/40\n",
            "11/11 [==============================] - ETA: 0s - loss: 0.0682 - categorical_accuracy: 0.9921\n",
            "Epoch 33: saving model to model_init_2022-12-1301_29_53.471139/model-00033-0.06815-0.99209-1.17465-0.69444.h5\n",
            "\n",
            "Epoch 33: ReduceLROnPlateau reducing learning rate to 0.00015624999650754035.\n",
            "11/11 [==============================] - 69s 7s/step - loss: 0.0682 - categorical_accuracy: 0.9921 - val_loss: 1.1747 - val_categorical_accuracy: 0.6944 - lr: 3.1250e-04\n",
            "Epoch 34/40\n",
            "11/11 [==============================] - ETA: 0s - loss: 0.0689 - categorical_accuracy: 0.9881\n",
            "Epoch 34: saving model to model_init_2022-12-1301_29_53.471139/model-00034-0.06894-0.98814-1.09122-0.70833.h5\n",
            "11/11 [==============================] - 66s 7s/step - loss: 0.0689 - categorical_accuracy: 0.9881 - val_loss: 1.0912 - val_categorical_accuracy: 0.7083 - lr: 1.5625e-04\n",
            "Epoch 35/40\n",
            "11/11 [==============================] - ETA: 0s - loss: 0.0914 - categorical_accuracy: 0.9842\n",
            "Epoch 35: saving model to model_init_2022-12-1301_29_53.471139/model-00035-0.09141-0.98419-0.92159-0.70833.h5\n",
            "\n",
            "Epoch 35: ReduceLROnPlateau reducing learning rate to 7.812499825377017e-05.\n",
            "11/11 [==============================] - 61s 6s/step - loss: 0.0914 - categorical_accuracy: 0.9842 - val_loss: 0.9216 - val_categorical_accuracy: 0.7083 - lr: 1.5625e-04\n",
            "Epoch 36/40\n",
            "11/11 [==============================] - ETA: 0s - loss: 0.0885 - categorical_accuracy: 0.9802\n",
            "Epoch 36: saving model to model_init_2022-12-1301_29_53.471139/model-00036-0.08851-0.98024-0.77502-0.73611.h5\n",
            "11/11 [==============================] - 63s 6s/step - loss: 0.0885 - categorical_accuracy: 0.9802 - val_loss: 0.7750 - val_categorical_accuracy: 0.7361 - lr: 7.8125e-05\n",
            "Epoch 37/40\n",
            "11/11 [==============================] - ETA: 0s - loss: 0.1028 - categorical_accuracy: 0.9684\n",
            "Epoch 37: saving model to model_init_2022-12-1301_29_53.471139/model-00037-0.10278-0.96838-1.28633-0.68056.h5\n",
            "11/11 [==============================] - 67s 7s/step - loss: 0.1028 - categorical_accuracy: 0.9684 - val_loss: 1.2863 - val_categorical_accuracy: 0.6806 - lr: 7.8125e-05\n",
            "Epoch 38/40\n",
            "11/11 [==============================] - ETA: 0s - loss: 0.0745 - categorical_accuracy: 0.9842\n",
            "Epoch 38: saving model to model_init_2022-12-1301_29_53.471139/model-00038-0.07454-0.98419-1.02323-0.70833.h5\n",
            "\n",
            "Epoch 38: ReduceLROnPlateau reducing learning rate to 3.9062499126885086e-05.\n",
            "11/11 [==============================] - 72s 7s/step - loss: 0.0745 - categorical_accuracy: 0.9842 - val_loss: 1.0232 - val_categorical_accuracy: 0.7083 - lr: 7.8125e-05\n",
            "Epoch 39/40\n",
            "11/11 [==============================] - ETA: 0s - loss: 0.0988 - categorical_accuracy: 0.9723\n",
            "Epoch 39: saving model to model_init_2022-12-1301_29_53.471139/model-00039-0.09880-0.97233-1.13598-0.66667.h5\n",
            "11/11 [==============================] - 67s 7s/step - loss: 0.0988 - categorical_accuracy: 0.9723 - val_loss: 1.1360 - val_categorical_accuracy: 0.6667 - lr: 3.9062e-05\n",
            "Epoch 40/40\n",
            "11/11 [==============================] - ETA: 0s - loss: 0.0661 - categorical_accuracy: 0.9921\n",
            "Epoch 40: saving model to model_init_2022-12-1301_29_53.471139/model-00040-0.06610-0.99209-0.96472-0.69444.h5\n",
            "\n",
            "Epoch 40: ReduceLROnPlateau reducing learning rate to 1.9531249563442543e-05.\n",
            "11/11 [==============================] - 61s 6s/step - loss: 0.0661 - categorical_accuracy: 0.9921 - val_loss: 0.9647 - val_categorical_accuracy: 0.6944 - lr: 3.9062e-05\n"
          ]
        }
      ],
      "source": [
        "history = model.fit(train_generator, steps_per_epoch = steps_per_epoch, epochs=num_epochs, verbose=1, \n",
        "                    callbacks=callbacks_list, validation_data=val_generator, \n",
        "                    validation_steps= validation_steps, class_weight=None, workers=1, initial_epoch=0)"
      ]
    },
    {
      "cell_type": "code",
      "execution_count": 29,
      "metadata": {
        "id": "zKKFGfg5nspJ",
        "colab": {
          "base_uri": "https://localhost:8080/",
          "height": 283
        },
        "outputId": "55b9fc4a-b459-4043-a6f0-578fad1f130a"
      },
      "outputs": [
        {
          "output_type": "execute_result",
          "data": {
            "text/plain": [
              "<matplotlib.legend.Legend at 0x7fb03c0a7ee0>"
            ]
          },
          "metadata": {},
          "execution_count": 29
        },
        {
          "output_type": "display_data",
          "data": {
            "text/plain": [
              "<Figure size 1152x288 with 2 Axes>"
            ],
            "image/png": "[encoded data removed]"
          },
          "metadata": {
            "needs_background": "light"
          }
        }
      ],
      "source": [
        "fig, axes = plt.subplots(nrows=1, ncols=2, figsize=(16,4))\n",
        "axes[0].plot(history.history['categorical_accuracy'])   \n",
        "axes[0].plot(history.history['val_categorical_accuracy'])\n",
        "axes[0].legend(['categorical_accuracy','val_categorical_accuracy'])\n",
        "\n",
        "axes[1].plot(history.history['loss'])   \n",
        "axes[1].plot(history.history['val_loss'])\n",
        "axes[1].legend(['loss','val_loss'])"
      ]
    },
    {
      "cell_type": "markdown",
      "metadata": {
        "id": "ohydiErfnspJ"
      },
      "source": [
        "### 8. Model Conv3D"
      ]
    },
    {
      "cell_type": "code",
      "execution_count": null,
      "metadata": {
        "id": "RqlXhsDunspJ"
      },
      "outputs": [],
      "source": [
        "input_shape = 18,84,84,3\n",
        "model = Sequential()\n",
        "\n",
        "model.add(Conv3D(32, kernel_size=3, activation='relu', input_shape=input_shape))\n",
        "model.add(Conv3D(64, kernel_size=3, activation='relu'))\n",
        "model.add(MaxPooling3D(pool_size=(2, 2, 2)))\n",
        "model.add(BatchNormalization())\n",
        "model.add(Dropout(0.2))\n",
        "\n",
        "model.add(Conv3D(128, kernel_size=3, activation='relu'))\n",
        "model.add(MaxPooling3D(pool_size=(1, 2, 2)))\n",
        "model.add(BatchNormalization())\n",
        "model.add(Dropout(0.2))\n",
        "\n",
        "model.add(Conv3D(256, kernel_size=(1, 3, 3), activation='relu'))\n",
        "model.add(MaxPooling3D(pool_size=(1, 2, 2)))\n",
        "model.add(BatchNormalization())\n",
        "model.add(Dropout(0.2))\n",
        "\n",
        "model.add(GlobalAveragePooling3D())\n",
        "model.add(Dense(512, activation='relu'))\n",
        "model.add(BatchNormalization())\n",
        "model.add(Dense(5, activation='softmax'))"
      ]
    },
    {
      "cell_type": "code",
      "execution_count": null,
      "metadata": {
        "colab": {
          "base_uri": "https://localhost:8080/"
        },
        "id": "xhzmur5ZnspJ",
        "outputId": "5d6b1f64-4753-4891-bda5-bad3d488bf98"
      },
      "outputs": [
        {
          "name": "stdout",
          "output_type": "stream",
          "text": [
            "Model: \"sequential_1\"\n",
            "_________________________________________________________________\n",
            " Layer (type)                Output Shape              Param #   \n",
            "=================================================================\n",
            " conv3d_4 (Conv3D)           (None, 16, 82, 82, 32)    2624      \n",
            "                                                                 \n",
            " conv3d_5 (Conv3D)           (None, 14, 80, 80, 64)    55360     \n",
            "                                                                 \n",
            " max_pooling3d_3 (MaxPooling  (None, 7, 40, 40, 64)    0         \n",
            " 3D)                                                             \n",
            "                                                                 \n",
            " batch_normalization_4 (Batc  (None, 7, 40, 40, 64)    256       \n",
            " hNormalization)                                                 \n",
            "                                                                 \n",
            " dropout_3 (Dropout)         (None, 7, 40, 40, 64)     0         \n",
            "                                                                 \n",
            " conv3d_6 (Conv3D)           (None, 5, 38, 38, 128)    221312    \n",
            "                                                                 \n",
            " max_pooling3d_4 (MaxPooling  (None, 5, 19, 19, 128)   0         \n",
            " 3D)                                                             \n",
            "                                                                 \n",
            " batch_normalization_5 (Batc  (None, 5, 19, 19, 128)   512       \n",
            " hNormalization)                                                 \n",
            "                                                                 \n",
            " dropout_4 (Dropout)         (None, 5, 19, 19, 128)    0         \n",
            "                                                                 \n",
            " conv3d_7 (Conv3D)           (None, 5, 17, 17, 256)    295168    \n",
            "                                                                 \n",
            " max_pooling3d_5 (MaxPooling  (None, 5, 8, 8, 256)     0         \n",
            " 3D)                                                             \n",
            "                                                                 \n",
            " batch_normalization_6 (Batc  (None, 5, 8, 8, 256)     1024      \n",
            " hNormalization)                                                 \n",
            "                                                                 \n",
            " dropout_5 (Dropout)         (None, 5, 8, 8, 256)      0         \n",
            "                                                                 \n",
            " global_average_pooling3d_1   (None, 256)              0         \n",
            " (GlobalAveragePooling3D)                                        \n",
            "                                                                 \n",
            " dense_2 (Dense)             (None, 512)               131584    \n",
            "                                                                 \n",
            " batch_normalization_7 (Batc  (None, 512)              2048      \n",
            " hNormalization)                                                 \n",
            "                                                                 \n",
            " dense_3 (Dense)             (None, 5)                 2565      \n",
            "                                                                 \n",
            "=================================================================\n",
            "Total params: 712,453\n",
            "Trainable params: 710,533\n",
            "Non-trainable params: 1,920\n",
            "_________________________________________________________________\n",
            "None\n"
          ]
        }
      ],
      "source": [
        "optimiser = tf.keras.optimizers.Adam(lr=0.01) #write your optimizer\n",
        "model.compile(optimizer=optimiser, loss='categorical_crossentropy', metrics=['categorical_accuracy'])\n",
        "print(model.summary())"
      ]
    },
    {
      "cell_type": "code",
      "execution_count": null,
      "metadata": {
        "colab": {
          "base_uri": "https://localhost:8080/"
        },
        "id": "Dwzb6sJUnspJ",
        "outputId": "ab61c266-6884-4ba5-ccf2-c70b33b48079"
      },
      "outputs": [
        {
          "name": "stdout",
          "output_type": "stream",
          "text": [
            "Source path =  /content/Project_data/train ; batch size = 64\n",
            "Epoch 1/30\n",
            "11/11 [==============================] - ETA: 0s - loss: 3.1775 - categorical_accuracy: 0.2806Source path =  /content/Project_data/val ; batch size = 64\n",
            "\n",
            "Epoch 1: saving model to model_init_2022-12-1205_43_36.079496/model-00001-3.17745-0.28063-1910.31445-0.25000.h5\n",
            "11/11 [==============================] - 68s 5s/step - loss: 3.1775 - categorical_accuracy: 0.2806 - val_loss: 1910.3145 - val_categorical_accuracy: 0.2500 - lr: 0.0100\n",
            "Epoch 2/30\n",
            "11/11 [==============================] - ETA: 0s - loss: 2.1789 - categorical_accuracy: 0.3004\n",
            "Epoch 2: saving model to model_init_2022-12-1205_43_36.079496/model-00002-2.17886-0.30040-830.65289-0.22222.h5\n",
            "11/11 [==============================] - 57s 6s/step - loss: 2.1789 - categorical_accuracy: 0.3004 - val_loss: 830.6529 - val_categorical_accuracy: 0.2222 - lr: 0.0100\n",
            "Epoch 3/30\n",
            "11/11 [==============================] - ETA: 0s - loss: 1.7875 - categorical_accuracy: 0.4190\n",
            "Epoch 3: saving model to model_init_2022-12-1205_43_36.079496/model-00003-1.78751-0.41897-307.67676-0.16667.h5\n",
            "11/11 [==============================] - 58s 6s/step - loss: 1.7875 - categorical_accuracy: 0.4190 - val_loss: 307.6768 - val_categorical_accuracy: 0.1667 - lr: 0.0100\n",
            "Epoch 4/30\n",
            "11/11 [==============================] - ETA: 0s - loss: 1.5738 - categorical_accuracy: 0.4308\n",
            "Epoch 4: saving model to model_init_2022-12-1205_43_36.079496/model-00004-1.57381-0.43083-49.80051-0.22222.h5\n",
            "11/11 [==============================] - 60s 6s/step - loss: 1.5738 - categorical_accuracy: 0.4308 - val_loss: 49.8005 - val_categorical_accuracy: 0.2222 - lr: 0.0100\n",
            "Epoch 5/30\n",
            "11/11 [==============================] - ETA: 0s - loss: 1.7766 - categorical_accuracy: 0.4269\n",
            "Epoch 5: saving model to model_init_2022-12-1205_43_36.079496/model-00005-1.77658-0.42688-108.18382-0.20833.h5\n",
            "11/11 [==============================] - 58s 6s/step - loss: 1.7766 - categorical_accuracy: 0.4269 - val_loss: 108.1838 - val_categorical_accuracy: 0.2083 - lr: 0.0100\n",
            "Epoch 6/30\n",
            "11/11 [==============================] - ETA: 0s - loss: 1.3984 - categorical_accuracy: 0.4625\n",
            "Epoch 6: saving model to model_init_2022-12-1205_43_36.079496/model-00006-1.39843-0.46245-92.35178-0.19444.h5\n",
            "\n",
            "Epoch 6: ReduceLROnPlateau reducing learning rate to 0.004999999888241291.\n",
            "11/11 [==============================] - 58s 6s/step - loss: 1.3984 - categorical_accuracy: 0.4625 - val_loss: 92.3518 - val_categorical_accuracy: 0.1944 - lr: 0.0100\n",
            "Epoch 7/30\n",
            "11/11 [==============================] - ETA: 0s - loss: 1.3893 - categorical_accuracy: 0.4585\n",
            "Epoch 7: saving model to model_init_2022-12-1205_43_36.079496/model-00007-1.38927-0.45850-29.88445-0.15278.h5\n",
            "11/11 [==============================] - 62s 6s/step - loss: 1.3893 - categorical_accuracy: 0.4585 - val_loss: 29.8844 - val_categorical_accuracy: 0.1528 - lr: 0.0050\n",
            "Epoch 8/30\n",
            "11/11 [==============================] - ETA: 0s - loss: 1.1812 - categorical_accuracy: 0.5138\n",
            "Epoch 8: saving model to model_init_2022-12-1205_43_36.079496/model-00008-1.18123-0.51383-46.45474-0.23611.h5\n",
            "11/11 [==============================] - 60s 6s/step - loss: 1.1812 - categorical_accuracy: 0.5138 - val_loss: 46.4547 - val_categorical_accuracy: 0.2361 - lr: 0.0050\n",
            "Epoch 9/30\n",
            "11/11 [==============================] - ETA: 0s - loss: 1.1312 - categorical_accuracy: 0.5217\n",
            "Epoch 9: saving model to model_init_2022-12-1205_43_36.079496/model-00009-1.13125-0.52174-23.97437-0.23611.h5\n",
            "11/11 [==============================] - 58s 6s/step - loss: 1.1312 - categorical_accuracy: 0.5217 - val_loss: 23.9744 - val_categorical_accuracy: 0.2361 - lr: 0.0050\n",
            "Epoch 10/30\n",
            "11/11 [==============================] - ETA: 0s - loss: 1.1465 - categorical_accuracy: 0.4862\n",
            "Epoch 10: saving model to model_init_2022-12-1205_43_36.079496/model-00010-1.14647-0.48617-8.82937-0.23611.h5\n",
            "11/11 [==============================] - 59s 6s/step - loss: 1.1465 - categorical_accuracy: 0.4862 - val_loss: 8.8294 - val_categorical_accuracy: 0.2361 - lr: 0.0050\n",
            "Epoch 11/30\n",
            "11/11 [==============================] - ETA: 0s - loss: 1.1044 - categorical_accuracy: 0.5217\n",
            "Epoch 11: saving model to model_init_2022-12-1205_43_36.079496/model-00011-1.10437-0.52174-5.18799-0.29167.h5\n",
            "11/11 [==============================] - 55s 5s/step - loss: 1.1044 - categorical_accuracy: 0.5217 - val_loss: 5.1880 - val_categorical_accuracy: 0.2917 - lr: 0.0050\n",
            "Epoch 12/30\n",
            "11/11 [==============================] - ETA: 0s - loss: 1.2261 - categorical_accuracy: 0.4901\n",
            "Epoch 12: saving model to model_init_2022-12-1205_43_36.079496/model-00012-1.22610-0.49012-7.48169-0.26389.h5\n",
            "11/11 [==============================] - 59s 6s/step - loss: 1.2261 - categorical_accuracy: 0.4901 - val_loss: 7.4817 - val_categorical_accuracy: 0.2639 - lr: 0.0050\n",
            "Epoch 13/30\n",
            "11/11 [==============================] - ETA: 0s - loss: 1.1382 - categorical_accuracy: 0.5217\n",
            "Epoch 13: saving model to model_init_2022-12-1205_43_36.079496/model-00013-1.13825-0.52174-5.69727-0.30556.h5\n",
            "\n",
            "Epoch 13: ReduceLROnPlateau reducing learning rate to 0.0024999999441206455.\n",
            "11/11 [==============================] - 59s 6s/step - loss: 1.1382 - categorical_accuracy: 0.5217 - val_loss: 5.6973 - val_categorical_accuracy: 0.3056 - lr: 0.0050\n",
            "Epoch 14/30\n",
            "11/11 [==============================] - ETA: 0s - loss: 1.0013 - categorical_accuracy: 0.5810\n",
            "Epoch 14: saving model to model_init_2022-12-1205_43_36.079496/model-00014-1.00134-0.58103-4.00153-0.23611.h5\n",
            "11/11 [==============================] - 57s 6s/step - loss: 1.0013 - categorical_accuracy: 0.5810 - val_loss: 4.0015 - val_categorical_accuracy: 0.2361 - lr: 0.0025\n",
            "Epoch 15/30\n",
            "11/11 [==============================] - ETA: 0s - loss: 0.9362 - categorical_accuracy: 0.6047\n",
            "Epoch 15: saving model to model_init_2022-12-1205_43_36.079496/model-00015-0.93620-0.60474-1.88304-0.45833.h5\n",
            "11/11 [==============================] - 60s 6s/step - loss: 0.9362 - categorical_accuracy: 0.6047 - val_loss: 1.8830 - val_categorical_accuracy: 0.4583 - lr: 0.0025\n",
            "Epoch 16/30\n",
            "11/11 [==============================] - ETA: 0s - loss: 0.8949 - categorical_accuracy: 0.6166\n",
            "Epoch 16: saving model to model_init_2022-12-1205_43_36.079496/model-00016-0.89494-0.61660-2.59475-0.27778.h5\n",
            "11/11 [==============================] - 54s 5s/step - loss: 0.8949 - categorical_accuracy: 0.6166 - val_loss: 2.5948 - val_categorical_accuracy: 0.2778 - lr: 0.0025\n",
            "Epoch 17/30\n",
            "11/11 [==============================] - ETA: 0s - loss: 0.8535 - categorical_accuracy: 0.6601\n",
            "Epoch 17: saving model to model_init_2022-12-1205_43_36.079496/model-00017-0.85354-0.66008-1.09306-0.59722.h5\n",
            "11/11 [==============================] - 60s 6s/step - loss: 0.8535 - categorical_accuracy: 0.6601 - val_loss: 1.0931 - val_categorical_accuracy: 0.5972 - lr: 0.0025\n",
            "Epoch 18/30\n",
            "11/11 [==============================] - ETA: 0s - loss: 0.9340 - categorical_accuracy: 0.6522\n",
            "Epoch 18: saving model to model_init_2022-12-1205_43_36.079496/model-00018-0.93397-0.65217-1.45973-0.52778.h5\n",
            "11/11 [==============================] - 59s 6s/step - loss: 0.9340 - categorical_accuracy: 0.6522 - val_loss: 1.4597 - val_categorical_accuracy: 0.5278 - lr: 0.0025\n",
            "Epoch 19/30\n",
            "11/11 [==============================] - ETA: 0s - loss: 0.9218 - categorical_accuracy: 0.6522\n",
            "Epoch 19: saving model to model_init_2022-12-1205_43_36.079496/model-00019-0.92177-0.65217-1.30774-0.50000.h5\n",
            "\n",
            "Epoch 19: ReduceLROnPlateau reducing learning rate to 0.0012499999720603228.\n",
            "11/11 [==============================] - 64s 6s/step - loss: 0.9218 - categorical_accuracy: 0.6522 - val_loss: 1.3077 - val_categorical_accuracy: 0.5000 - lr: 0.0025\n",
            "Epoch 20/30\n",
            "11/11 [==============================] - ETA: 0s - loss: 0.9348 - categorical_accuracy: 0.6087\n",
            "Epoch 20: saving model to model_init_2022-12-1205_43_36.079496/model-00020-0.93482-0.60870-1.21487-0.45833.h5\n",
            "11/11 [==============================] - 58s 6s/step - loss: 0.9348 - categorical_accuracy: 0.6087 - val_loss: 1.2149 - val_categorical_accuracy: 0.4583 - lr: 0.0012\n",
            "Epoch 21/30\n",
            "11/11 [==============================] - ETA: 0s - loss: 0.8686 - categorical_accuracy: 0.6206\n",
            "Epoch 21: saving model to model_init_2022-12-1205_43_36.079496/model-00021-0.86861-0.62055-1.07974-0.56944.h5\n",
            "11/11 [==============================] - 58s 6s/step - loss: 0.8686 - categorical_accuracy: 0.6206 - val_loss: 1.0797 - val_categorical_accuracy: 0.5694 - lr: 0.0012\n",
            "Epoch 22/30\n",
            "11/11 [==============================] - ETA: 0s - loss: 0.9949 - categorical_accuracy: 0.5889\n",
            "Epoch 22: saving model to model_init_2022-12-1205_43_36.079496/model-00022-0.99490-0.58893-1.22047-0.58333.h5\n",
            "11/11 [==============================] - 54s 5s/step - loss: 0.9949 - categorical_accuracy: 0.5889 - val_loss: 1.2205 - val_categorical_accuracy: 0.5833 - lr: 0.0012\n",
            "Epoch 23/30\n",
            "11/11 [==============================] - ETA: 0s - loss: 0.6859 - categorical_accuracy: 0.7312\n",
            "Epoch 23: saving model to model_init_2022-12-1205_43_36.079496/model-00023-0.68591-0.73123-1.21633-0.52778.h5\n",
            "\n",
            "Epoch 23: ReduceLROnPlateau reducing learning rate to 0.0006249999860301614.\n",
            "11/11 [==============================] - 58s 6s/step - loss: 0.6859 - categorical_accuracy: 0.7312 - val_loss: 1.2163 - val_categorical_accuracy: 0.5278 - lr: 0.0012\n",
            "Epoch 24/30\n",
            "11/11 [==============================] - ETA: 0s - loss: 0.7787 - categorical_accuracy: 0.6877\n",
            "Epoch 24: saving model to model_init_2022-12-1205_43_36.079496/model-00024-0.77872-0.68775-0.91652-0.65278.h5\n",
            "11/11 [==============================] - 60s 6s/step - loss: 0.7787 - categorical_accuracy: 0.6877 - val_loss: 0.9165 - val_categorical_accuracy: 0.6528 - lr: 6.2500e-04\n",
            "Epoch 25/30\n",
            "11/11 [==============================] - ETA: 0s - loss: 0.7678 - categorical_accuracy: 0.6917\n",
            "Epoch 25: saving model to model_init_2022-12-1205_43_36.079496/model-00025-0.76779-0.69170-1.12366-0.56944.h5\n",
            "11/11 [==============================] - 57s 6s/step - loss: 0.7678 - categorical_accuracy: 0.6917 - val_loss: 1.1237 - val_categorical_accuracy: 0.5694 - lr: 6.2500e-04\n",
            "Epoch 26/30\n",
            "11/11 [==============================] - ETA: 0s - loss: 0.8085 - categorical_accuracy: 0.6640\n",
            "Epoch 26: saving model to model_init_2022-12-1205_43_36.079496/model-00026-0.80845-0.66403-1.33656-0.50000.h5\n",
            "\n",
            "Epoch 26: ReduceLROnPlateau reducing learning rate to 0.0003124999930150807.\n",
            "11/11 [==============================] - 58s 6s/step - loss: 0.8085 - categorical_accuracy: 0.6640 - val_loss: 1.3366 - val_categorical_accuracy: 0.5000 - lr: 6.2500e-04\n",
            "Epoch 27/30\n",
            "11/11 [==============================] - ETA: 0s - loss: 0.8508 - categorical_accuracy: 0.6166\n",
            "Epoch 27: saving model to model_init_2022-12-1205_43_36.079496/model-00027-0.85085-0.61660-1.20566-0.54167.h5\n",
            "11/11 [==============================] - 58s 6s/step - loss: 0.8508 - categorical_accuracy: 0.6166 - val_loss: 1.2057 - val_categorical_accuracy: 0.5417 - lr: 3.1250e-04\n",
            "Epoch 28/30\n",
            "11/11 [==============================] - ETA: 0s - loss: 0.7479 - categorical_accuracy: 0.6680\n",
            "Epoch 28: saving model to model_init_2022-12-1205_43_36.079496/model-00028-0.74788-0.66798-1.07505-0.50000.h5\n",
            "\n",
            "Epoch 28: ReduceLROnPlateau reducing learning rate to 0.00015624999650754035.\n",
            "11/11 [==============================] - 59s 6s/step - loss: 0.7479 - categorical_accuracy: 0.6680 - val_loss: 1.0750 - val_categorical_accuracy: 0.5000 - lr: 3.1250e-04\n",
            "Epoch 29/30\n",
            "11/11 [==============================] - ETA: 0s - loss: 0.8408 - categorical_accuracy: 0.6166\n",
            "Epoch 29: saving model to model_init_2022-12-1205_43_36.079496/model-00029-0.84081-0.61660-0.76667-0.66667.h5\n",
            "11/11 [==============================] - 59s 6s/step - loss: 0.8408 - categorical_accuracy: 0.6166 - val_loss: 0.7667 - val_categorical_accuracy: 0.6667 - lr: 1.5625e-04\n",
            "Epoch 30/30\n",
            "11/11 [==============================] - ETA: 0s - loss: 0.7584 - categorical_accuracy: 0.6640\n",
            "Epoch 30: saving model to model_init_2022-12-1205_43_36.079496/model-00030-0.75842-0.66403-0.77052-0.73611.h5\n",
            "11/11 [==============================] - 57s 6s/step - loss: 0.7584 - categorical_accuracy: 0.6640 - val_loss: 0.7705 - val_categorical_accuracy: 0.7361 - lr: 1.5625e-04\n"
          ]
        }
      ],
      "source": [
        "history = model.fit(train_generator, steps_per_epoch = steps_per_epoch, epochs=num_epochs, verbose=1, \n",
        "                    callbacks=callbacks_list, validation_data=val_generator, \n",
        "                    validation_steps= validation_steps, class_weight=None, workers=1, initial_epoch=0)"
      ]
    },
    {
      "cell_type": "code",
      "execution_count": null,
      "metadata": {
        "colab": {
          "base_uri": "https://localhost:8080/",
          "height": 287
        },
        "id": "ZM1uOQuXnspJ",
        "outputId": "fd7d9312-f2a1-4a1b-8acb-45b1842dd198"
      },
      "outputs": [
        {
          "data": {
            "text/plain": [
              "<matplotlib.legend.Legend at 0x7fdd4c5e91c0>"
            ]
          },
          "execution_count": 37,
          "metadata": {},
          "output_type": "execute_result"
        },
        {
          "data": {
            "image/png": "[encoded data removed]",
            "text/plain": [
              "<Figure size 1152x288 with 2 Axes>"
            ]
          },
          "metadata": {
            "needs_background": "light"
          },
          "output_type": "display_data"
        }
      ],
      "source": [
        "fig, axes = plt.subplots(nrows=1, ncols=2, figsize=(16,4))\n",
        "axes[0].plot(history.history['categorical_accuracy'])   \n",
        "axes[0].plot(history.history['val_categorical_accuracy'])\n",
        "axes[0].legend(['categorical_accuracy','val_categorical_accuracy'])\n",
        "\n",
        "axes[1].plot(history.history['loss'])   \n",
        "axes[1].plot(history.history['val_loss'])\n",
        "axes[1].legend(['loss','val_loss'])"
      ]
    },
    {
      "cell_type": "markdown",
      "metadata": {
        "id": "mtatpNLPnspK"
      },
      "source": [
        "### 9. Model Timedistibuted Conv2D GRU"
      ]
    },
    {
      "cell_type": "code",
      "execution_count": null,
      "metadata": {
        "id": "maWjXHpinspK"
      },
      "outputs": [],
      "source": [
        "model = Sequential()\n",
        "model.add(TimeDistributed(Conv2D(32, (3,3), activation='relu'), input_shape=input_shape))\n",
        "model.add(TimeDistributed(MaxPooling2D((2,2))))\n",
        "model.add(BatchNormalization())\n",
        "\n",
        "model.add(TimeDistributed(Conv2D(64, (3,3), activation='relu')))\n",
        "model.add(TimeDistributed(MaxPooling2D((2,2))))\n",
        "model.add(BatchNormalization())\n",
        "\n",
        "model.add(TimeDistributed(GlobalAveragePooling2D()))\n",
        "model.add(TimeDistributed(Dense(64, activation='relu')))\n",
        "model.add(BatchNormalization())\n",
        "\n",
        "model.add(GRU(128))\n",
        "model.add(BatchNormalization())\n",
        "model.add(Dense(5, activation='softmax'))"
      ]
    },
    {
      "cell_type": "code",
      "execution_count": null,
      "metadata": {
        "colab": {
          "base_uri": "https://localhost:8080/"
        },
        "id": "Fdvw7YROnspK",
        "outputId": "903d8624-b6a8-48cf-f9d3-b29ce1612da4"
      },
      "outputs": [
        {
          "name": "stdout",
          "output_type": "stream",
          "text": [
            "Model: \"sequential_2\"\n",
            "_________________________________________________________________\n",
            " Layer (type)                Output Shape              Param #   \n",
            "=================================================================\n",
            " time_distributed (TimeDistr  (None, 18, 82, 82, 32)   896       \n",
            " ibuted)                                                         \n",
            "                                                                 \n",
            " time_distributed_1 (TimeDis  (None, 18, 41, 41, 32)   0         \n",
            " tributed)                                                       \n",
            "                                                                 \n",
            " batch_normalization_8 (Batc  (None, 18, 41, 41, 32)   128       \n",
            " hNormalization)                                                 \n",
            "                                                                 \n",
            " time_distributed_2 (TimeDis  (None, 18, 39, 39, 64)   18496     \n",
            " tributed)                                                       \n",
            "                                                                 \n",
            " time_distributed_3 (TimeDis  (None, 18, 19, 19, 64)   0         \n",
            " tributed)                                                       \n",
            "                                                                 \n",
            " batch_normalization_9 (Batc  (None, 18, 19, 19, 64)   256       \n",
            " hNormalization)                                                 \n",
            "                                                                 \n",
            " time_distributed_4 (TimeDis  (None, 18, 64)           0         \n",
            " tributed)                                                       \n",
            "                                                                 \n",
            " time_distributed_5 (TimeDis  (None, 18, 64)           4160      \n",
            " tributed)                                                       \n",
            "                                                                 \n",
            " batch_normalization_10 (Bat  (None, 18, 64)           256       \n",
            " chNormalization)                                                \n",
            "                                                                 \n",
            " gru (GRU)                   (None, 128)               74496     \n",
            "                                                                 \n",
            " batch_normalization_11 (Bat  (None, 128)              512       \n",
            " chNormalization)                                                \n",
            "                                                                 \n",
            " dense_5 (Dense)             (None, 5)                 645       \n",
            "                                                                 \n",
            "=================================================================\n",
            "Total params: 99,845\n",
            "Trainable params: 99,269\n",
            "Non-trainable params: 576\n",
            "_________________________________________________________________\n",
            "None\n"
          ]
        }
      ],
      "source": [
        "optimiser = tf.keras.optimizers.Adam(lr=0.01) #write your optimizer\n",
        "model.compile(optimizer=optimiser, loss='categorical_crossentropy', metrics=['categorical_accuracy'])\n",
        "print(model.summary())"
      ]
    },
    {
      "cell_type": "code",
      "execution_count": null,
      "metadata": {
        "colab": {
          "base_uri": "https://localhost:8080/"
        },
        "id": "JX9ygEQknspK",
        "outputId": "442fa9c6-46c4-4bf3-b723-6c419e275033"
      },
      "outputs": [
        {
          "name": "stdout",
          "output_type": "stream",
          "text": [
            "Epoch 1/30\n",
            "11/11 [==============================] - ETA: 0s - loss: 2.1586 - categorical_accuracy: 0.3676\n",
            "Epoch 1: saving model to model_init_2022-12-1205_43_36.079496/model-00001-2.15856-0.36759-2.37904-0.25000.h5\n",
            "11/11 [==============================] - 63s 6s/step - loss: 2.1586 - categorical_accuracy: 0.3676 - val_loss: 2.3790 - val_categorical_accuracy: 0.2500 - lr: 0.0100\n",
            "Epoch 2/30\n",
            "11/11 [==============================] - ETA: 0s - loss: 1.3511 - categorical_accuracy: 0.4704\n",
            "Epoch 2: saving model to model_init_2022-12-1205_43_36.079496/model-00002-1.35111-0.47036-2.17067-0.23611.h5\n",
            "11/11 [==============================] - 59s 6s/step - loss: 1.3511 - categorical_accuracy: 0.4704 - val_loss: 2.1707 - val_categorical_accuracy: 0.2361 - lr: 0.0100\n",
            "Epoch 3/30\n",
            "11/11 [==============================] - ETA: 0s - loss: 1.2893 - categorical_accuracy: 0.4625\n",
            "Epoch 3: saving model to model_init_2022-12-1205_43_36.079496/model-00003-1.28925-0.46245-2.43219-0.19444.h5\n",
            "11/11 [==============================] - 58s 6s/step - loss: 1.2893 - categorical_accuracy: 0.4625 - val_loss: 2.4322 - val_categorical_accuracy: 0.1944 - lr: 0.0100\n",
            "Epoch 4/30\n",
            "11/11 [==============================] - ETA: 0s - loss: 1.0973 - categorical_accuracy: 0.5336\n",
            "Epoch 4: saving model to model_init_2022-12-1205_43_36.079496/model-00004-1.09726-0.53360-2.46335-0.19444.h5\n",
            "\n",
            "Epoch 4: ReduceLROnPlateau reducing learning rate to 0.004999999888241291.\n",
            "11/11 [==============================] - 56s 6s/step - loss: 1.0973 - categorical_accuracy: 0.5336 - val_loss: 2.4633 - val_categorical_accuracy: 0.1944 - lr: 0.0100\n",
            "Epoch 5/30\n",
            "11/11 [==============================] - ETA: 0s - loss: 1.0954 - categorical_accuracy: 0.5178\n",
            "Epoch 5: saving model to model_init_2022-12-1205_43_36.079496/model-00005-1.09537-0.51779-2.70868-0.27778.h5\n",
            "11/11 [==============================] - 61s 6s/step - loss: 1.0954 - categorical_accuracy: 0.5178 - val_loss: 2.7087 - val_categorical_accuracy: 0.2778 - lr: 0.0050\n",
            "Epoch 6/30\n",
            "11/11 [==============================] - ETA: 0s - loss: 1.1682 - categorical_accuracy: 0.5020\n",
            "Epoch 6: saving model to model_init_2022-12-1205_43_36.079496/model-00006-1.16817-0.50198-2.53233-0.29167.h5\n",
            "\n",
            "Epoch 6: ReduceLROnPlateau reducing learning rate to 0.0024999999441206455.\n",
            "11/11 [==============================] - 52s 5s/step - loss: 1.1682 - categorical_accuracy: 0.5020 - val_loss: 2.5323 - val_categorical_accuracy: 0.2917 - lr: 0.0050\n",
            "Epoch 7/30\n",
            "11/11 [==============================] - ETA: 0s - loss: 1.1159 - categorical_accuracy: 0.5257\n",
            "Epoch 7: saving model to model_init_2022-12-1205_43_36.079496/model-00007-1.11589-0.52569-2.30119-0.27778.h5\n",
            "11/11 [==============================] - 56s 6s/step - loss: 1.1159 - categorical_accuracy: 0.5257 - val_loss: 2.3012 - val_categorical_accuracy: 0.2778 - lr: 0.0025\n",
            "Epoch 8/30\n",
            "11/11 [==============================] - ETA: 0s - loss: 1.0251 - categorical_accuracy: 0.5771\n",
            "Epoch 8: saving model to model_init_2022-12-1205_43_36.079496/model-00008-1.02508-0.57708-2.36341-0.23611.h5\n",
            "\n",
            "Epoch 8: ReduceLROnPlateau reducing learning rate to 0.0012499999720603228.\n",
            "11/11 [==============================] - 54s 5s/step - loss: 1.0251 - categorical_accuracy: 0.5771 - val_loss: 2.3634 - val_categorical_accuracy: 0.2361 - lr: 0.0025\n",
            "Epoch 9/30\n",
            "11/11 [==============================] - ETA: 0s - loss: 0.9755 - categorical_accuracy: 0.5731\n",
            "Epoch 9: saving model to model_init_2022-12-1205_43_36.079496/model-00009-0.97550-0.57312-2.54164-0.25000.h5\n",
            "11/11 [==============================] - 57s 6s/step - loss: 0.9755 - categorical_accuracy: 0.5731 - val_loss: 2.5416 - val_categorical_accuracy: 0.2500 - lr: 0.0012\n",
            "Epoch 10/30\n",
            "11/11 [==============================] - ETA: 0s - loss: 0.9291 - categorical_accuracy: 0.6047\n",
            "Epoch 10: saving model to model_init_2022-12-1205_43_36.079496/model-00010-0.92908-0.60474-2.60131-0.23611.h5\n",
            "\n",
            "Epoch 10: ReduceLROnPlateau reducing learning rate to 0.0006249999860301614.\n",
            "11/11 [==============================] - 58s 6s/step - loss: 0.9291 - categorical_accuracy: 0.6047 - val_loss: 2.6013 - val_categorical_accuracy: 0.2361 - lr: 0.0012\n",
            "Epoch 11/30\n",
            "11/11 [==============================] - ETA: 0s - loss: 0.8969 - categorical_accuracy: 0.6166\n",
            "Epoch 11: saving model to model_init_2022-12-1205_43_36.079496/model-00011-0.89687-0.61660-2.66648-0.23611.h5\n",
            "11/11 [==============================] - 55s 6s/step - loss: 0.8969 - categorical_accuracy: 0.6166 - val_loss: 2.6665 - val_categorical_accuracy: 0.2361 - lr: 6.2500e-04\n",
            "Epoch 12/30\n",
            "11/11 [==============================] - ETA: 0s - loss: 0.8924 - categorical_accuracy: 0.6680\n",
            "Epoch 12: saving model to model_init_2022-12-1205_43_36.079496/model-00012-0.89244-0.66798-2.52284-0.29167.h5\n",
            "\n",
            "Epoch 12: ReduceLROnPlateau reducing learning rate to 0.0003124999930150807.\n",
            "11/11 [==============================] - 54s 5s/step - loss: 0.8924 - categorical_accuracy: 0.6680 - val_loss: 2.5228 - val_categorical_accuracy: 0.2917 - lr: 6.2500e-04\n",
            "Epoch 13/30\n",
            "11/11 [==============================] - ETA: 0s - loss: 0.9142 - categorical_accuracy: 0.5810\n",
            "Epoch 13: saving model to model_init_2022-12-1205_43_36.079496/model-00013-0.91419-0.58103-2.67109-0.19444.h5\n",
            "11/11 [==============================] - 59s 6s/step - loss: 0.9142 - categorical_accuracy: 0.5810 - val_loss: 2.6711 - val_categorical_accuracy: 0.1944 - lr: 3.1250e-04\n",
            "Epoch 14/30\n",
            "11/11 [==============================] - ETA: 0s - loss: 0.8271 - categorical_accuracy: 0.6680\n",
            "Epoch 14: saving model to model_init_2022-12-1205_43_36.079496/model-00014-0.82709-0.66798-2.20319-0.29167.h5\n",
            "\n",
            "Epoch 14: ReduceLROnPlateau reducing learning rate to 0.00015624999650754035.\n",
            "11/11 [==============================] - 58s 6s/step - loss: 0.8271 - categorical_accuracy: 0.6680 - val_loss: 2.2032 - val_categorical_accuracy: 0.2917 - lr: 3.1250e-04\n",
            "Epoch 15/30\n",
            "11/11 [==============================] - ETA: 0s - loss: 0.9223 - categorical_accuracy: 0.6324\n",
            "Epoch 15: saving model to model_init_2022-12-1205_43_36.079496/model-00015-0.92229-0.63241-1.85773-0.34722.h5\n",
            "11/11 [==============================] - 51s 5s/step - loss: 0.9223 - categorical_accuracy: 0.6324 - val_loss: 1.8577 - val_categorical_accuracy: 0.3472 - lr: 1.5625e-04\n",
            "Epoch 16/30\n",
            "11/11 [==============================] - ETA: 0s - loss: 0.9109 - categorical_accuracy: 0.6245\n",
            "Epoch 16: saving model to model_init_2022-12-1205_43_36.079496/model-00016-0.91094-0.62451-1.92793-0.29167.h5\n",
            "11/11 [==============================] - 57s 6s/step - loss: 0.9109 - categorical_accuracy: 0.6245 - val_loss: 1.9279 - val_categorical_accuracy: 0.2917 - lr: 1.5625e-04\n",
            "Epoch 17/30\n",
            "11/11 [==============================] - ETA: 0s - loss: 0.9744 - categorical_accuracy: 0.5771\n",
            "Epoch 17: saving model to model_init_2022-12-1205_43_36.079496/model-00017-0.97437-0.57708-1.67817-0.38889.h5\n",
            "11/11 [==============================] - 54s 5s/step - loss: 0.9744 - categorical_accuracy: 0.5771 - val_loss: 1.6782 - val_categorical_accuracy: 0.3889 - lr: 1.5625e-04\n",
            "Epoch 18/30\n",
            "11/11 [==============================] - ETA: 0s - loss: 0.9184 - categorical_accuracy: 0.6403\n",
            "Epoch 18: saving model to model_init_2022-12-1205_43_36.079496/model-00018-0.91843-0.64032-1.59978-0.40278.h5\n",
            "11/11 [==============================] - 58s 6s/step - loss: 0.9184 - categorical_accuracy: 0.6403 - val_loss: 1.5998 - val_categorical_accuracy: 0.4028 - lr: 1.5625e-04\n",
            "Epoch 19/30\n",
            "11/11 [==============================] - ETA: 0s - loss: 0.7967 - categorical_accuracy: 0.6719\n",
            "Epoch 19: saving model to model_init_2022-12-1205_43_36.079496/model-00019-0.79672-0.67194-1.55670-0.40278.h5\n",
            "11/11 [==============================] - 56s 6s/step - loss: 0.7967 - categorical_accuracy: 0.6719 - val_loss: 1.5567 - val_categorical_accuracy: 0.4028 - lr: 1.5625e-04\n",
            "Epoch 20/30\n",
            "11/11 [==============================] - ETA: 0s - loss: 0.9149 - categorical_accuracy: 0.6126\n",
            "Epoch 20: saving model to model_init_2022-12-1205_43_36.079496/model-00020-0.91491-0.61265-1.50370-0.43056.h5\n",
            "11/11 [==============================] - 55s 5s/step - loss: 0.9149 - categorical_accuracy: 0.6126 - val_loss: 1.5037 - val_categorical_accuracy: 0.4306 - lr: 1.5625e-04\n",
            "Epoch 21/30\n",
            "11/11 [==============================] - ETA: 0s - loss: 0.8705 - categorical_accuracy: 0.6601\n",
            "Epoch 21: saving model to model_init_2022-12-1205_43_36.079496/model-00021-0.87052-0.66008-1.23604-0.43056.h5\n",
            "11/11 [==============================] - 55s 5s/step - loss: 0.8705 - categorical_accuracy: 0.6601 - val_loss: 1.2360 - val_categorical_accuracy: 0.4306 - lr: 1.5625e-04\n",
            "Epoch 22/30\n",
            "11/11 [==============================] - ETA: 0s - loss: 0.8154 - categorical_accuracy: 0.6640\n",
            "Epoch 22: saving model to model_init_2022-12-1205_43_36.079496/model-00022-0.81544-0.66403-1.22288-0.50000.h5\n",
            "11/11 [==============================] - 58s 6s/step - loss: 0.8154 - categorical_accuracy: 0.6640 - val_loss: 1.2229 - val_categorical_accuracy: 0.5000 - lr: 1.5625e-04\n",
            "Epoch 23/30\n",
            "11/11 [==============================] - ETA: 0s - loss: 0.8821 - categorical_accuracy: 0.6759\n",
            "Epoch 23: saving model to model_init_2022-12-1205_43_36.079496/model-00023-0.88206-0.67589-1.15799-0.55556.h5\n",
            "11/11 [==============================] - 55s 6s/step - loss: 0.8821 - categorical_accuracy: 0.6759 - val_loss: 1.1580 - val_categorical_accuracy: 0.5556 - lr: 1.5625e-04\n",
            "Epoch 24/30\n",
            "11/11 [==============================] - ETA: 0s - loss: 0.7419 - categorical_accuracy: 0.7352\n",
            "Epoch 24: saving model to model_init_2022-12-1205_43_36.079496/model-00024-0.74194-0.73518-1.12700-0.48611.h5\n",
            "11/11 [==============================] - 62s 6s/step - loss: 0.7419 - categorical_accuracy: 0.7352 - val_loss: 1.1270 - val_categorical_accuracy: 0.4861 - lr: 1.5625e-04\n",
            "Epoch 25/30\n",
            "11/11 [==============================] - ETA: 0s - loss: 0.8918 - categorical_accuracy: 0.6522\n",
            "Epoch 25: saving model to model_init_2022-12-1205_43_36.079496/model-00025-0.89184-0.65217-0.98242-0.59722.h5\n",
            "11/11 [==============================] - 60s 6s/step - loss: 0.8918 - categorical_accuracy: 0.6522 - val_loss: 0.9824 - val_categorical_accuracy: 0.5972 - lr: 1.5625e-04\n",
            "Epoch 26/30\n",
            "11/11 [==============================] - ETA: 0s - loss: 0.8591 - categorical_accuracy: 0.6838\n",
            "Epoch 26: saving model to model_init_2022-12-1205_43_36.079496/model-00026-0.85911-0.68379-1.04464-0.61111.h5\n",
            "11/11 [==============================] - 55s 6s/step - loss: 0.8591 - categorical_accuracy: 0.6838 - val_loss: 1.0446 - val_categorical_accuracy: 0.6111 - lr: 1.5625e-04\n",
            "Epoch 27/30\n",
            "11/11 [==============================] - ETA: 0s - loss: 0.7829 - categorical_accuracy: 0.7036\n",
            "Epoch 27: saving model to model_init_2022-12-1205_43_36.079496/model-00027-0.78294-0.70356-0.95618-0.61111.h5\n",
            "11/11 [==============================] - 57s 6s/step - loss: 0.7829 - categorical_accuracy: 0.7036 - val_loss: 0.9562 - val_categorical_accuracy: 0.6111 - lr: 1.5625e-04\n",
            "Epoch 28/30\n",
            "11/11 [==============================] - ETA: 0s - loss: 0.9067 - categorical_accuracy: 0.5889\n",
            "Epoch 28: saving model to model_init_2022-12-1205_43_36.079496/model-00028-0.90670-0.58893-0.95211-0.62500.h5\n",
            "11/11 [==============================] - 59s 6s/step - loss: 0.9067 - categorical_accuracy: 0.5889 - val_loss: 0.9521 - val_categorical_accuracy: 0.6250 - lr: 1.5625e-04\n",
            "Epoch 29/30\n",
            "11/11 [==============================] - ETA: 0s - loss: 0.8956 - categorical_accuracy: 0.6206\n",
            "Epoch 29: saving model to model_init_2022-12-1205_43_36.079496/model-00029-0.89559-0.62055-0.82489-0.65278.h5\n",
            "11/11 [==============================] - 58s 6s/step - loss: 0.8956 - categorical_accuracy: 0.6206 - val_loss: 0.8249 - val_categorical_accuracy: 0.6528 - lr: 1.5625e-04\n",
            "Epoch 30/30\n",
            "11/11 [==============================] - ETA: 0s - loss: 0.8503 - categorical_accuracy: 0.6601\n",
            "Epoch 30: saving model to model_init_2022-12-1205_43_36.079496/model-00030-0.85030-0.66008-0.92882-0.63889.h5\n",
            "11/11 [==============================] - 54s 5s/step - loss: 0.8503 - categorical_accuracy: 0.6601 - val_loss: 0.9288 - val_categorical_accuracy: 0.6389 - lr: 1.5625e-04\n"
          ]
        }
      ],
      "source": [
        "history = model.fit(train_generator, steps_per_epoch = steps_per_epoch, epochs=num_epochs, verbose=1, \n",
        "                    callbacks=callbacks_list, validation_data=val_generator, \n",
        "                    validation_steps= validation_steps, class_weight=None, workers=1, initial_epoch=0)"
      ]
    },
    {
      "cell_type": "code",
      "execution_count": null,
      "metadata": {
        "colab": {
          "base_uri": "https://localhost:8080/",
          "height": 283
        },
        "id": "FJqgvMVbnspK",
        "outputId": "90834ce7-11dc-4881-c595-c92aa93ff69d"
      },
      "outputs": [
        {
          "data": {
            "text/plain": [
              "<matplotlib.legend.Legend at 0x7fdd46f3daf0>"
            ]
          },
          "execution_count": 42,
          "metadata": {},
          "output_type": "execute_result"
        },
        {
          "data": {
            "image/png": "[encoded data removed]",
            "text/plain": [
              "<Figure size 1152x288 with 2 Axes>"
            ]
          },
          "metadata": {
            "needs_background": "light"
          },
          "output_type": "display_data"
        }
      ],
      "source": [
        "fig, axes = plt.subplots(nrows=1, ncols=2, figsize=(16,4))\n",
        "axes[0].plot(history.history['categorical_accuracy'])   \n",
        "axes[0].plot(history.history['val_categorical_accuracy'])\n",
        "axes[0].legend(['categorical_accuracy','val_categorical_accuracy'])\n",
        "\n",
        "axes[1].plot(history.history['loss'])   \n",
        "axes[1].plot(history.history['val_loss'])\n",
        "axes[1].legend(['loss','val_loss'])"
      ]
    },
    {
      "cell_type": "markdown",
      "metadata": {
        "id": "q5CJdhGznspK"
      },
      "source": [
        "### 10. Model Timedistributed Conv2D GRU"
      ]
    },
    {
      "cell_type": "code",
      "execution_count": null,
      "metadata": {
        "id": "fXCaGrQ7nspK"
      },
      "outputs": [],
      "source": [
        "input_shape = 18,84,84,3\n",
        "model = Sequential()\n",
        "model.add(TimeDistributed(Conv2D(32, (3,3), activation='relu'), input_shape=input_shape))\n",
        "model.add(TimeDistributed(MaxPooling2D((2,2))))\n",
        "model.add(BatchNormalization())\n",
        "model.add(Dropout(0.2))\n",
        "\n",
        "model.add(TimeDistributed(Conv2D(64, (3,3), activation='relu')))\n",
        "model.add(TimeDistributed(MaxPooling2D((2,2))))\n",
        "model.add(BatchNormalization())\n",
        "model.add(Dropout(0.2))\n",
        "\n",
        "model.add(TimeDistributed(GlobalAveragePooling2D()))\n",
        "model.add(TimeDistributed(Dense(64, activation='relu')))\n",
        "model.add(BatchNormalization())\n",
        "model.add(Dropout(0.2))\n",
        "\n",
        "model.add(GRU(128))\n",
        "model.add(BatchNormalization())\n",
        "model.add(Dense(5, activation='softmax'))"
      ]
    },
    {
      "cell_type": "code",
      "execution_count": null,
      "metadata": {
        "colab": {
          "base_uri": "https://localhost:8080/"
        },
        "id": "el8pYZptnspK",
        "outputId": "9ae222e6-d893-4f07-ff09-c609949fae52"
      },
      "outputs": [
        {
          "name": "stdout",
          "output_type": "stream",
          "text": [
            "Model: \"sequential_1\"\n",
            "_________________________________________________________________\n",
            " Layer (type)                Output Shape              Param #   \n",
            "=================================================================\n",
            " time_distributed (TimeDistr  (None, 18, 82, 82, 32)   896       \n",
            " ibuted)                                                         \n",
            "                                                                 \n",
            " time_distributed_1 (TimeDis  (None, 18, 41, 41, 32)   0         \n",
            " tributed)                                                       \n",
            "                                                                 \n",
            " batch_normalization (BatchN  (None, 18, 41, 41, 32)   128       \n",
            " ormalization)                                                   \n",
            "                                                                 \n",
            " dropout (Dropout)           (None, 18, 41, 41, 32)    0         \n",
            "                                                                 \n",
            " time_distributed_2 (TimeDis  (None, 18, 39, 39, 64)   18496     \n",
            " tributed)                                                       \n",
            "                                                                 \n",
            " time_distributed_3 (TimeDis  (None, 18, 19, 19, 64)   0         \n",
            " tributed)                                                       \n",
            "                                                                 \n",
            " batch_normalization_1 (Batc  (None, 18, 19, 19, 64)   256       \n",
            " hNormalization)                                                 \n",
            "                                                                 \n",
            " dropout_1 (Dropout)         (None, 18, 19, 19, 64)    0         \n",
            "                                                                 \n",
            " time_distributed_4 (TimeDis  (None, 18, 64)           0         \n",
            " tributed)                                                       \n",
            "                                                                 \n",
            " time_distributed_5 (TimeDis  (None, 18, 64)           4160      \n",
            " tributed)                                                       \n",
            "                                                                 \n",
            " batch_normalization_2 (Batc  (None, 18, 64)           256       \n",
            " hNormalization)                                                 \n",
            "                                                                 \n",
            " dropout_2 (Dropout)         (None, 18, 64)            0         \n",
            "                                                                 \n",
            " gru (GRU)                   (None, 128)               74496     \n",
            "                                                                 \n",
            " batch_normalization_3 (Batc  (None, 128)              512       \n",
            " hNormalization)                                                 \n",
            "                                                                 \n",
            " dense_1 (Dense)             (None, 5)                 645       \n",
            "                                                                 \n",
            "=================================================================\n",
            "Total params: 99,845\n",
            "Trainable params: 99,269\n",
            "Non-trainable params: 576\n",
            "_________________________________________________________________\n",
            "None\n"
          ]
        }
      ],
      "source": [
        "optimiser = tf.keras.optimizers.Adam(lr=0.01) #write your optimizer\n",
        "model.compile(optimizer=optimiser, loss='categorical_crossentropy', metrics=['categorical_accuracy'])\n",
        "print(model.summary())"
      ]
    },
    {
      "cell_type": "code",
      "execution_count": null,
      "metadata": {
        "colab": {
          "base_uri": "https://localhost:8080/"
        },
        "id": "QNIEVUJHnspK",
        "outputId": "afc0dc47-22e9-4603-dd03-af836406c373"
      },
      "outputs": [
        {
          "name": "stdout",
          "output_type": "stream",
          "text": [
            "Source path =  /content/Project_data/train ; batch size = 64\n",
            "Epoch 1/30\n",
            "11/11 [==============================] - ETA: 0s - loss: 2.2609 - categorical_accuracy: 0.3399Source path =  /content/Project_data/val ; batch size = 64\n",
            "\n",
            "Epoch 1: saving model to model_init_2022-12-1208_29_51.548856/model-00001-2.26089-0.33992-2.61878-0.19444.h5\n",
            "11/11 [==============================] - 79s 6s/step - loss: 2.2609 - categorical_accuracy: 0.3399 - val_loss: 2.6188 - val_categorical_accuracy: 0.1944 - lr: 0.0100\n",
            "Epoch 2/30\n",
            "11/11 [==============================] - ETA: 0s - loss: 1.4596 - categorical_accuracy: 0.4111\n",
            "Epoch 2: saving model to model_init_2022-12-1208_29_51.548856/model-00002-1.45965-0.41107-2.59023-0.22222.h5\n",
            "11/11 [==============================] - 80s 8s/step - loss: 1.4596 - categorical_accuracy: 0.4111 - val_loss: 2.5902 - val_categorical_accuracy: 0.2222 - lr: 0.0100\n",
            "Epoch 3/30\n",
            "11/11 [==============================] - ETA: 0s - loss: 1.3674 - categorical_accuracy: 0.4545\n",
            "Epoch 3: saving model to model_init_2022-12-1208_29_51.548856/model-00003-1.36741-0.45455-2.47374-0.19444.h5\n",
            "11/11 [==============================] - 78s 8s/step - loss: 1.3674 - categorical_accuracy: 0.4545 - val_loss: 2.4737 - val_categorical_accuracy: 0.1944 - lr: 0.0100\n",
            "Epoch 4/30\n",
            "11/11 [==============================] - ETA: 0s - loss: 1.2712 - categorical_accuracy: 0.4585\n",
            "Epoch 4: saving model to model_init_2022-12-1208_29_51.548856/model-00004-1.27117-0.45850-2.27292-0.29167.h5\n",
            "11/11 [==============================] - 63s 6s/step - loss: 1.2712 - categorical_accuracy: 0.4585 - val_loss: 2.2729 - val_categorical_accuracy: 0.2917 - lr: 0.0100\n",
            "Epoch 5/30\n",
            "11/11 [==============================] - ETA: 0s - loss: 1.2325 - categorical_accuracy: 0.4941\n",
            "Epoch 5: saving model to model_init_2022-12-1208_29_51.548856/model-00005-1.23245-0.49407-2.60204-0.20833.h5\n",
            "11/11 [==============================] - 60s 6s/step - loss: 1.2325 - categorical_accuracy: 0.4941 - val_loss: 2.6020 - val_categorical_accuracy: 0.2083 - lr: 0.0100\n",
            "Epoch 6/30\n",
            "11/11 [==============================] - ETA: 0s - loss: 1.1795 - categorical_accuracy: 0.5020\n",
            "Epoch 6: saving model to model_init_2022-12-1208_29_51.548856/model-00006-1.17947-0.50198-3.19248-0.19444.h5\n",
            "\n",
            "Epoch 6: ReduceLROnPlateau reducing learning rate to 0.004999999888241291.\n",
            "11/11 [==============================] - 65s 7s/step - loss: 1.1795 - categorical_accuracy: 0.5020 - val_loss: 3.1925 - val_categorical_accuracy: 0.1944 - lr: 0.0100\n",
            "Epoch 7/30\n",
            "11/11 [==============================] - ETA: 0s - loss: 1.0375 - categorical_accuracy: 0.5613\n",
            "Epoch 7: saving model to model_init_2022-12-1208_29_51.548856/model-00007-1.03745-0.56126-2.24488-0.34722.h5\n",
            "11/11 [==============================] - 75s 7s/step - loss: 1.0375 - categorical_accuracy: 0.5613 - val_loss: 2.2449 - val_categorical_accuracy: 0.3472 - lr: 0.0050\n",
            "Epoch 8/30\n",
            "11/11 [==============================] - ETA: 0s - loss: 1.0062 - categorical_accuracy: 0.5929\n",
            "Epoch 8: saving model to model_init_2022-12-1208_29_51.548856/model-00008-1.00618-0.59289-2.86883-0.23611.h5\n",
            "11/11 [==============================] - 66s 7s/step - loss: 1.0062 - categorical_accuracy: 0.5929 - val_loss: 2.8688 - val_categorical_accuracy: 0.2361 - lr: 0.0050\n",
            "Epoch 9/30\n",
            "11/11 [==============================] - ETA: 0s - loss: 0.9977 - categorical_accuracy: 0.5929\n",
            "Epoch 9: saving model to model_init_2022-12-1208_29_51.548856/model-00009-0.99765-0.59289-2.85585-0.23611.h5\n",
            "\n",
            "Epoch 9: ReduceLROnPlateau reducing learning rate to 0.0024999999441206455.\n",
            "11/11 [==============================] - 68s 7s/step - loss: 0.9977 - categorical_accuracy: 0.5929 - val_loss: 2.8559 - val_categorical_accuracy: 0.2361 - lr: 0.0050\n",
            "Epoch 10/30\n",
            "11/11 [==============================] - ETA: 0s - loss: 1.1136 - categorical_accuracy: 0.4862\n",
            "Epoch 10: saving model to model_init_2022-12-1208_29_51.548856/model-00010-1.11357-0.48617-2.72978-0.19444.h5\n",
            "11/11 [==============================] - 64s 6s/step - loss: 1.1136 - categorical_accuracy: 0.4862 - val_loss: 2.7298 - val_categorical_accuracy: 0.1944 - lr: 0.0025\n",
            "Epoch 11/30\n",
            "11/11 [==============================] - ETA: 0s - loss: 0.9209 - categorical_accuracy: 0.6522\n",
            "Epoch 11: saving model to model_init_2022-12-1208_29_51.548856/model-00011-0.92090-0.65217-2.59202-0.23611.h5\n",
            "\n",
            "Epoch 11: ReduceLROnPlateau reducing learning rate to 0.0012499999720603228.\n",
            "11/11 [==============================] - 59s 6s/step - loss: 0.9209 - categorical_accuracy: 0.6522 - val_loss: 2.5920 - val_categorical_accuracy: 0.2361 - lr: 0.0025\n",
            "Epoch 12/30\n",
            "11/11 [==============================] - ETA: 0s - loss: 0.9887 - categorical_accuracy: 0.5731\n",
            "Epoch 12: saving model to model_init_2022-12-1208_29_51.548856/model-00012-0.98870-0.57312-2.47871-0.16667.h5\n",
            "11/11 [==============================] - 59s 6s/step - loss: 0.9887 - categorical_accuracy: 0.5731 - val_loss: 2.4787 - val_categorical_accuracy: 0.1667 - lr: 0.0012\n",
            "Epoch 13/30\n",
            "11/11 [==============================] - ETA: 0s - loss: 0.9954 - categorical_accuracy: 0.5375\n",
            "Epoch 13: saving model to model_init_2022-12-1208_29_51.548856/model-00013-0.99543-0.53755-2.36122-0.29167.h5\n",
            "\n",
            "Epoch 13: ReduceLROnPlateau reducing learning rate to 0.0006249999860301614.\n",
            "11/11 [==============================] - 57s 6s/step - loss: 0.9954 - categorical_accuracy: 0.5375 - val_loss: 2.3612 - val_categorical_accuracy: 0.2917 - lr: 0.0012\n",
            "Epoch 14/30\n",
            "11/11 [==============================] - ETA: 0s - loss: 0.9623 - categorical_accuracy: 0.5692\n",
            "Epoch 14: saving model to model_init_2022-12-1208_29_51.548856/model-00014-0.96230-0.56917-2.16908-0.29167.h5\n",
            "11/11 [==============================] - 56s 6s/step - loss: 0.9623 - categorical_accuracy: 0.5692 - val_loss: 2.1691 - val_categorical_accuracy: 0.2917 - lr: 6.2500e-04\n",
            "Epoch 15/30\n",
            "11/11 [==============================] - ETA: 0s - loss: 0.9070 - categorical_accuracy: 0.5850\n",
            "Epoch 15: saving model to model_init_2022-12-1208_29_51.548856/model-00015-0.90702-0.58498-1.42330-0.38889.h5\n",
            "11/11 [==============================] - 61s 6s/step - loss: 0.9070 - categorical_accuracy: 0.5850 - val_loss: 1.4233 - val_categorical_accuracy: 0.3889 - lr: 6.2500e-04\n",
            "Epoch 16/30\n",
            "11/11 [==============================] - ETA: 0s - loss: 0.8964 - categorical_accuracy: 0.6245\n",
            "Epoch 16: saving model to model_init_2022-12-1208_29_51.548856/model-00016-0.89639-0.62451-1.58185-0.40278.h5\n",
            "11/11 [==============================] - 53s 5s/step - loss: 0.8964 - categorical_accuracy: 0.6245 - val_loss: 1.5819 - val_categorical_accuracy: 0.4028 - lr: 6.2500e-04\n",
            "Epoch 17/30\n",
            "11/11 [==============================] - ETA: 0s - loss: 0.8952 - categorical_accuracy: 0.5929\n",
            "Epoch 17: saving model to model_init_2022-12-1208_29_51.548856/model-00017-0.89519-0.59289-1.18040-0.48611.h5\n",
            "11/11 [==============================] - 56s 6s/step - loss: 0.8952 - categorical_accuracy: 0.5929 - val_loss: 1.1804 - val_categorical_accuracy: 0.4861 - lr: 6.2500e-04\n",
            "Epoch 18/30\n",
            "11/11 [==============================] - ETA: 0s - loss: 0.9138 - categorical_accuracy: 0.6206\n",
            "Epoch 18: saving model to model_init_2022-12-1208_29_51.548856/model-00018-0.91378-0.62055-1.20952-0.47222.h5\n",
            "11/11 [==============================] - 59s 6s/step - loss: 0.9138 - categorical_accuracy: 0.6206 - val_loss: 1.2095 - val_categorical_accuracy: 0.4722 - lr: 6.2500e-04\n",
            "Epoch 19/30\n",
            "11/11 [==============================] - ETA: 0s - loss: 0.8619 - categorical_accuracy: 0.6126\n",
            "Epoch 19: saving model to model_init_2022-12-1208_29_51.548856/model-00019-0.86186-0.61265-1.06962-0.52778.h5\n",
            "11/11 [==============================] - 66s 7s/step - loss: 0.8619 - categorical_accuracy: 0.6126 - val_loss: 1.0696 - val_categorical_accuracy: 0.5278 - lr: 6.2500e-04\n",
            "Epoch 20/30\n",
            "11/11 [==============================] - ETA: 0s - loss: 0.8939 - categorical_accuracy: 0.5929\n",
            "Epoch 20: saving model to model_init_2022-12-1208_29_51.548856/model-00020-0.89386-0.59289-1.12553-0.61111.h5\n",
            "11/11 [==============================] - 58s 6s/step - loss: 0.8939 - categorical_accuracy: 0.5929 - val_loss: 1.1255 - val_categorical_accuracy: 0.6111 - lr: 6.2500e-04\n",
            "Epoch 21/30\n",
            "11/11 [==============================] - ETA: 0s - loss: 0.9093 - categorical_accuracy: 0.6206\n",
            "Epoch 21: saving model to model_init_2022-12-1208_29_51.548856/model-00021-0.90931-0.62055-1.03395-0.62500.h5\n",
            "11/11 [==============================] - 56s 6s/step - loss: 0.9093 - categorical_accuracy: 0.6206 - val_loss: 1.0339 - val_categorical_accuracy: 0.6250 - lr: 6.2500e-04\n",
            "Epoch 22/30\n",
            "11/11 [==============================] - ETA: 0s - loss: 0.9255 - categorical_accuracy: 0.6206\n",
            "Epoch 22: saving model to model_init_2022-12-1208_29_51.548856/model-00022-0.92550-0.62055-1.08519-0.56944.h5\n",
            "11/11 [==============================] - 54s 5s/step - loss: 0.9255 - categorical_accuracy: 0.6206 - val_loss: 1.0852 - val_categorical_accuracy: 0.5694 - lr: 6.2500e-04\n",
            "Epoch 23/30\n",
            "11/11 [==============================] - ETA: 0s - loss: 0.7618 - categorical_accuracy: 0.6601\n",
            "Epoch 23: saving model to model_init_2022-12-1208_29_51.548856/model-00023-0.76181-0.66008-0.92336-0.69444.h5\n",
            "11/11 [==============================] - 61s 6s/step - loss: 0.7618 - categorical_accuracy: 0.6601 - val_loss: 0.9234 - val_categorical_accuracy: 0.6944 - lr: 6.2500e-04\n",
            "Epoch 24/30\n",
            "11/11 [==============================] - ETA: 0s - loss: 0.8030 - categorical_accuracy: 0.6561\n",
            "Epoch 24: saving model to model_init_2022-12-1208_29_51.548856/model-00024-0.80297-0.65613-0.96713-0.68056.h5\n",
            "11/11 [==============================] - 59s 6s/step - loss: 0.8030 - categorical_accuracy: 0.6561 - val_loss: 0.9671 - val_categorical_accuracy: 0.6806 - lr: 6.2500e-04\n",
            "Epoch 25/30\n",
            "11/11 [==============================] - ETA: 0s - loss: 0.8654 - categorical_accuracy: 0.6126\n",
            "Epoch 25: saving model to model_init_2022-12-1208_29_51.548856/model-00025-0.86544-0.61265-0.75248-0.75000.h5\n",
            "11/11 [==============================] - 57s 6s/step - loss: 0.8654 - categorical_accuracy: 0.6126 - val_loss: 0.7525 - val_categorical_accuracy: 0.7500 - lr: 6.2500e-04\n",
            "Epoch 26/30\n",
            "11/11 [==============================] - ETA: 0s - loss: 0.8472 - categorical_accuracy: 0.6324\n",
            "Epoch 26: saving model to model_init_2022-12-1208_29_51.548856/model-00026-0.84715-0.63241-0.76198-0.70833.h5\n",
            "11/11 [==============================] - 57s 6s/step - loss: 0.8472 - categorical_accuracy: 0.6324 - val_loss: 0.7620 - val_categorical_accuracy: 0.7083 - lr: 6.2500e-04\n",
            "Epoch 27/30\n",
            "11/11 [==============================] - ETA: 0s - loss: 0.8329 - categorical_accuracy: 0.6324\n",
            "Epoch 27: saving model to model_init_2022-12-1208_29_51.548856/model-00027-0.83290-0.63241-0.90855-0.66667.h5\n",
            "\n",
            "Epoch 27: ReduceLROnPlateau reducing learning rate to 0.0003124999930150807.\n",
            "11/11 [==============================] - 60s 6s/step - loss: 0.8329 - categorical_accuracy: 0.6324 - val_loss: 0.9086 - val_categorical_accuracy: 0.6667 - lr: 6.2500e-04\n",
            "Epoch 28/30\n",
            "11/11 [==============================] - ETA: 0s - loss: 0.8957 - categorical_accuracy: 0.6364\n",
            "Epoch 28: saving model to model_init_2022-12-1208_29_51.548856/model-00028-0.89572-0.63636-0.92537-0.66667.h5\n",
            "11/11 [==============================] - 58s 6s/step - loss: 0.8957 - categorical_accuracy: 0.6364 - val_loss: 0.9254 - val_categorical_accuracy: 0.6667 - lr: 3.1250e-04\n",
            "Epoch 29/30\n",
            "11/11 [==============================] - ETA: 0s - loss: 0.9011 - categorical_accuracy: 0.6285\n",
            "Epoch 29: saving model to model_init_2022-12-1208_29_51.548856/model-00029-0.90106-0.62846-0.84123-0.69444.h5\n",
            "\n",
            "Epoch 29: ReduceLROnPlateau reducing learning rate to 0.00015624999650754035.\n",
            "11/11 [==============================] - 58s 6s/step - loss: 0.9011 - categorical_accuracy: 0.6285 - val_loss: 0.8412 - val_categorical_accuracy: 0.6944 - lr: 3.1250e-04\n",
            "Epoch 30/30\n",
            "11/11 [==============================] - ETA: 0s - loss: 0.8445 - categorical_accuracy: 0.6443\n",
            "Epoch 30: saving model to model_init_2022-12-1208_29_51.548856/model-00030-0.84446-0.64427-0.86612-0.63889.h5\n",
            "11/11 [==============================] - 58s 6s/step - loss: 0.8445 - categorical_accuracy: 0.6443 - val_loss: 0.8661 - val_categorical_accuracy: 0.6389 - lr: 1.5625e-04\n"
          ]
        }
      ],
      "source": [
        "history = model.fit(train_generator, steps_per_epoch = steps_per_epoch, epochs=num_epochs, verbose=1, \n",
        "                    callbacks=callbacks_list, validation_data=val_generator, \n",
        "                    validation_steps= validation_steps, class_weight=None, workers=1, initial_epoch=0)"
      ]
    },
    {
      "cell_type": "code",
      "execution_count": null,
      "metadata": {
        "colab": {
          "base_uri": "https://localhost:8080/",
          "height": 283
        },
        "id": "bD01t7cdnspK",
        "outputId": "bab08fe7-ce34-4062-9996-0130748cab94"
      },
      "outputs": [
        {
          "data": {
            "text/plain": [
              "<matplotlib.legend.Legend at 0x7fd3746c50a0>"
            ]
          },
          "execution_count": 16,
          "metadata": {},
          "output_type": "execute_result"
        },
        {
          "data": {
            "image/png": "[encoded data removed]",
            "text/plain": [
              "<Figure size 1152x288 with 2 Axes>"
            ]
          },
          "metadata": {
            "needs_background": "light"
          },
          "output_type": "display_data"
        }
      ],
      "source": [
        "fig, axes = plt.subplots(nrows=1, ncols=2, figsize=(16,4))\n",
        "axes[0].plot(history.history['categorical_accuracy'])   \n",
        "axes[0].plot(history.history['val_categorical_accuracy'])\n",
        "axes[0].legend(['categorical_accuracy','val_categorical_accuracy'])\n",
        "\n",
        "axes[1].plot(history.history['loss'])   \n",
        "axes[1].plot(history.history['val_loss'])\n",
        "axes[1].legend(['loss','val_loss'])"
      ]
    },
    {
      "cell_type": "markdown",
      "metadata": {
        "id": "OXLTvPG1nspK"
      },
      "source": [
        "### 11. Model TimeDistributed Conv2D Dence"
      ]
    },
    {
      "cell_type": "code",
      "execution_count": null,
      "metadata": {
        "id": "t-lM6XQunspK"
      },
      "outputs": [],
      "source": [
        "input_shape = 18,84,84,3\n",
        "\n",
        "model = Sequential()\n",
        "model.add(TimeDistributed(Conv2D(32, (3,3), activation='relu'), input_shape=input_shape))\n",
        "model.add(TimeDistributed(MaxPooling2D((2,2))))\n",
        "model.add(BatchNormalization())\n",
        "\n",
        "model.add(TimeDistributed(Conv2D(64, (3,3), activation='relu')))\n",
        "model.add(TimeDistributed(MaxPooling2D((2,2))))\n",
        "model.add(BatchNormalization())\n",
        "\n",
        "model.add(TimeDistributed(Conv2D(128, (3,3), activation='relu')))\n",
        "model.add(TimeDistributed(MaxPooling2D((2,2))))\n",
        "model.add(BatchNormalization())\n",
        "\n",
        "model.add(GlobalAveragePooling3D())\n",
        "model.add(Dense(256, activation='relu'))\n",
        "model.add(BatchNormalization())\n",
        "model.add(Dense(5, activation='softmax'))"
      ]
    },
    {
      "cell_type": "code",
      "execution_count": null,
      "metadata": {
        "colab": {
          "base_uri": "https://localhost:8080/"
        },
        "id": "iSP1pwa4nspK",
        "outputId": "3b5e42e6-4474-460e-96d2-db335651b26a"
      },
      "outputs": [
        {
          "name": "stdout",
          "output_type": "stream",
          "text": [
            "Model: \"sequential_2\"\n",
            "_________________________________________________________________\n",
            " Layer (type)                Output Shape              Param #   \n",
            "=================================================================\n",
            " time_distributed_6 (TimeDis  (None, 18, 82, 82, 32)   896       \n",
            " tributed)                                                       \n",
            "                                                                 \n",
            " time_distributed_7 (TimeDis  (None, 18, 41, 41, 32)   0         \n",
            " tributed)                                                       \n",
            "                                                                 \n",
            " batch_normalization_4 (Batc  (None, 18, 41, 41, 32)   128       \n",
            " hNormalization)                                                 \n",
            "                                                                 \n",
            " time_distributed_8 (TimeDis  (None, 18, 39, 39, 64)   18496     \n",
            " tributed)                                                       \n",
            "                                                                 \n",
            " time_distributed_9 (TimeDis  (None, 18, 19, 19, 64)   0         \n",
            " tributed)                                                       \n",
            "                                                                 \n",
            " batch_normalization_5 (Batc  (None, 18, 19, 19, 64)   256       \n",
            " hNormalization)                                                 \n",
            "                                                                 \n",
            " time_distributed_10 (TimeDi  (None, 18, 17, 17, 128)  73856     \n",
            " stributed)                                                      \n",
            "                                                                 \n",
            " time_distributed_11 (TimeDi  (None, 18, 8, 8, 128)    0         \n",
            " stributed)                                                      \n",
            "                                                                 \n",
            " batch_normalization_6 (Batc  (None, 18, 8, 8, 128)    512       \n",
            " hNormalization)                                                 \n",
            "                                                                 \n",
            " global_average_pooling3d (G  (None, 128)              0         \n",
            " lobalAveragePooling3D)                                          \n",
            "                                                                 \n",
            " dense_2 (Dense)             (None, 256)               33024     \n",
            "                                                                 \n",
            " batch_normalization_7 (Batc  (None, 256)              1024      \n",
            " hNormalization)                                                 \n",
            "                                                                 \n",
            " dense_3 (Dense)             (None, 5)                 1285      \n",
            "                                                                 \n",
            "=================================================================\n",
            "Total params: 129,477\n",
            "Trainable params: 128,517\n",
            "Non-trainable params: 960\n",
            "_________________________________________________________________\n",
            "None\n"
          ]
        }
      ],
      "source": [
        "optimiser = tf.keras.optimizers.Adam(lr=0.01) #write your optimizer\n",
        "model.compile(optimizer=optimiser, loss='categorical_crossentropy', metrics=['categorical_accuracy'])\n",
        "print(model.summary())"
      ]
    },
    {
      "cell_type": "code",
      "execution_count": null,
      "metadata": {
        "colab": {
          "base_uri": "https://localhost:8080/"
        },
        "id": "zGlfQQwanspK",
        "outputId": "86a4a710-dc3a-4660-c510-74b437b2a548"
      },
      "outputs": [
        {
          "name": "stdout",
          "output_type": "stream",
          "text": [
            "Epoch 1/30\n",
            "11/11 [==============================] - ETA: 0s - loss: 0.5134 - categorical_accuracy: 0.8063\n",
            "Epoch 1: saving model to model_init_2022-12-1208_29_51.548856/model-00001-0.51336-0.80632-0.93104-0.61111.h5\n",
            "11/11 [==============================] - 69s 7s/step - loss: 0.5134 - categorical_accuracy: 0.8063 - val_loss: 0.9310 - val_categorical_accuracy: 0.6111 - lr: 6.2500e-04\n",
            "Epoch 2/30\n",
            "11/11 [==============================] - ETA: 0s - loss: 0.5300 - categorical_accuracy: 0.8024\n",
            "Epoch 2: saving model to model_init_2022-12-1208_29_51.548856/model-00002-0.52996-0.80237-0.87983-0.69444.h5\n",
            "11/11 [==============================] - 54s 5s/step - loss: 0.5300 - categorical_accuracy: 0.8024 - val_loss: 0.8798 - val_categorical_accuracy: 0.6944 - lr: 6.2500e-04\n",
            "Epoch 3/30\n",
            "11/11 [==============================] - ETA: 0s - loss: 0.5352 - categorical_accuracy: 0.7549\n",
            "Epoch 3: saving model to model_init_2022-12-1208_29_51.548856/model-00003-0.53523-0.75494-0.91274-0.63889.h5\n",
            "11/11 [==============================] - 56s 6s/step - loss: 0.5352 - categorical_accuracy: 0.7549 - val_loss: 0.9127 - val_categorical_accuracy: 0.6389 - lr: 6.2500e-04\n",
            "Epoch 4/30\n",
            "11/11 [==============================] - ETA: 0s - loss: 0.5902 - categorical_accuracy: 0.7787\n",
            "Epoch 4: saving model to model_init_2022-12-1208_29_51.548856/model-00004-0.59018-0.77866-0.59620-0.69444.h5\n",
            "11/11 [==============================] - 57s 6s/step - loss: 0.5902 - categorical_accuracy: 0.7787 - val_loss: 0.5962 - val_categorical_accuracy: 0.6944 - lr: 6.2500e-04\n",
            "Epoch 5/30\n",
            "11/11 [==============================] - ETA: 0s - loss: 0.5166 - categorical_accuracy: 0.8024\n",
            "Epoch 5: saving model to model_init_2022-12-1208_29_51.548856/model-00005-0.51661-0.80237-0.65370-0.70833.h5\n",
            "11/11 [==============================] - 58s 6s/step - loss: 0.5166 - categorical_accuracy: 0.8024 - val_loss: 0.6537 - val_categorical_accuracy: 0.7083 - lr: 6.2500e-04\n",
            "Epoch 6/30\n",
            "11/11 [==============================] - ETA: 0s - loss: 0.4460 - categorical_accuracy: 0.8498\n",
            "Epoch 6: saving model to model_init_2022-12-1208_29_51.548856/model-00006-0.44603-0.84980-1.05376-0.58333.h5\n",
            "\n",
            "Epoch 6: ReduceLROnPlateau reducing learning rate to 0.0003124999930150807.\n",
            "11/11 [==============================] - 57s 6s/step - loss: 0.4460 - categorical_accuracy: 0.8498 - val_loss: 1.0538 - val_categorical_accuracy: 0.5833 - lr: 6.2500e-04\n",
            "Epoch 7/30\n",
            "11/11 [==============================] - ETA: 0s - loss: 0.4987 - categorical_accuracy: 0.8024\n",
            "Epoch 7: saving model to model_init_2022-12-1208_29_51.548856/model-00007-0.49868-0.80237-0.89142-0.59722.h5\n",
            "11/11 [==============================] - 59s 6s/step - loss: 0.4987 - categorical_accuracy: 0.8024 - val_loss: 0.8914 - val_categorical_accuracy: 0.5972 - lr: 3.1250e-04\n",
            "Epoch 8/30\n",
            "11/11 [==============================] - ETA: 0s - loss: 0.5146 - categorical_accuracy: 0.8142\n",
            "Epoch 8: saving model to model_init_2022-12-1208_29_51.548856/model-00008-0.51460-0.81423-0.74199-0.66667.h5\n",
            "\n",
            "Epoch 8: ReduceLROnPlateau reducing learning rate to 0.00015624999650754035.\n",
            "11/11 [==============================] - 59s 6s/step - loss: 0.5146 - categorical_accuracy: 0.8142 - val_loss: 0.7420 - val_categorical_accuracy: 0.6667 - lr: 3.1250e-04\n",
            "Epoch 9/30\n",
            "11/11 [==============================] - ETA: 0s - loss: 0.4908 - categorical_accuracy: 0.8103\n",
            "Epoch 9: saving model to model_init_2022-12-1208_29_51.548856/model-00009-0.49081-0.81028-0.63451-0.75000.h5\n",
            "11/11 [==============================] - 55s 6s/step - loss: 0.4908 - categorical_accuracy: 0.8103 - val_loss: 0.6345 - val_categorical_accuracy: 0.7500 - lr: 1.5625e-04\n",
            "Epoch 10/30\n",
            "11/11 [==============================] - ETA: 0s - loss: 0.5078 - categorical_accuracy: 0.8024\n",
            "Epoch 10: saving model to model_init_2022-12-1208_29_51.548856/model-00010-0.50781-0.80237-0.62340-0.70833.h5\n",
            "\n",
            "Epoch 10: ReduceLROnPlateau reducing learning rate to 7.812499825377017e-05.\n",
            "11/11 [==============================] - 56s 6s/step - loss: 0.5078 - categorical_accuracy: 0.8024 - val_loss: 0.6234 - val_categorical_accuracy: 0.7083 - lr: 1.5625e-04\n",
            "Epoch 11/30\n",
            "11/11 [==============================] - ETA: 0s - loss: 0.5214 - categorical_accuracy: 0.7905\n",
            "Epoch 11: saving model to model_init_2022-12-1208_29_51.548856/model-00011-0.52139-0.79051-0.69152-0.69444.h5\n",
            "11/11 [==============================] - 59s 6s/step - loss: 0.5214 - categorical_accuracy: 0.7905 - val_loss: 0.6915 - val_categorical_accuracy: 0.6944 - lr: 7.8125e-05\n",
            "Epoch 12/30\n",
            "11/11 [==============================] - ETA: 0s - loss: 0.4764 - categorical_accuracy: 0.8300\n",
            "Epoch 12: saving model to model_init_2022-12-1208_29_51.548856/model-00012-0.47644-0.83004-0.45388-0.79167.h5\n",
            "11/11 [==============================] - 54s 5s/step - loss: 0.4764 - categorical_accuracy: 0.8300 - val_loss: 0.4539 - val_categorical_accuracy: 0.7917 - lr: 7.8125e-05\n",
            "Epoch 13/30\n",
            "11/11 [==============================] - ETA: 0s - loss: 0.5202 - categorical_accuracy: 0.8024\n",
            "Epoch 13: saving model to model_init_2022-12-1208_29_51.548856/model-00013-0.52021-0.80237-0.64428-0.66667.h5\n",
            "11/11 [==============================] - 57s 6s/step - loss: 0.5202 - categorical_accuracy: 0.8024 - val_loss: 0.6443 - val_categorical_accuracy: 0.6667 - lr: 7.8125e-05\n",
            "Epoch 14/30\n",
            "11/11 [==============================] - ETA: 0s - loss: 0.4780 - categorical_accuracy: 0.8142\n",
            "Epoch 14: saving model to model_init_2022-12-1208_29_51.548856/model-00014-0.47800-0.81423-0.59635-0.68056.h5\n",
            "\n",
            "Epoch 14: ReduceLROnPlateau reducing learning rate to 3.9062499126885086e-05.\n",
            "11/11 [==============================] - 59s 6s/step - loss: 0.4780 - categorical_accuracy: 0.8142 - val_loss: 0.5963 - val_categorical_accuracy: 0.6806 - lr: 7.8125e-05\n",
            "Epoch 15/30\n",
            "11/11 [==============================] - ETA: 0s - loss: 0.4057 - categorical_accuracy: 0.8419\n",
            "Epoch 15: saving model to model_init_2022-12-1208_29_51.548856/model-00015-0.40567-0.84190-0.56471-0.70833.h5\n",
            "11/11 [==============================] - 62s 6s/step - loss: 0.4057 - categorical_accuracy: 0.8419 - val_loss: 0.5647 - val_categorical_accuracy: 0.7083 - lr: 3.9062e-05\n",
            "Epoch 16/30\n",
            "11/11 [==============================] - ETA: 0s - loss: 0.5189 - categorical_accuracy: 0.8182\n",
            "Epoch 16: saving model to model_init_2022-12-1208_29_51.548856/model-00016-0.51886-0.81818-0.53928-0.70833.h5\n",
            "\n",
            "Epoch 16: ReduceLROnPlateau reducing learning rate to 1.9531249563442543e-05.\n",
            "11/11 [==============================] - 56s 6s/step - loss: 0.5189 - categorical_accuracy: 0.8182 - val_loss: 0.5393 - val_categorical_accuracy: 0.7083 - lr: 3.9062e-05\n",
            "Epoch 17/30\n",
            "11/11 [==============================] - ETA: 0s - loss: 0.5369 - categorical_accuracy: 0.7984\n",
            "Epoch 17: saving model to model_init_2022-12-1208_29_51.548856/model-00017-0.53685-0.79842-0.65741-0.70833.h5\n",
            "11/11 [==============================] - 54s 5s/step - loss: 0.5369 - categorical_accuracy: 0.7984 - val_loss: 0.6574 - val_categorical_accuracy: 0.7083 - lr: 1.9531e-05\n",
            "Epoch 18/30\n",
            "11/11 [==============================] - ETA: 0s - loss: 0.4518 - categorical_accuracy: 0.8419\n",
            "Epoch 18: saving model to model_init_2022-12-1208_29_51.548856/model-00018-0.45183-0.84190-0.56947-0.76389.h5\n",
            "\n",
            "Epoch 18: ReduceLROnPlateau reducing learning rate to 1e-05.\n",
            "11/11 [==============================] - 55s 5s/step - loss: 0.4518 - categorical_accuracy: 0.8419 - val_loss: 0.5695 - val_categorical_accuracy: 0.7639 - lr: 1.9531e-05\n",
            "Epoch 19/30\n",
            "11/11 [==============================] - ETA: 0s - loss: 0.4492 - categorical_accuracy: 0.8379\n",
            "Epoch 19: saving model to model_init_2022-12-1208_29_51.548856/model-00019-0.44917-0.83794-0.58856-0.73611.h5\n",
            "11/11 [==============================] - 55s 6s/step - loss: 0.4492 - categorical_accuracy: 0.8379 - val_loss: 0.5886 - val_categorical_accuracy: 0.7361 - lr: 1.0000e-05\n",
            "Epoch 20/30\n",
            "11/11 [==============================] - ETA: 0s - loss: 0.4648 - categorical_accuracy: 0.8142\n",
            "Epoch 20: saving model to model_init_2022-12-1208_29_51.548856/model-00020-0.46479-0.81423-0.46542-0.81944.h5\n",
            "11/11 [==============================] - 60s 6s/step - loss: 0.4648 - categorical_accuracy: 0.8142 - val_loss: 0.4654 - val_categorical_accuracy: 0.8194 - lr: 1.0000e-05\n",
            "Epoch 21/30\n",
            "11/11 [==============================] - ETA: 0s - loss: 0.4314 - categorical_accuracy: 0.8458\n",
            "Epoch 21: saving model to model_init_2022-12-1208_29_51.548856/model-00021-0.43138-0.84585-0.60014-0.72222.h5\n",
            "11/11 [==============================] - 59s 6s/step - loss: 0.4314 - categorical_accuracy: 0.8458 - val_loss: 0.6001 - val_categorical_accuracy: 0.7222 - lr: 1.0000e-05\n",
            "Epoch 22/30\n",
            "11/11 [==============================] - ETA: 0s - loss: 0.4036 - categorical_accuracy: 0.8617\n",
            "Epoch 22: saving model to model_init_2022-12-1208_29_51.548856/model-00022-0.40364-0.86166-0.44240-0.77778.h5\n",
            "11/11 [==============================] - 57s 6s/step - loss: 0.4036 - categorical_accuracy: 0.8617 - val_loss: 0.4424 - val_categorical_accuracy: 0.7778 - lr: 1.0000e-05\n",
            "Epoch 23/30\n",
            "11/11 [==============================] - ETA: 0s - loss: 0.4839 - categorical_accuracy: 0.8300\n",
            "Epoch 23: saving model to model_init_2022-12-1208_29_51.548856/model-00023-0.48393-0.83004-0.54125-0.70833.h5\n",
            "11/11 [==============================] - 62s 6s/step - loss: 0.4839 - categorical_accuracy: 0.8300 - val_loss: 0.5413 - val_categorical_accuracy: 0.7083 - lr: 1.0000e-05\n",
            "Epoch 24/30\n",
            "11/11 [==============================] - ETA: 0s - loss: 0.4608 - categorical_accuracy: 0.8221\n",
            "Epoch 24: saving model to model_init_2022-12-1208_29_51.548856/model-00024-0.46078-0.82213-0.57238-0.75000.h5\n",
            "11/11 [==============================] - 57s 6s/step - loss: 0.4608 - categorical_accuracy: 0.8221 - val_loss: 0.5724 - val_categorical_accuracy: 0.7500 - lr: 1.0000e-05\n",
            "Epoch 25/30\n",
            "11/11 [==============================] - ETA: 0s - loss: 0.4218 - categorical_accuracy: 0.8577\n",
            "Epoch 25: saving model to model_init_2022-12-1208_29_51.548856/model-00025-0.42184-0.85771-0.65285-0.69444.h5\n",
            "11/11 [==============================] - 54s 5s/step - loss: 0.4218 - categorical_accuracy: 0.8577 - val_loss: 0.6529 - val_categorical_accuracy: 0.6944 - lr: 1.0000e-05\n",
            "Epoch 26/30\n",
            "11/11 [==============================] - ETA: 0s - loss: 0.5419 - categorical_accuracy: 0.8024\n",
            "Epoch 26: saving model to model_init_2022-12-1208_29_51.548856/model-00026-0.54185-0.80237-0.56936-0.79167.h5\n",
            "11/11 [==============================] - 58s 6s/step - loss: 0.5419 - categorical_accuracy: 0.8024 - val_loss: 0.5694 - val_categorical_accuracy: 0.7917 - lr: 1.0000e-05\n",
            "Epoch 27/30\n",
            "11/11 [==============================] - ETA: 0s - loss: 0.4555 - categorical_accuracy: 0.8419\n",
            "Epoch 27: saving model to model_init_2022-12-1208_29_51.548856/model-00027-0.45555-0.84190-0.59719-0.76389.h5\n",
            "11/11 [==============================] - 60s 6s/step - loss: 0.4555 - categorical_accuracy: 0.8419 - val_loss: 0.5972 - val_categorical_accuracy: 0.7639 - lr: 1.0000e-05\n",
            "Epoch 28/30\n",
            "11/11 [==============================] - ETA: 0s - loss: 0.4631 - categorical_accuracy: 0.8340\n",
            "Epoch 28: saving model to model_init_2022-12-1208_29_51.548856/model-00028-0.46311-0.83399-0.57696-0.72222.h5\n",
            "11/11 [==============================] - 56s 6s/step - loss: 0.4631 - categorical_accuracy: 0.8340 - val_loss: 0.5770 - val_categorical_accuracy: 0.7222 - lr: 1.0000e-05\n",
            "Epoch 29/30\n",
            "11/11 [==============================] - ETA: 0s - loss: 0.4136 - categorical_accuracy: 0.8340\n",
            "Epoch 29: saving model to model_init_2022-12-1208_29_51.548856/model-00029-0.41357-0.83399-0.66822-0.73611.h5\n",
            "11/11 [==============================] - 58s 6s/step - loss: 0.4136 - categorical_accuracy: 0.8340 - val_loss: 0.6682 - val_categorical_accuracy: 0.7361 - lr: 1.0000e-05\n",
            "Epoch 30/30\n",
            "11/11 [==============================] - ETA: 0s - loss: 0.4748 - categorical_accuracy: 0.8458\n",
            "Epoch 30: saving model to model_init_2022-12-1208_29_51.548856/model-00030-0.47475-0.84585-0.59316-0.72222.h5\n",
            "11/11 [==============================] - 56s 6s/step - loss: 0.4748 - categorical_accuracy: 0.8458 - val_loss: 0.5932 - val_categorical_accuracy: 0.7222 - lr: 1.0000e-05\n"
          ]
        }
      ],
      "source": [
        "history = model.fit(train_generator, steps_per_epoch = steps_per_epoch, epochs=num_epochs, verbose=1, \n",
        "                    callbacks=callbacks_list, validation_data=val_generator, \n",
        "                    validation_steps= validation_steps, class_weight=None, workers=1, initial_epoch=0)"
      ]
    },
    {
      "cell_type": "code",
      "execution_count": null,
      "metadata": {
        "colab": {
          "base_uri": "https://localhost:8080/",
          "height": 283
        },
        "id": "xMyO1eiAnspK",
        "outputId": "134ae733-5d02-4d17-db30-69c80ed8cfa8"
      },
      "outputs": [
        {
          "data": {
            "text/plain": [
              "<matplotlib.legend.Legend at 0x7fd3746c7250>"
            ]
          },
          "execution_count": 21,
          "metadata": {},
          "output_type": "execute_result"
        },
        {
          "data": {
            "image/png": "[encoded data removed]",
            "text/plain": [
              "<Figure size 1152x288 with 2 Axes>"
            ]
          },
          "metadata": {
            "needs_background": "light"
          },
          "output_type": "display_data"
        }
      ],
      "source": [
        "fig, axes = plt.subplots(nrows=1, ncols=2, figsize=(16,4))\n",
        "axes[0].plot(history.history['categorical_accuracy'])   \n",
        "axes[0].plot(history.history['val_categorical_accuracy'])\n",
        "axes[0].legend(['categorical_accuracy','val_categorical_accuracy'])\n",
        "\n",
        "axes[1].plot(history.history['loss'])   \n",
        "axes[1].plot(history.history['val_loss'])\n",
        "axes[1].legend(['loss','val_loss'])"
      ]
    },
    {
      "cell_type": "markdown",
      "metadata": {
        "id": "mXtMtCCgnspL"
      },
      "source": [
        "### 12. Model TimeStributed ConvLSTM2D"
      ]
    },
    {
      "cell_type": "code",
      "execution_count": null,
      "metadata": {
        "id": "Agen7yTrnspL"
      },
      "outputs": [],
      "source": [
        "input_shape = 18,84,84,3\n",
        "\n",
        "model = Sequential()\n",
        "model.add(TimeDistributed(Conv2D(8, (3,3), activation='relu'), input_shape=input_shape))\n",
        "model.add(BatchNormalization())\n",
        "model.add(TimeDistributed(Conv2D(16, (3,3), activation='relu')))\n",
        "model.add(BatchNormalization())\n",
        "model.add(ConvLSTM2D(8, kernel_size = 3, return_sequences=False))\n",
        "model.add(BatchNormalization())\n",
        "model.add(TimeDistributed(Dense(64, activation='relu')))\n",
        "model.add(BatchNormalization())\n",
        "model.add(GlobalAveragePooling2D())\n",
        "model.add(Dense(64, activation='relu'))\n",
        "model.add(Dense(5, activation='softmax'))"
      ]
    },
    {
      "cell_type": "code",
      "execution_count": null,
      "metadata": {
        "colab": {
          "base_uri": "https://localhost:8080/"
        },
        "id": "H-SCBzYJnspL",
        "outputId": "535b3655-350e-4d7e-c722-0b409a340327"
      },
      "outputs": [
        {
          "name": "stdout",
          "output_type": "stream",
          "text": [
            "Model: \"sequential_2\"\n",
            "_________________________________________________________________\n",
            " Layer (type)                Output Shape              Param #   \n",
            "=================================================================\n",
            " time_distributed_6 (TimeDis  (None, 18, 82, 82, 8)    224       \n",
            " tributed)                                                       \n",
            "                                                                 \n",
            " batch_normalization_8 (Batc  (None, 18, 82, 82, 8)    32        \n",
            " hNormalization)                                                 \n",
            "                                                                 \n",
            " time_distributed_7 (TimeDis  (None, 18, 80, 80, 16)   1168      \n",
            " tributed)                                                       \n",
            "                                                                 \n",
            " batch_normalization_9 (Batc  (None, 18, 80, 80, 16)   64        \n",
            " hNormalization)                                                 \n",
            "                                                                 \n",
            " conv_lstm2d_2 (ConvLSTM2D)  (None, 78, 78, 8)         6944      \n",
            "                                                                 \n",
            " batch_normalization_10 (Bat  (None, 78, 78, 8)        32        \n",
            " chNormalization)                                                \n",
            "                                                                 \n",
            " time_distributed_8 (TimeDis  (None, 78, 78, 64)       576       \n",
            " tributed)                                                       \n",
            "                                                                 \n",
            " batch_normalization_11 (Bat  (None, 78, 78, 64)       256       \n",
            " chNormalization)                                                \n",
            "                                                                 \n",
            " global_average_pooling2d_2   (None, 64)               0         \n",
            " (GlobalAveragePooling2D)                                        \n",
            "                                                                 \n",
            " dense_7 (Dense)             (None, 64)                4160      \n",
            "                                                                 \n",
            " dense_8 (Dense)             (None, 5)                 325       \n",
            "                                                                 \n",
            "=================================================================\n",
            "Total params: 13,781\n",
            "Trainable params: 13,589\n",
            "Non-trainable params: 192\n",
            "_________________________________________________________________\n",
            "None\n"
          ]
        }
      ],
      "source": [
        "optimiser = tf.keras.optimizers.Adam(lr=0.01) #write your optimizer\n",
        "model.compile(optimizer=optimiser, loss='categorical_crossentropy', metrics=['categorical_accuracy'])\n",
        "print(model.summary())"
      ]
    },
    {
      "cell_type": "code",
      "execution_count": null,
      "metadata": {
        "colab": {
          "base_uri": "https://localhost:8080/"
        },
        "id": "Te_Bd0KvnspL",
        "outputId": "5fec4fea-0262-4a68-8108-10fe5f60f156"
      },
      "outputs": [
        {
          "name": "stdout",
          "output_type": "stream",
          "text": [
            "Source path =  datasets/Project_data/train ; batch size = 64\n",
            "Epoch 1/50\n"
          ]
        },
        {
          "name": "stderr",
          "output_type": "stream",
          "text": [
            "2022-12-12 13:01:49.693013: I tensorflow/stream_executor/cuda/cuda_dnn.cc:377] Loaded cuDNN version 8302\n"
          ]
        },
        {
          "name": "stdout",
          "output_type": "stream",
          "text": [
            "11/11 [==============================] - ETA: 0s - loss: 1.4299 - categorical_accuracy: 0.3597Source path =  datasets/Project_data/val ; batch size = 64\n",
            "\n",
            "Epoch 00001: saving model to model_init_2022-12-1213_01_04.189524/model-00001-1.42990-0.35968-2.74221-0.18056.h5\n",
            "11/11 [==============================] - 47s 4s/step - loss: 1.4299 - categorical_accuracy: 0.3597 - val_loss: 2.7422 - val_categorical_accuracy: 0.1806 - lr: 0.0100\n",
            "Epoch 2/50\n",
            "11/11 [==============================] - ETA: 0s - loss: 1.3178 - categorical_accuracy: 0.4150\n",
            "Epoch 00002: saving model to model_init_2022-12-1213_01_04.189524/model-00002-1.31776-0.41502-3.19165-0.22222.h5\n",
            "11/11 [==============================] - 42s 4s/step - loss: 1.3178 - categorical_accuracy: 0.4150 - val_loss: 3.1917 - val_categorical_accuracy: 0.2222 - lr: 0.0100\n",
            "Epoch 3/50\n",
            "11/11 [==============================] - ETA: 0s - loss: 1.3033 - categorical_accuracy: 0.4032\n",
            "Epoch 00003: saving model to model_init_2022-12-1213_01_04.189524/model-00003-1.30330-0.40316-2.25695-0.16667.h5\n",
            "11/11 [==============================] - 45s 4s/step - loss: 1.3033 - categorical_accuracy: 0.4032 - val_loss: 2.2569 - val_categorical_accuracy: 0.1667 - lr: 0.0100\n",
            "Epoch 4/50\n",
            "11/11 [==============================] - ETA: 0s - loss: 1.1651 - categorical_accuracy: 0.5455\n",
            "Epoch 00004: saving model to model_init_2022-12-1213_01_04.189524/model-00004-1.16513-0.54545-2.46993-0.19444.h5\n",
            "11/11 [==============================] - 42s 4s/step - loss: 1.1651 - categorical_accuracy: 0.5455 - val_loss: 2.4699 - val_categorical_accuracy: 0.1944 - lr: 0.0100\n",
            "Epoch 5/50\n",
            "11/11 [==============================] - ETA: 0s - loss: 0.9973 - categorical_accuracy: 0.5573\n",
            "Epoch 00005: saving model to model_init_2022-12-1213_01_04.189524/model-00005-0.99727-0.55731-1.73154-0.23611.h5\n",
            "11/11 [==============================] - 45s 4s/step - loss: 0.9973 - categorical_accuracy: 0.5573 - val_loss: 1.7315 - val_categorical_accuracy: 0.2361 - lr: 0.0100\n",
            "Epoch 6/50\n",
            "11/11 [==============================] - ETA: 0s - loss: 0.8997 - categorical_accuracy: 0.6285\n",
            "Epoch 00006: saving model to model_init_2022-12-1213_01_04.189524/model-00006-0.89974-0.62846-2.23852-0.20833.h5\n",
            "11/11 [==============================] - 46s 5s/step - loss: 0.8997 - categorical_accuracy: 0.6285 - val_loss: 2.2385 - val_categorical_accuracy: 0.2083 - lr: 0.0100\n",
            "Epoch 7/50\n",
            "11/11 [==============================] - ETA: 0s - loss: 0.8505 - categorical_accuracy: 0.6245\n",
            "Epoch 00007: saving model to model_init_2022-12-1213_01_04.189524/model-00007-0.85048-0.62451-1.56434-0.48611.h5\n",
            "11/11 [==============================] - 44s 4s/step - loss: 0.8505 - categorical_accuracy: 0.6245 - val_loss: 1.5643 - val_categorical_accuracy: 0.4861 - lr: 0.0100\n",
            "Epoch 8/50\n",
            "11/11 [==============================] - ETA: 0s - loss: 0.9018 - categorical_accuracy: 0.6285\n",
            "Epoch 00008: saving model to model_init_2022-12-1213_01_04.189524/model-00008-0.90176-0.62846-1.47337-0.50000.h5\n",
            "11/11 [==============================] - 44s 4s/step - loss: 0.9018 - categorical_accuracy: 0.6285 - val_loss: 1.4734 - val_categorical_accuracy: 0.5000 - lr: 0.0100\n",
            "Epoch 9/50\n",
            "11/11 [==============================] - ETA: 0s - loss: 0.8741 - categorical_accuracy: 0.6324\n",
            "Epoch 00009: saving model to model_init_2022-12-1213_01_04.189524/model-00009-0.87412-0.63241-1.73694-0.27778.h5\n",
            "11/11 [==============================] - 43s 4s/step - loss: 0.8741 - categorical_accuracy: 0.6324 - val_loss: 1.7369 - val_categorical_accuracy: 0.2778 - lr: 0.0100\n",
            "Epoch 10/50\n",
            "11/11 [==============================] - ETA: 0s - loss: 0.9096 - categorical_accuracy: 0.6324\n",
            "Epoch 00010: saving model to model_init_2022-12-1213_01_04.189524/model-00010-0.90965-0.63241-1.28242-0.43056.h5\n",
            "11/11 [==============================] - 41s 4s/step - loss: 0.9096 - categorical_accuracy: 0.6324 - val_loss: 1.2824 - val_categorical_accuracy: 0.4306 - lr: 0.0100\n",
            "Epoch 11/50\n",
            "11/11 [==============================] - ETA: 0s - loss: 0.8350 - categorical_accuracy: 0.6443\n",
            "Epoch 00011: saving model to model_init_2022-12-1213_01_04.189524/model-00011-0.83505-0.64427-1.34266-0.45833.h5\n",
            "11/11 [==============================] - 44s 4s/step - loss: 0.8350 - categorical_accuracy: 0.6443 - val_loss: 1.3427 - val_categorical_accuracy: 0.4583 - lr: 0.0100\n",
            "Epoch 12/50\n",
            "11/11 [==============================] - ETA: 0s - loss: 0.8192 - categorical_accuracy: 0.6443\n",
            "Epoch 00012: saving model to model_init_2022-12-1213_01_04.189524/model-00012-0.81916-0.64427-1.05080-0.45833.h5\n",
            "11/11 [==============================] - 42s 4s/step - loss: 0.8192 - categorical_accuracy: 0.6443 - val_loss: 1.0508 - val_categorical_accuracy: 0.4583 - lr: 0.0100\n",
            "Epoch 13/50\n",
            "11/11 [==============================] - ETA: 0s - loss: 0.8194 - categorical_accuracy: 0.6522\n",
            "Epoch 00013: saving model to model_init_2022-12-1213_01_04.189524/model-00013-0.81937-0.65217-1.83469-0.40278.h5\n",
            "11/11 [==============================] - 44s 4s/step - loss: 0.8194 - categorical_accuracy: 0.6522 - val_loss: 1.8347 - val_categorical_accuracy: 0.4028 - lr: 0.0100\n",
            "Epoch 14/50\n",
            "11/11 [==============================] - ETA: 0s - loss: 0.7448 - categorical_accuracy: 0.6838\n",
            "Epoch 00014: saving model to model_init_2022-12-1213_01_04.189524/model-00014-0.74484-0.68379-2.06044-0.36111.h5\n",
            "\n",
            "Epoch 00014: ReduceLROnPlateau reducing learning rate to 0.004999999888241291.\n",
            "11/11 [==============================] - 44s 4s/step - loss: 0.7448 - categorical_accuracy: 0.6838 - val_loss: 2.0604 - val_categorical_accuracy: 0.3611 - lr: 0.0100\n",
            "Epoch 15/50\n",
            "11/11 [==============================] - ETA: 0s - loss: 0.7745 - categorical_accuracy: 0.6838\n",
            "Epoch 00015: saving model to model_init_2022-12-1213_01_04.189524/model-00015-0.77447-0.68379-1.34020-0.45833.h5\n",
            "11/11 [==============================] - 43s 4s/step - loss: 0.7745 - categorical_accuracy: 0.6838 - val_loss: 1.3402 - val_categorical_accuracy: 0.4583 - lr: 0.0050\n",
            "Epoch 16/50\n",
            "11/11 [==============================] - ETA: 0s - loss: 0.6555 - categorical_accuracy: 0.7233\n",
            "Epoch 00016: saving model to model_init_2022-12-1213_01_04.189524/model-00016-0.65547-0.72332-1.00819-0.52778.h5\n",
            "11/11 [==============================] - 46s 5s/step - loss: 0.6555 - categorical_accuracy: 0.7233 - val_loss: 1.0082 - val_categorical_accuracy: 0.5278 - lr: 0.0050\n",
            "Epoch 17/50\n",
            "11/11 [==============================] - ETA: 0s - loss: 0.5542 - categorical_accuracy: 0.7747\n",
            "Epoch 00017: saving model to model_init_2022-12-1213_01_04.189524/model-00017-0.55418-0.77470-1.69029-0.44444.h5\n",
            "11/11 [==============================] - 45s 5s/step - loss: 0.5542 - categorical_accuracy: 0.7747 - val_loss: 1.6903 - val_categorical_accuracy: 0.4444 - lr: 0.0050\n",
            "Epoch 18/50\n",
            "11/11 [==============================] - ETA: 0s - loss: 0.6601 - categorical_accuracy: 0.7470\n",
            "Epoch 00018: saving model to model_init_2022-12-1213_01_04.189524/model-00018-0.66006-0.74704-1.17880-0.55556.h5\n",
            "\n",
            "Epoch 00018: ReduceLROnPlateau reducing learning rate to 0.0024999999441206455.\n",
            "11/11 [==============================] - 43s 4s/step - loss: 0.6601 - categorical_accuracy: 0.7470 - val_loss: 1.1788 - val_categorical_accuracy: 0.5556 - lr: 0.0050\n",
            "Epoch 19/50\n",
            "11/11 [==============================] - ETA: 0s - loss: 0.6860 - categorical_accuracy: 0.7036\n",
            "Epoch 00019: saving model to model_init_2022-12-1213_01_04.189524/model-00019-0.68603-0.70356-1.17698-0.54167.h5\n",
            "11/11 [==============================] - 43s 4s/step - loss: 0.6860 - categorical_accuracy: 0.7036 - val_loss: 1.1770 - val_categorical_accuracy: 0.5417 - lr: 0.0025\n",
            "Epoch 20/50\n",
            "11/11 [==============================] - ETA: 0s - loss: 0.5931 - categorical_accuracy: 0.7589\n",
            "Epoch 00020: saving model to model_init_2022-12-1213_01_04.189524/model-00020-0.59310-0.75889-0.92164-0.56944.h5\n",
            "11/11 [==============================] - 42s 4s/step - loss: 0.5931 - categorical_accuracy: 0.7589 - val_loss: 0.9216 - val_categorical_accuracy: 0.5694 - lr: 0.0025\n",
            "Epoch 21/50\n",
            "11/11 [==============================] - ETA: 0s - loss: 0.5373 - categorical_accuracy: 0.7787\n",
            "Epoch 00021: saving model to model_init_2022-12-1213_01_04.189524/model-00021-0.53727-0.77866-0.82423-0.63889.h5\n",
            "11/11 [==============================] - 42s 4s/step - loss: 0.5373 - categorical_accuracy: 0.7787 - val_loss: 0.8242 - val_categorical_accuracy: 0.6389 - lr: 0.0025\n",
            "Epoch 22/50\n",
            "11/11 [==============================] - ETA: 0s - loss: 0.4921 - categorical_accuracy: 0.8142\n",
            "Epoch 00022: saving model to model_init_2022-12-1213_01_04.189524/model-00022-0.49210-0.81423-0.66259-0.76389.h5\n",
            "11/11 [==============================] - 45s 5s/step - loss: 0.4921 - categorical_accuracy: 0.8142 - val_loss: 0.6626 - val_categorical_accuracy: 0.7639 - lr: 0.0025\n",
            "Epoch 23/50\n",
            "11/11 [==============================] - ETA: 0s - loss: 0.5563 - categorical_accuracy: 0.7668\n",
            "Epoch 00023: saving model to model_init_2022-12-1213_01_04.189524/model-00023-0.55631-0.76680-0.77251-0.70833.h5\n",
            "11/11 [==============================] - 44s 4s/step - loss: 0.5563 - categorical_accuracy: 0.7668 - val_loss: 0.7725 - val_categorical_accuracy: 0.7083 - lr: 0.0025\n",
            "Epoch 24/50\n",
            "11/11 [==============================] - ETA: 0s - loss: 0.5925 - categorical_accuracy: 0.7470\n",
            "Epoch 00024: saving model to model_init_2022-12-1213_01_04.189524/model-00024-0.59249-0.74704-0.80461-0.66667.h5\n",
            "\n",
            "Epoch 00024: ReduceLROnPlateau reducing learning rate to 0.0012499999720603228.\n",
            "11/11 [==============================] - 45s 4s/step - loss: 0.5925 - categorical_accuracy: 0.7470 - val_loss: 0.8046 - val_categorical_accuracy: 0.6667 - lr: 0.0025\n",
            "Epoch 25/50\n",
            "11/11 [==============================] - ETA: 0s - loss: 0.5041 - categorical_accuracy: 0.7905\n",
            "Epoch 00025: saving model to model_init_2022-12-1213_01_04.189524/model-00025-0.50408-0.79051-0.86012-0.62500.h5\n",
            "11/11 [==============================] - 45s 4s/step - loss: 0.5041 - categorical_accuracy: 0.7905 - val_loss: 0.8601 - val_categorical_accuracy: 0.6250 - lr: 0.0012\n",
            "Epoch 26/50\n",
            "11/11 [==============================] - ETA: 0s - loss: 0.4944 - categorical_accuracy: 0.8103\n",
            "Epoch 00026: saving model to model_init_2022-12-1213_01_04.189524/model-00026-0.49442-0.81028-0.89230-0.61111.h5\n",
            "\n",
            "Epoch 00026: ReduceLROnPlateau reducing learning rate to 0.0006249999860301614.\n",
            "11/11 [==============================] - 43s 4s/step - loss: 0.4944 - categorical_accuracy: 0.8103 - val_loss: 0.8923 - val_categorical_accuracy: 0.6111 - lr: 0.0012\n",
            "Epoch 27/50\n",
            "11/11 [==============================] - ETA: 0s - loss: 0.5255 - categorical_accuracy: 0.7866\n",
            "Epoch 00027: saving model to model_init_2022-12-1213_01_04.189524/model-00027-0.52553-0.78656-0.64863-0.73611.h5\n",
            "11/11 [==============================] - 43s 4s/step - loss: 0.5255 - categorical_accuracy: 0.7866 - val_loss: 0.6486 - val_categorical_accuracy: 0.7361 - lr: 6.2500e-04\n",
            "Epoch 28/50\n",
            "11/11 [==============================] - ETA: 0s - loss: 0.5261 - categorical_accuracy: 0.7905\n",
            "Epoch 00028: saving model to model_init_2022-12-1213_01_04.189524/model-00028-0.52610-0.79051-0.59273-0.76389.h5\n",
            "11/11 [==============================] - 41s 4s/step - loss: 0.5261 - categorical_accuracy: 0.7905 - val_loss: 0.5927 - val_categorical_accuracy: 0.7639 - lr: 6.2500e-04\n",
            "Epoch 29/50\n",
            "11/11 [==============================] - ETA: 0s - loss: 0.4645 - categorical_accuracy: 0.8142\n",
            "Epoch 00029: saving model to model_init_2022-12-1213_01_04.189524/model-00029-0.46455-0.81423-0.60837-0.75000.h5\n",
            "11/11 [==============================] - 45s 4s/step - loss: 0.4645 - categorical_accuracy: 0.8142 - val_loss: 0.6084 - val_categorical_accuracy: 0.7500 - lr: 6.2500e-04\n",
            "Epoch 30/50\n",
            "11/11 [==============================] - ETA: 0s - loss: 0.4662 - categorical_accuracy: 0.8142\n",
            "Epoch 00030: saving model to model_init_2022-12-1213_01_04.189524/model-00030-0.46624-0.81423-0.71734-0.76389.h5\n",
            "\n",
            "Epoch 00030: ReduceLROnPlateau reducing learning rate to 0.0003124999930150807.\n",
            "11/11 [==============================] - 44s 4s/step - loss: 0.4662 - categorical_accuracy: 0.8142 - val_loss: 0.7173 - val_categorical_accuracy: 0.7639 - lr: 6.2500e-04\n",
            "Epoch 31/50\n",
            "11/11 [==============================] - ETA: 0s - loss: 0.4353 - categorical_accuracy: 0.8379\n",
            "Epoch 00031: saving model to model_init_2022-12-1213_01_04.189524/model-00031-0.43534-0.83794-0.66023-0.73611.h5\n",
            "11/11 [==============================] - 41s 4s/step - loss: 0.4353 - categorical_accuracy: 0.8379 - val_loss: 0.6602 - val_categorical_accuracy: 0.7361 - lr: 3.1250e-04\n",
            "Epoch 32/50\n",
            "11/11 [==============================] - ETA: 0s - loss: 0.4383 - categorical_accuracy: 0.8261\n",
            "Epoch 00032: saving model to model_init_2022-12-1213_01_04.189524/model-00032-0.43831-0.82609-0.62873-0.77778.h5\n",
            "\n",
            "Epoch 00032: ReduceLROnPlateau reducing learning rate to 0.00015624999650754035.\n",
            "11/11 [==============================] - 42s 4s/step - loss: 0.4383 - categorical_accuracy: 0.8261 - val_loss: 0.6287 - val_categorical_accuracy: 0.7778 - lr: 3.1250e-04\n",
            "Epoch 33/50\n",
            "11/11 [==============================] - ETA: 0s - loss: 0.4819 - categorical_accuracy: 0.8142\n",
            "Epoch 00033: saving model to model_init_2022-12-1213_01_04.189524/model-00033-0.48192-0.81423-0.57941-0.76389.h5\n",
            "11/11 [==============================] - 45s 4s/step - loss: 0.4819 - categorical_accuracy: 0.8142 - val_loss: 0.5794 - val_categorical_accuracy: 0.7639 - lr: 1.5625e-04\n",
            "Epoch 34/50\n",
            "11/11 [==============================] - ETA: 0s - loss: 0.5296 - categorical_accuracy: 0.7589\n",
            "Epoch 00034: saving model to model_init_2022-12-1213_01_04.189524/model-00034-0.52957-0.75889-0.59130-0.79167.h5\n",
            "11/11 [==============================] - 43s 4s/step - loss: 0.5296 - categorical_accuracy: 0.7589 - val_loss: 0.5913 - val_categorical_accuracy: 0.7917 - lr: 1.5625e-04\n",
            "Epoch 35/50\n",
            "11/11 [==============================] - ETA: 0s - loss: 0.4922 - categorical_accuracy: 0.8103\n",
            "Epoch 00035: saving model to model_init_2022-12-1213_01_04.189524/model-00035-0.49222-0.81028-0.56234-0.80556.h5\n",
            "11/11 [==============================] - 43s 4s/step - loss: 0.4922 - categorical_accuracy: 0.8103 - val_loss: 0.5623 - val_categorical_accuracy: 0.8056 - lr: 1.5625e-04\n",
            "Epoch 36/50\n",
            "11/11 [==============================] - ETA: 0s - loss: 0.4504 - categorical_accuracy: 0.7945\n",
            "Epoch 00036: saving model to model_init_2022-12-1213_01_04.189524/model-00036-0.45040-0.79447-0.47998-0.86111.h5\n",
            "11/11 [==============================] - 46s 5s/step - loss: 0.4504 - categorical_accuracy: 0.7945 - val_loss: 0.4800 - val_categorical_accuracy: 0.8611 - lr: 1.5625e-04\n",
            "Epoch 37/50\n",
            "11/11 [==============================] - ETA: 0s - loss: 0.5048 - categorical_accuracy: 0.8024\n",
            "Epoch 00037: saving model to model_init_2022-12-1213_01_04.189524/model-00037-0.50484-0.80237-0.58544-0.75000.h5\n",
            "11/11 [==============================] - 39s 4s/step - loss: 0.5048 - categorical_accuracy: 0.8024 - val_loss: 0.5854 - val_categorical_accuracy: 0.7500 - lr: 1.5625e-04\n",
            "Epoch 38/50\n",
            "11/11 [==============================] - ETA: 0s - loss: 0.5905 - categorical_accuracy: 0.7628\n",
            "Epoch 00038: saving model to model_init_2022-12-1213_01_04.189524/model-00038-0.59050-0.76285-0.55262-0.79167.h5\n",
            "\n",
            "Epoch 00038: ReduceLROnPlateau reducing learning rate to 7.812499825377017e-05.\n",
            "11/11 [==============================] - 43s 4s/step - loss: 0.5905 - categorical_accuracy: 0.7628 - val_loss: 0.5526 - val_categorical_accuracy: 0.7917 - lr: 1.5625e-04\n",
            "Epoch 39/50\n",
            "11/11 [==============================] - ETA: 0s - loss: 0.4951 - categorical_accuracy: 0.8063\n",
            "Epoch 00039: saving model to model_init_2022-12-1213_01_04.189524/model-00039-0.49508-0.80632-0.52772-0.76389.h5\n",
            "11/11 [==============================] - 43s 4s/step - loss: 0.4951 - categorical_accuracy: 0.8063 - val_loss: 0.5277 - val_categorical_accuracy: 0.7639 - lr: 7.8125e-05\n",
            "Epoch 40/50\n",
            "11/11 [==============================] - ETA: 0s - loss: 0.4466 - categorical_accuracy: 0.8300\n",
            "Epoch 00040: saving model to model_init_2022-12-1213_01_04.189524/model-00040-0.44663-0.83004-0.56295-0.76389.h5\n",
            "\n",
            "Epoch 00040: ReduceLROnPlateau reducing learning rate to 3.9062499126885086e-05.\n",
            "11/11 [==============================] - 46s 5s/step - loss: 0.4466 - categorical_accuracy: 0.8300 - val_loss: 0.5630 - val_categorical_accuracy: 0.7639 - lr: 7.8125e-05\n",
            "Epoch 41/50\n",
            "11/11 [==============================] - ETA: 0s - loss: 0.4192 - categorical_accuracy: 0.8538\n",
            "Epoch 00041: saving model to model_init_2022-12-1213_01_04.189524/model-00041-0.41916-0.85375-0.45119-0.77778.h5\n",
            "11/11 [==============================] - 45s 4s/step - loss: 0.4192 - categorical_accuracy: 0.8538 - val_loss: 0.4512 - val_categorical_accuracy: 0.7778 - lr: 3.9062e-05\n",
            "Epoch 42/50\n",
            "11/11 [==============================] - ETA: 0s - loss: 0.5348 - categorical_accuracy: 0.7905\n",
            "Epoch 00042: saving model to model_init_2022-12-1213_01_04.189524/model-00042-0.53478-0.79051-0.66102-0.73611.h5\n",
            "11/11 [==============================] - 44s 4s/step - loss: 0.5348 - categorical_accuracy: 0.7905 - val_loss: 0.6610 - val_categorical_accuracy: 0.7361 - lr: 3.9062e-05\n",
            "Epoch 43/50\n",
            "11/11 [==============================] - ETA: 0s - loss: 0.5285 - categorical_accuracy: 0.7628\n",
            "Epoch 00043: saving model to model_init_2022-12-1213_01_04.189524/model-00043-0.52854-0.76285-0.55962-0.80556.h5\n",
            "\n",
            "Epoch 00043: ReduceLROnPlateau reducing learning rate to 1.9531249563442543e-05.\n",
            "11/11 [==============================] - 45s 4s/step - loss: 0.5285 - categorical_accuracy: 0.7628 - val_loss: 0.5596 - val_categorical_accuracy: 0.8056 - lr: 3.9062e-05\n",
            "Epoch 44/50\n",
            "11/11 [==============================] - ETA: 0s - loss: 0.4595 - categorical_accuracy: 0.8300\n",
            "Epoch 00044: saving model to model_init_2022-12-1213_01_04.189524/model-00044-0.45954-0.83004-0.57758-0.77778.h5\n",
            "11/11 [==============================] - 46s 5s/step - loss: 0.4595 - categorical_accuracy: 0.8300 - val_loss: 0.5776 - val_categorical_accuracy: 0.7778 - lr: 1.9531e-05\n",
            "Epoch 45/50\n",
            "11/11 [==============================] - ETA: 0s - loss: 0.4561 - categorical_accuracy: 0.8261\n",
            "Epoch 00045: saving model to model_init_2022-12-1213_01_04.189524/model-00045-0.45615-0.82609-0.50432-0.79167.h5\n",
            "\n",
            "Epoch 00045: ReduceLROnPlateau reducing learning rate to 1e-05.\n",
            "11/11 [==============================] - 44s 4s/step - loss: 0.4561 - categorical_accuracy: 0.8261 - val_loss: 0.5043 - val_categorical_accuracy: 0.7917 - lr: 1.9531e-05\n",
            "Epoch 46/50\n",
            "11/11 [==============================] - ETA: 0s - loss: 0.4591 - categorical_accuracy: 0.8221\n",
            "Epoch 00046: saving model to model_init_2022-12-1213_01_04.189524/model-00046-0.45914-0.82213-0.41292-0.83333.h5\n",
            "11/11 [==============================] - 44s 4s/step - loss: 0.4591 - categorical_accuracy: 0.8221 - val_loss: 0.4129 - val_categorical_accuracy: 0.8333 - lr: 1.0000e-05\n",
            "Epoch 47/50\n",
            "11/11 [==============================] - ETA: 0s - loss: 0.4285 - categorical_accuracy: 0.8617\n",
            "Epoch 00047: saving model to model_init_2022-12-1213_01_04.189524/model-00047-0.42854-0.86166-0.41565-0.86111.h5\n",
            "11/11 [==============================] - 43s 4s/step - loss: 0.4285 - categorical_accuracy: 0.8617 - val_loss: 0.4156 - val_categorical_accuracy: 0.8611 - lr: 1.0000e-05\n",
            "Epoch 48/50\n",
            "11/11 [==============================] - ETA: 0s - loss: 0.4297 - categorical_accuracy: 0.8379\n",
            "Epoch 00048: saving model to model_init_2022-12-1213_01_04.189524/model-00048-0.42971-0.83794-0.47669-0.81944.h5\n",
            "11/11 [==============================] - 44s 4s/step - loss: 0.4297 - categorical_accuracy: 0.8379 - val_loss: 0.4767 - val_categorical_accuracy: 0.8194 - lr: 1.0000e-05\n",
            "Epoch 49/50\n",
            "11/11 [==============================] - ETA: 0s - loss: 0.4736 - categorical_accuracy: 0.8142\n",
            "Epoch 00049: saving model to model_init_2022-12-1213_01_04.189524/model-00049-0.47360-0.81423-0.61146-0.80556.h5\n",
            "11/11 [==============================] - 41s 4s/step - loss: 0.4736 - categorical_accuracy: 0.8142 - val_loss: 0.6115 - val_categorical_accuracy: 0.8056 - lr: 1.0000e-05\n",
            "Epoch 50/50\n",
            "11/11 [==============================] - ETA: 0s - loss: 0.5032 - categorical_accuracy: 0.7866\n",
            "Epoch 00050: saving model to model_init_2022-12-1213_01_04.189524/model-00050-0.50321-0.78656-0.42164-0.84722.h5\n",
            "11/11 [==============================] - 41s 4s/step - loss: 0.5032 - categorical_accuracy: 0.7866 - val_loss: 0.4216 - val_categorical_accuracy: 0.8472 - lr: 1.0000e-05\n"
          ]
        }
      ],
      "source": [
        "history = model.fit(train_generator, steps_per_epoch = steps_per_epoch, epochs=num_epochs, verbose=1, \n",
        "                    callbacks=callbacks_list, validation_data=val_generator, \n",
        "                    validation_steps= validation_steps, class_weight=None, workers=1, initial_epoch=0)"
      ]
    },
    {
      "cell_type": "code",
      "execution_count": null,
      "metadata": {
        "colab": {
          "base_uri": "https://localhost:8080/",
          "height": 240
        },
        "id": "pwh34tvnnspL",
        "outputId": "5fd25b45-535c-4fee-e839-865b330cf6e4"
      },
      "outputs": [
        {
          "data": {
            "text/plain": [
              "<matplotlib.legend.Legend at 0x7fe0e4166b80>"
            ]
          },
          "execution_count": 38,
          "metadata": {},
          "output_type": "execute_result"
        },
        {
          "data": {
            "image/png": "[encoded data removed]",
            "text/plain": [
              "<Figure size 1152x288 with 2 Axes>"
            ]
          },
          "metadata": {
            "needs_background": "light"
          },
          "output_type": "display_data"
        }
      ],
      "source": [
        "fig, axes = plt.subplots(nrows=1, ncols=2, figsize=(16,4))\n",
        "axes[0].plot(history.history['categorical_accuracy'])   \n",
        "axes[0].plot(history.history['val_categorical_accuracy'])\n",
        "axes[0].legend(['categorical_accuracy','val_categorical_accuracy'])\n",
        "\n",
        "axes[1].plot(history.history['loss'])   \n",
        "axes[1].plot(history.history['val_loss'])\n",
        "axes[1].legend(['loss','val_loss'])"
      ]
    },
    {
      "cell_type": "markdown",
      "metadata": {
        "id": "v8wwJhOInspL"
      },
      "source": [
        "### 13. Model Conv3D"
      ]
    },
    {
      "cell_type": "code",
      "execution_count": 13,
      "metadata": {
        "id": "J8Nt_htCnspL"
      },
      "outputs": [],
      "source": [
        "# First Model But With More epochs which is 50 and Activation Function Elu\n",
        "Input_shape = (18, 84, 84, 3)\n",
        "\n",
        "model = Sequential()\n",
        "model.add(Conv3D(64, (3,3,3), padding='same', input_shape=(18,84,84,3)))\n",
        "model.add(BatchNormalization())\n",
        "model.add(Activation('elu'))\n",
        "model.add(MaxPooling3D(pool_size=(2,2,1), strides=(2,2,1)))\n",
        "\n",
        "model.add(Conv3D(128, (3,3,3), padding='same'))\n",
        "model.add(BatchNormalization())\n",
        "model.add(Activation('elu'))\n",
        "model.add(MaxPooling3D(pool_size=(2,2,2), strides=(2,2,2)))\n",
        "\n",
        "model.add(Conv3D(256, (3,3,3), padding='same'))\n",
        "model.add(BatchNormalization())\n",
        "model.add(Activation('elu'))\n",
        "model.add(MaxPooling3D(pool_size=(2,2,2), strides=(2,2,2)))\n",
        "\n",
        "model.add(Conv3D(256, (3,3,3), padding='same'))\n",
        "model.add(BatchNormalization())\n",
        "model.add(Activation('elu'))\n",
        "model.add(MaxPooling3D(pool_size=(2,2,2), strides=(2,2,2)))\n",
        "\n",
        "model.add(Flatten())\n",
        "model.add(Dropout(0.5))\n",
        "model.add(Dense(512, activation='elu'))\n",
        "model.add(Dropout(0.5))\n",
        "model.add(Dense(5, activation='softmax'))"
      ]
    },
    {
      "cell_type": "code",
      "execution_count": 14,
      "metadata": {
        "id": "Nw0eZ7XFnspL",
        "colab": {
          "base_uri": "https://localhost:8080/"
        },
        "outputId": "33c9b19a-a9a5-411d-e33f-7709a9b9e39e"
      },
      "outputs": [
        {
          "output_type": "stream",
          "name": "stdout",
          "text": [
            "Model: \"sequential\"\n",
            "_________________________________________________________________\n",
            " Layer (type)                Output Shape              Param #   \n",
            "=================================================================\n",
            " conv3d (Conv3D)             (None, 18, 84, 84, 64)    5248      \n",
            "                                                                 \n",
            " batch_normalization (BatchN  (None, 18, 84, 84, 64)   256       \n",
            " ormalization)                                                   \n",
            "                                                                 \n",
            " activation (Activation)     (None, 18, 84, 84, 64)    0         \n",
            "                                                                 \n",
            " max_pooling3d (MaxPooling3D  (None, 9, 42, 84, 64)    0         \n",
            " )                                                               \n",
            "                                                                 \n",
            " conv3d_1 (Conv3D)           (None, 9, 42, 84, 128)    221312    \n",
            "                                                                 \n",
            " batch_normalization_1 (Batc  (None, 9, 42, 84, 128)   512       \n",
            " hNormalization)                                                 \n",
            "                                                                 \n",
            " activation_1 (Activation)   (None, 9, 42, 84, 128)    0         \n",
            "                                                                 \n",
            " max_pooling3d_1 (MaxPooling  (None, 4, 21, 42, 128)   0         \n",
            " 3D)                                                             \n",
            "                                                                 \n",
            " conv3d_2 (Conv3D)           (None, 4, 21, 42, 256)    884992    \n",
            "                                                                 \n",
            " batch_normalization_2 (Batc  (None, 4, 21, 42, 256)   1024      \n",
            " hNormalization)                                                 \n",
            "                                                                 \n",
            " activation_2 (Activation)   (None, 4, 21, 42, 256)    0         \n",
            "                                                                 \n",
            " max_pooling3d_2 (MaxPooling  (None, 2, 10, 21, 256)   0         \n",
            " 3D)                                                             \n",
            "                                                                 \n",
            " conv3d_3 (Conv3D)           (None, 2, 10, 21, 256)    1769728   \n",
            "                                                                 \n",
            " batch_normalization_3 (Batc  (None, 2, 10, 21, 256)   1024      \n",
            " hNormalization)                                                 \n",
            "                                                                 \n",
            " activation_3 (Activation)   (None, 2, 10, 21, 256)    0         \n",
            "                                                                 \n",
            " max_pooling3d_3 (MaxPooling  (None, 1, 5, 10, 256)    0         \n",
            " 3D)                                                             \n",
            "                                                                 \n",
            " flatten (Flatten)           (None, 12800)             0         \n",
            "                                                                 \n",
            " dropout (Dropout)           (None, 12800)             0         \n",
            "                                                                 \n",
            " dense (Dense)               (None, 512)               6554112   \n",
            "                                                                 \n",
            " dropout_1 (Dropout)         (None, 512)               0         \n",
            "                                                                 \n",
            " dense_1 (Dense)             (None, 5)                 2565      \n",
            "                                                                 \n",
            "=================================================================\n",
            "Total params: 9,440,773\n",
            "Trainable params: 9,439,365\n",
            "Non-trainable params: 1,408\n",
            "_________________________________________________________________\n",
            "None\n"
          ]
        }
      ],
      "source": [
        "optimiser = tf.keras.optimizers.SGD(lr=0.001, decay=1e-6, momentum=0.9, nesterov=True)\n",
        "model.compile(optimizer=optimiser, loss='categorical_crossentropy', metrics=['categorical_accuracy'])\n",
        "print (model.summary())"
      ]
    },
    {
      "cell_type": "code",
      "execution_count": 15,
      "metadata": {
        "id": "ylGxjhZonspL",
        "colab": {
          "base_uri": "https://localhost:8080/"
        },
        "outputId": "cbc4ff16-1fee-4b16-e120-7eca7fc82fb5"
      },
      "outputs": [
        {
          "output_type": "stream",
          "name": "stdout",
          "text": [
            "Source path =  /content/Project_data/train ; batch size = 64\n",
            "Epoch 1/50\n",
            "11/11 [==============================] - ETA: 0s - loss: 4.8293 - categorical_accuracy: 0.2846Source path =  /content/Project_data/val ; batch size = 64\n",
            "\n",
            "Epoch 1: saving model to model_init_2022-12-1301_29_53.471139/model-00001-4.82932-0.28458-30.37048-0.19444.h5\n",
            "11/11 [==============================] - 77s 6s/step - loss: 4.8293 - categorical_accuracy: 0.2846 - val_loss: 30.3705 - val_categorical_accuracy: 0.1944 - lr: 0.0010\n",
            "Epoch 2/50\n",
            "11/11 [==============================] - ETA: 0s - loss: 2.8369 - categorical_accuracy: 0.3794\n",
            "Epoch 2: saving model to model_init_2022-12-1301_29_53.471139/model-00002-2.83691-0.37945-49.96278-0.22222.h5\n",
            "11/11 [==============================] - 62s 6s/step - loss: 2.8369 - categorical_accuracy: 0.3794 - val_loss: 49.9628 - val_categorical_accuracy: 0.2222 - lr: 0.0010\n",
            "Epoch 3/50\n",
            "11/11 [==============================] - ETA: 0s - loss: 2.5473 - categorical_accuracy: 0.4704\n",
            "Epoch 3: saving model to model_init_2022-12-1301_29_53.471139/model-00003-2.54734-0.47036-39.84322-0.19444.h5\n",
            "\n",
            "Epoch 3: ReduceLROnPlateau reducing learning rate to 0.0005000000237487257.\n",
            "11/11 [==============================] - 61s 6s/step - loss: 2.5473 - categorical_accuracy: 0.4704 - val_loss: 39.8432 - val_categorical_accuracy: 0.1944 - lr: 0.0010\n",
            "Epoch 4/50\n",
            "11/11 [==============================] - ETA: 0s - loss: 1.9533 - categorical_accuracy: 0.4980\n",
            "Epoch 4: saving model to model_init_2022-12-1301_29_53.471139/model-00004-1.95331-0.49802-29.47854-0.29167.h5\n",
            "11/11 [==============================] - 65s 6s/step - loss: 1.9533 - categorical_accuracy: 0.4980 - val_loss: 29.4785 - val_categorical_accuracy: 0.2917 - lr: 5.0000e-04\n",
            "Epoch 5/50\n",
            "11/11 [==============================] - ETA: 0s - loss: 1.7598 - categorical_accuracy: 0.5375\n",
            "Epoch 5: saving model to model_init_2022-12-1301_29_53.471139/model-00005-1.75976-0.53755-16.24179-0.20833.h5\n",
            "11/11 [==============================] - 67s 7s/step - loss: 1.7598 - categorical_accuracy: 0.5375 - val_loss: 16.2418 - val_categorical_accuracy: 0.2083 - lr: 5.0000e-04\n",
            "Epoch 6/50\n",
            "11/11 [==============================] - ETA: 0s - loss: 1.2977 - categorical_accuracy: 0.5375\n",
            "Epoch 6: saving model to model_init_2022-12-1301_29_53.471139/model-00006-1.29770-0.53755-13.83346-0.19444.h5\n",
            "11/11 [==============================] - 61s 6s/step - loss: 1.2977 - categorical_accuracy: 0.5375 - val_loss: 13.8335 - val_categorical_accuracy: 0.1944 - lr: 5.0000e-04\n",
            "Epoch 7/50\n",
            "11/11 [==============================] - ETA: 0s - loss: 1.1562 - categorical_accuracy: 0.5850\n",
            "Epoch 7: saving model to model_init_2022-12-1301_29_53.471139/model-00007-1.15623-0.58498-7.71087-0.27778.h5\n",
            "11/11 [==============================] - 68s 7s/step - loss: 1.1562 - categorical_accuracy: 0.5850 - val_loss: 7.7109 - val_categorical_accuracy: 0.2778 - lr: 5.0000e-04\n",
            "Epoch 8/50\n",
            "11/11 [==============================] - ETA: 0s - loss: 1.3622 - categorical_accuracy: 0.5573\n",
            "Epoch 8: saving model to model_init_2022-12-1301_29_53.471139/model-00008-1.36216-0.55731-7.79903-0.26389.h5\n",
            "11/11 [==============================] - 65s 6s/step - loss: 1.3622 - categorical_accuracy: 0.5573 - val_loss: 7.7990 - val_categorical_accuracy: 0.2639 - lr: 5.0000e-04\n",
            "Epoch 9/50\n",
            "11/11 [==============================] - ETA: 0s - loss: 1.2628 - categorical_accuracy: 0.5613\n",
            "Epoch 9: saving model to model_init_2022-12-1301_29_53.471139/model-00009-1.26277-0.56126-6.01976-0.29167.h5\n",
            "11/11 [==============================] - 67s 7s/step - loss: 1.2628 - categorical_accuracy: 0.5613 - val_loss: 6.0198 - val_categorical_accuracy: 0.2917 - lr: 5.0000e-04\n",
            "Epoch 10/50\n",
            "11/11 [==============================] - ETA: 0s - loss: 1.1331 - categorical_accuracy: 0.5850\n",
            "Epoch 10: saving model to model_init_2022-12-1301_29_53.471139/model-00010-1.13308-0.58498-4.33571-0.29167.h5\n",
            "11/11 [==============================] - 61s 6s/step - loss: 1.1331 - categorical_accuracy: 0.5850 - val_loss: 4.3357 - val_categorical_accuracy: 0.2917 - lr: 5.0000e-04\n",
            "Epoch 11/50\n",
            "11/11 [==============================] - ETA: 0s - loss: 1.0315 - categorical_accuracy: 0.6522\n",
            "Epoch 11: saving model to model_init_2022-12-1301_29_53.471139/model-00011-1.03145-0.65217-3.84759-0.25000.h5\n",
            "11/11 [==============================] - 61s 6s/step - loss: 1.0315 - categorical_accuracy: 0.6522 - val_loss: 3.8476 - val_categorical_accuracy: 0.2500 - lr: 5.0000e-04\n",
            "Epoch 12/50\n",
            "11/11 [==============================] - ETA: 0s - loss: 1.0667 - categorical_accuracy: 0.5929\n",
            "Epoch 12: saving model to model_init_2022-12-1301_29_53.471139/model-00012-1.06675-0.59289-2.84429-0.26389.h5\n",
            "11/11 [==============================] - 64s 6s/step - loss: 1.0667 - categorical_accuracy: 0.5929 - val_loss: 2.8443 - val_categorical_accuracy: 0.2639 - lr: 5.0000e-04\n",
            "Epoch 13/50\n",
            "11/11 [==============================] - ETA: 0s - loss: 1.0350 - categorical_accuracy: 0.5810\n",
            "Epoch 13: saving model to model_init_2022-12-1301_29_53.471139/model-00013-1.03496-0.58103-2.75796-0.33333.h5\n",
            "11/11 [==============================] - 67s 7s/step - loss: 1.0350 - categorical_accuracy: 0.5810 - val_loss: 2.7580 - val_categorical_accuracy: 0.3333 - lr: 5.0000e-04\n",
            "Epoch 14/50\n",
            "11/11 [==============================] - ETA: 0s - loss: 1.0213 - categorical_accuracy: 0.5929\n",
            "Epoch 14: saving model to model_init_2022-12-1301_29_53.471139/model-00014-1.02131-0.59289-2.07877-0.38889.h5\n",
            "11/11 [==============================] - 61s 6s/step - loss: 1.0213 - categorical_accuracy: 0.5929 - val_loss: 2.0788 - val_categorical_accuracy: 0.3889 - lr: 5.0000e-04\n",
            "Epoch 15/50\n",
            "11/11 [==============================] - ETA: 0s - loss: 0.9275 - categorical_accuracy: 0.6443\n",
            "Epoch 15: saving model to model_init_2022-12-1301_29_53.471139/model-00015-0.92755-0.64427-1.12942-0.56944.h5\n",
            "11/11 [==============================] - 65s 6s/step - loss: 0.9275 - categorical_accuracy: 0.6443 - val_loss: 1.1294 - val_categorical_accuracy: 0.5694 - lr: 5.0000e-04\n",
            "Epoch 16/50\n",
            "11/11 [==============================] - ETA: 0s - loss: 0.8591 - categorical_accuracy: 0.6759\n",
            "Epoch 16: saving model to model_init_2022-12-1301_29_53.471139/model-00016-0.85905-0.67589-1.61448-0.52778.h5\n",
            "11/11 [==============================] - 57s 6s/step - loss: 0.8591 - categorical_accuracy: 0.6759 - val_loss: 1.6145 - val_categorical_accuracy: 0.5278 - lr: 5.0000e-04\n",
            "Epoch 17/50\n",
            "11/11 [==============================] - ETA: 0s - loss: 0.8648 - categorical_accuracy: 0.6917\n",
            "Epoch 17: saving model to model_init_2022-12-1301_29_53.471139/model-00017-0.86478-0.69170-1.32032-0.59722.h5\n",
            "\n",
            "Epoch 17: ReduceLROnPlateau reducing learning rate to 0.0002500000118743628.\n",
            "11/11 [==============================] - 62s 6s/step - loss: 0.8648 - categorical_accuracy: 0.6917 - val_loss: 1.3203 - val_categorical_accuracy: 0.5972 - lr: 5.0000e-04\n",
            "Epoch 18/50\n",
            "11/11 [==============================] - ETA: 0s - loss: 0.9295 - categorical_accuracy: 0.6759\n",
            "Epoch 18: saving model to model_init_2022-12-1301_29_53.471139/model-00018-0.92951-0.67589-0.99033-0.59722.h5\n",
            "11/11 [==============================] - 68s 7s/step - loss: 0.9295 - categorical_accuracy: 0.6759 - val_loss: 0.9903 - val_categorical_accuracy: 0.5972 - lr: 2.5000e-04\n",
            "Epoch 19/50\n",
            "11/11 [==============================] - ETA: 0s - loss: 0.8267 - categorical_accuracy: 0.6680\n",
            "Epoch 19: saving model to model_init_2022-12-1301_29_53.471139/model-00019-0.82669-0.66798-0.92899-0.66667.h5\n",
            "11/11 [==============================] - 69s 7s/step - loss: 0.8267 - categorical_accuracy: 0.6680 - val_loss: 0.9290 - val_categorical_accuracy: 0.6667 - lr: 2.5000e-04\n",
            "Epoch 20/50\n",
            "11/11 [==============================] - ETA: 0s - loss: 0.8632 - categorical_accuracy: 0.6877\n",
            "Epoch 20: saving model to model_init_2022-12-1301_29_53.471139/model-00020-0.86316-0.68775-0.82147-0.63889.h5\n",
            "11/11 [==============================] - 63s 6s/step - loss: 0.8632 - categorical_accuracy: 0.6877 - val_loss: 0.8215 - val_categorical_accuracy: 0.6389 - lr: 2.5000e-04\n",
            "Epoch 21/50\n",
            "11/11 [==============================] - ETA: 0s - loss: 0.8337 - categorical_accuracy: 0.6759\n",
            "Epoch 21: saving model to model_init_2022-12-1301_29_53.471139/model-00021-0.83368-0.67589-1.05416-0.55556.h5\n",
            "11/11 [==============================] - 62s 6s/step - loss: 0.8337 - categorical_accuracy: 0.6759 - val_loss: 1.0542 - val_categorical_accuracy: 0.5556 - lr: 2.5000e-04\n",
            "Epoch 22/50\n",
            "11/11 [==============================] - ETA: 0s - loss: 0.7949 - categorical_accuracy: 0.7312\n",
            "Epoch 22: saving model to model_init_2022-12-1301_29_53.471139/model-00022-0.79491-0.73123-0.69032-0.77778.h5\n",
            "11/11 [==============================] - 62s 6s/step - loss: 0.7949 - categorical_accuracy: 0.7312 - val_loss: 0.6903 - val_categorical_accuracy: 0.7778 - lr: 2.5000e-04\n",
            "Epoch 23/50\n",
            "11/11 [==============================] - ETA: 0s - loss: 0.6516 - categorical_accuracy: 0.7787\n",
            "Epoch 23: saving model to model_init_2022-12-1301_29_53.471139/model-00023-0.65160-0.77866-0.71730-0.73611.h5\n",
            "11/11 [==============================] - 63s 6s/step - loss: 0.6516 - categorical_accuracy: 0.7787 - val_loss: 0.7173 - val_categorical_accuracy: 0.7361 - lr: 2.5000e-04\n",
            "Epoch 24/50\n",
            "11/11 [==============================] - ETA: 0s - loss: 0.8629 - categorical_accuracy: 0.7233\n",
            "Epoch 24: saving model to model_init_2022-12-1301_29_53.471139/model-00024-0.86285-0.72332-0.77870-0.66667.h5\n",
            "\n",
            "Epoch 24: ReduceLROnPlateau reducing learning rate to 0.0001250000059371814.\n",
            "11/11 [==============================] - 64s 6s/step - loss: 0.8629 - categorical_accuracy: 0.7233 - val_loss: 0.7787 - val_categorical_accuracy: 0.6667 - lr: 2.5000e-04\n",
            "Epoch 25/50\n",
            "11/11 [==============================] - ETA: 0s - loss: 0.8399 - categorical_accuracy: 0.6838\n",
            "Epoch 25: saving model to model_init_2022-12-1301_29_53.471139/model-00025-0.83990-0.68379-0.68594-0.73611.h5\n",
            "11/11 [==============================] - 63s 6s/step - loss: 0.8399 - categorical_accuracy: 0.6838 - val_loss: 0.6859 - val_categorical_accuracy: 0.7361 - lr: 1.2500e-04\n",
            "Epoch 26/50\n",
            "11/11 [==============================] - ETA: 0s - loss: 0.5636 - categorical_accuracy: 0.7787\n",
            "Epoch 26: saving model to model_init_2022-12-1301_29_53.471139/model-00026-0.56359-0.77866-0.92863-0.61111.h5\n",
            "11/11 [==============================] - 67s 7s/step - loss: 0.5636 - categorical_accuracy: 0.7787 - val_loss: 0.9286 - val_categorical_accuracy: 0.6111 - lr: 1.2500e-04\n",
            "Epoch 27/50\n",
            "11/11 [==============================] - ETA: 0s - loss: 0.6732 - categorical_accuracy: 0.7352\n",
            "Epoch 27: saving model to model_init_2022-12-1301_29_53.471139/model-00027-0.67316-0.73518-0.74039-0.69444.h5\n",
            "\n",
            "Epoch 27: ReduceLROnPlateau reducing learning rate to 6.25000029685907e-05.\n",
            "11/11 [==============================] - 63s 6s/step - loss: 0.6732 - categorical_accuracy: 0.7352 - val_loss: 0.7404 - val_categorical_accuracy: 0.6944 - lr: 1.2500e-04\n",
            "Epoch 28/50\n",
            "11/11 [==============================] - ETA: 0s - loss: 0.7801 - categorical_accuracy: 0.7115\n",
            "Epoch 28: saving model to model_init_2022-12-1301_29_53.471139/model-00028-0.78005-0.71146-0.72980-0.70833.h5\n",
            "11/11 [==============================] - 63s 6s/step - loss: 0.7801 - categorical_accuracy: 0.7115 - val_loss: 0.7298 - val_categorical_accuracy: 0.7083 - lr: 6.2500e-05\n",
            "Epoch 29/50\n",
            "11/11 [==============================] - ETA: 0s - loss: 0.7414 - categorical_accuracy: 0.7194\n",
            "Epoch 29: saving model to model_init_2022-12-1301_29_53.471139/model-00029-0.74136-0.71937-0.49275-0.80556.h5\n",
            "11/11 [==============================] - 64s 6s/step - loss: 0.7414 - categorical_accuracy: 0.7194 - val_loss: 0.4928 - val_categorical_accuracy: 0.8056 - lr: 6.2500e-05\n",
            "Epoch 30/50\n",
            "11/11 [==============================] - ETA: 0s - loss: 0.7506 - categorical_accuracy: 0.7352\n",
            "Epoch 30: saving model to model_init_2022-12-1301_29_53.471139/model-00030-0.75060-0.73518-0.75265-0.73611.h5\n",
            "11/11 [==============================] - 62s 6s/step - loss: 0.7506 - categorical_accuracy: 0.7352 - val_loss: 0.7526 - val_categorical_accuracy: 0.7361 - lr: 6.2500e-05\n",
            "Epoch 31/50\n",
            "11/11 [==============================] - ETA: 0s - loss: 0.8358 - categorical_accuracy: 0.6877\n",
            "Epoch 31: saving model to model_init_2022-12-1301_29_53.471139/model-00031-0.83584-0.68775-0.74676-0.73611.h5\n",
            "\n",
            "Epoch 31: ReduceLROnPlateau reducing learning rate to 3.125000148429535e-05.\n",
            "11/11 [==============================] - 66s 7s/step - loss: 0.8358 - categorical_accuracy: 0.6877 - val_loss: 0.7468 - val_categorical_accuracy: 0.7361 - lr: 6.2500e-05\n",
            "Epoch 32/50\n",
            "11/11 [==============================] - ETA: 0s - loss: 0.6388 - categorical_accuracy: 0.7431\n",
            "Epoch 32: saving model to model_init_2022-12-1301_29_53.471139/model-00032-0.63878-0.74308-0.50819-0.79167.h5\n",
            "11/11 [==============================] - 63s 6s/step - loss: 0.6388 - categorical_accuracy: 0.7431 - val_loss: 0.5082 - val_categorical_accuracy: 0.7917 - lr: 3.1250e-05\n",
            "Epoch 33/50\n",
            "11/11 [==============================] - ETA: 0s - loss: 0.5927 - categorical_accuracy: 0.7787\n",
            "Epoch 33: saving model to model_init_2022-12-1301_29_53.471139/model-00033-0.59272-0.77866-0.61769-0.69444.h5\n",
            "\n",
            "Epoch 33: ReduceLROnPlateau reducing learning rate to 1.5625000742147677e-05.\n",
            "11/11 [==============================] - 64s 6s/step - loss: 0.5927 - categorical_accuracy: 0.7787 - val_loss: 0.6177 - val_categorical_accuracy: 0.6944 - lr: 3.1250e-05\n",
            "Epoch 34/50\n",
            "11/11 [==============================] - ETA: 0s - loss: 0.7186 - categorical_accuracy: 0.7510\n",
            "Epoch 34: saving model to model_init_2022-12-1301_29_53.471139/model-00034-0.71860-0.75099-0.48786-0.80556.h5\n",
            "11/11 [==============================] - 60s 6s/step - loss: 0.7186 - categorical_accuracy: 0.7510 - val_loss: 0.4879 - val_categorical_accuracy: 0.8056 - lr: 1.5625e-05\n",
            "Epoch 35/50\n",
            "11/11 [==============================] - ETA: 0s - loss: 0.8197 - categorical_accuracy: 0.7036\n",
            "Epoch 35: saving model to model_init_2022-12-1301_29_53.471139/model-00035-0.81971-0.70356-0.57547-0.73611.h5\n",
            "11/11 [==============================] - 66s 7s/step - loss: 0.8197 - categorical_accuracy: 0.7036 - val_loss: 0.5755 - val_categorical_accuracy: 0.7361 - lr: 1.5625e-05\n",
            "Epoch 36/50\n",
            "11/11 [==============================] - ETA: 0s - loss: 0.6754 - categorical_accuracy: 0.7510\n",
            "Epoch 36: saving model to model_init_2022-12-1301_29_53.471139/model-00036-0.67536-0.75099-0.67076-0.76389.h5\n",
            "\n",
            "Epoch 36: ReduceLROnPlateau reducing learning rate to 1e-05.\n",
            "11/11 [==============================] - 66s 6s/step - loss: 0.6754 - categorical_accuracy: 0.7510 - val_loss: 0.6708 - val_categorical_accuracy: 0.7639 - lr: 1.5625e-05\n",
            "Epoch 37/50\n",
            "11/11 [==============================] - ETA: 0s - loss: 0.7819 - categorical_accuracy: 0.6996\n",
            "Epoch 37: saving model to model_init_2022-12-1301_29_53.471139/model-00037-0.78191-0.69960-0.63265-0.73611.h5\n",
            "11/11 [==============================] - 62s 6s/step - loss: 0.7819 - categorical_accuracy: 0.6996 - val_loss: 0.6327 - val_categorical_accuracy: 0.7361 - lr: 1.0000e-05\n",
            "Epoch 38/50\n",
            "11/11 [==============================] - ETA: 0s - loss: 0.6577 - categorical_accuracy: 0.7431\n",
            "Epoch 38: saving model to model_init_2022-12-1301_29_53.471139/model-00038-0.65773-0.74308-0.62458-0.77778.h5\n",
            "11/11 [==============================] - 65s 6s/step - loss: 0.6577 - categorical_accuracy: 0.7431 - val_loss: 0.6246 - val_categorical_accuracy: 0.7778 - lr: 1.0000e-05\n",
            "Epoch 39/50\n",
            "11/11 [==============================] - ETA: 0s - loss: 0.7516 - categorical_accuracy: 0.7233\n",
            "Epoch 39: saving model to model_init_2022-12-1301_29_53.471139/model-00039-0.75157-0.72332-0.69907-0.73611.h5\n",
            "11/11 [==============================] - 69s 7s/step - loss: 0.7516 - categorical_accuracy: 0.7233 - val_loss: 0.6991 - val_categorical_accuracy: 0.7361 - lr: 1.0000e-05\n",
            "Epoch 40/50\n",
            "11/11 [==============================] - ETA: 0s - loss: 0.6398 - categorical_accuracy: 0.7510\n",
            "Epoch 40: saving model to model_init_2022-12-1301_29_53.471139/model-00040-0.63981-0.75099-0.43030-0.83333.h5\n",
            "11/11 [==============================] - 67s 7s/step - loss: 0.6398 - categorical_accuracy: 0.7510 - val_loss: 0.4303 - val_categorical_accuracy: 0.8333 - lr: 1.0000e-05\n",
            "Epoch 41/50\n",
            "11/11 [==============================] - ETA: 0s - loss: 0.5536 - categorical_accuracy: 0.8024\n",
            "Epoch 41: saving model to model_init_2022-12-1301_29_53.471139/model-00041-0.55361-0.80237-0.57826-0.80556.h5\n",
            "11/11 [==============================] - 63s 6s/step - loss: 0.5536 - categorical_accuracy: 0.8024 - val_loss: 0.5783 - val_categorical_accuracy: 0.8056 - lr: 1.0000e-05\n",
            "Epoch 42/50\n",
            "11/11 [==============================] - ETA: 0s - loss: 0.7495 - categorical_accuracy: 0.7075\n",
            "Epoch 42: saving model to model_init_2022-12-1301_29_53.471139/model-00042-0.74954-0.70751-0.76779-0.73611.h5\n",
            "11/11 [==============================] - 61s 6s/step - loss: 0.7495 - categorical_accuracy: 0.7075 - val_loss: 0.7678 - val_categorical_accuracy: 0.7361 - lr: 1.0000e-05\n",
            "Epoch 43/50\n",
            "11/11 [==============================] - ETA: 0s - loss: 0.5832 - categorical_accuracy: 0.7787\n",
            "Epoch 43: saving model to model_init_2022-12-1301_29_53.471139/model-00043-0.58316-0.77866-0.67997-0.75000.h5\n",
            "11/11 [==============================] - 63s 6s/step - loss: 0.5832 - categorical_accuracy: 0.7787 - val_loss: 0.6800 - val_categorical_accuracy: 0.7500 - lr: 1.0000e-05\n",
            "Epoch 44/50\n",
            "11/11 [==============================] - ETA: 0s - loss: 0.6581 - categorical_accuracy: 0.7708\n",
            "Epoch 44: saving model to model_init_2022-12-1301_29_53.471139/model-00044-0.65809-0.77075-0.57748-0.80556.h5\n",
            "11/11 [==============================] - 69s 7s/step - loss: 0.6581 - categorical_accuracy: 0.7708 - val_loss: 0.5775 - val_categorical_accuracy: 0.8056 - lr: 1.0000e-05\n",
            "Epoch 45/50\n",
            "11/11 [==============================] - ETA: 0s - loss: 0.6309 - categorical_accuracy: 0.7391\n",
            "Epoch 45: saving model to model_init_2022-12-1301_29_53.471139/model-00045-0.63092-0.73913-0.70907-0.68056.h5\n",
            "11/11 [==============================] - 59s 6s/step - loss: 0.6309 - categorical_accuracy: 0.7391 - val_loss: 0.7091 - val_categorical_accuracy: 0.6806 - lr: 1.0000e-05\n",
            "Epoch 46/50\n",
            "11/11 [==============================] - ETA: 0s - loss: 0.7696 - categorical_accuracy: 0.7431\n",
            "Epoch 46: saving model to model_init_2022-12-1301_29_53.471139/model-00046-0.76963-0.74308-0.69207-0.75000.h5\n",
            "11/11 [==============================] - 63s 6s/step - loss: 0.7696 - categorical_accuracy: 0.7431 - val_loss: 0.6921 - val_categorical_accuracy: 0.7500 - lr: 1.0000e-05\n",
            "Epoch 47/50\n",
            "11/11 [==============================] - ETA: 0s - loss: 0.7546 - categorical_accuracy: 0.7194\n",
            "Epoch 47: saving model to model_init_2022-12-1301_29_53.471139/model-00047-0.75458-0.71937-0.74771-0.72222.h5\n",
            "11/11 [==============================] - 65s 6s/step - loss: 0.7546 - categorical_accuracy: 0.7194 - val_loss: 0.7477 - val_categorical_accuracy: 0.7222 - lr: 1.0000e-05\n",
            "Epoch 48/50\n",
            "11/11 [==============================] - ETA: 0s - loss: 0.6700 - categorical_accuracy: 0.7510\n",
            "Epoch 48: saving model to model_init_2022-12-1301_29_53.471139/model-00048-0.66998-0.75099-0.65054-0.72222.h5\n",
            "11/11 [==============================] - 69s 7s/step - loss: 0.6700 - categorical_accuracy: 0.7510 - val_loss: 0.6505 - val_categorical_accuracy: 0.7222 - lr: 1.0000e-05\n",
            "Epoch 49/50\n",
            "11/11 [==============================] - ETA: 0s - loss: 0.7370 - categorical_accuracy: 0.7391\n",
            "Epoch 49: saving model to model_init_2022-12-1301_29_53.471139/model-00049-0.73701-0.73913-0.61065-0.75000.h5\n",
            "11/11 [==============================] - 61s 6s/step - loss: 0.7370 - categorical_accuracy: 0.7391 - val_loss: 0.6106 - val_categorical_accuracy: 0.7500 - lr: 1.0000e-05\n",
            "Epoch 50/50\n",
            "11/11 [==============================] - ETA: 0s - loss: 0.6956 - categorical_accuracy: 0.7391\n",
            "Epoch 50: saving model to model_init_2022-12-1301_29_53.471139/model-00050-0.69563-0.73913-0.72266-0.66667.h5\n",
            "11/11 [==============================] - 71s 7s/step - loss: 0.6956 - categorical_accuracy: 0.7391 - val_loss: 0.7227 - val_categorical_accuracy: 0.6667 - lr: 1.0000e-05\n"
          ]
        }
      ],
      "source": [
        "history = model.fit(train_generator, steps_per_epoch = steps_per_epoch, epochs=num_epochs, verbose=1, \n",
        "                    callbacks=callbacks_list, validation_data=val_generator, \n",
        "                    validation_steps= validation_steps, class_weight=None, workers=1, initial_epoch=0)"
      ]
    },
    {
      "cell_type": "code",
      "execution_count": 16,
      "metadata": {
        "id": "jmL3JHllnspL",
        "colab": {
          "base_uri": "https://localhost:8080/",
          "height": 283
        },
        "outputId": "e999048e-302b-4ec4-e738-f17a435d5d7b"
      },
      "outputs": [
        {
          "output_type": "execute_result",
          "data": {
            "text/plain": [
              "<matplotlib.legend.Legend at 0x7fb0fa381970>"
            ]
          },
          "metadata": {},
          "execution_count": 16
        },
        {
          "output_type": "display_data",
          "data": {
            "text/plain": [
              "<Figure size 1152x288 with 2 Axes>"
            ],
            "image/png": "[encoded data removed]"
          },
          "metadata": {
            "needs_background": "light"
          }
        }
      ],
      "source": [
        "fig, axes = plt.subplots(nrows=1, ncols=2, figsize=(16,4))\n",
        "axes[0].plot(history.history['categorical_accuracy'])   \n",
        "axes[0].plot(history.history['val_categorical_accuracy'])\n",
        "axes[0].legend(['categorical_accuracy','val_categorical_accuracy'])\n",
        "\n",
        "axes[1].plot(history.history['loss'])   \n",
        "axes[1].plot(history.history['val_loss'])\n",
        "axes[1].legend(['loss','val_loss'])"
      ]
    },
    {
      "cell_type": "code",
      "source": [],
      "metadata": {
        "id": "ogRhhiOGVCim"
      },
      "execution_count": null,
      "outputs": []
    }
  ],
  "metadata": {
    "colab": {
      "provenance": []
    },
    "gpuClass": "standard",
    "kernelspec": {
      "display_name": "Python 3 (ipykernel)",
      "language": "python",
      "name": "python3"
    },
    "language_info": {
      "codemirror_mode": {
        "name": "ipython",
        "version": 3
      },
      "file_extension": ".py",
      "mimetype": "text/x-python",
      "name": "python",
      "nbconvert_exporter": "python",
      "pygments_lexer": "ipython3",
      "version": "3.8.10"
    },
    "accelerator": "GPU"
  },
  "nbformat": 4,
  "nbformat_minor": 0
}